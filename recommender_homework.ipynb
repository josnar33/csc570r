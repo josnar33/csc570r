{
 "cells": [
  {
   "cell_type": "code",
   "execution_count": 102,
   "metadata": {
    "collapsed": false
   },
   "outputs": [],
   "source": [
    "import pandas as pd\n",
    "import numpy as np"
   ]
  },
  {
   "cell_type": "code",
   "execution_count": 103,
   "metadata": {
    "collapsed": false
   },
   "outputs": [],
   "source": [
    "#download the class movie reviews from here:\n",
    "#https://docs.google.com/spreadsheets/d/17rCJzmWxqvAu9rkpkgt4ToccIlY4A1Ffuu1W9X3B8Ag/\n",
    "#then read that in as a pandas dataframe"
   ]
  },
  {
   "cell_type": "code",
   "execution_count": 104,
   "metadata": {
    "collapsed": false
   },
   "outputs": [],
   "source": [
    "M = pd.read_csv(\"Movie_Reviews.csv\", index_col='Name')"
   ]
  },
  {
   "cell_type": "code",
   "execution_count": 105,
   "metadata": {
    "collapsed": false
   },
   "outputs": [
    {
     "data": {
      "text/html": [
       "<div>\n",
       "<table border=\"1\" class=\"dataframe\">\n",
       "  <thead>\n",
       "    <tr style=\"text-align: right;\">\n",
       "      <th></th>\n",
       "      <th>American Sniper</th>\n",
       "      <th>The Hunger Games: Mockingjay - Part 1</th>\n",
       "      <th>Guardians of the Galaxy</th>\n",
       "      <th>The Lego Movie</th>\n",
       "      <th>The Hobbit</th>\n",
       "      <th>Transformers</th>\n",
       "      <th>Malificent</th>\n",
       "      <th>Big Hero 6</th>\n",
       "      <th>Godzilla</th>\n",
       "      <th>Interstellar</th>\n",
       "      <th>How to Train your Dragon 2</th>\n",
       "      <th>Gone Girl</th>\n",
       "      <th>Divergent</th>\n",
       "      <th>The Fault in Our Stars</th>\n",
       "      <th>Unbroken</th>\n",
       "      <th>300: Rise of an Empire</th>\n",
       "    </tr>\n",
       "    <tr>\n",
       "      <th>Name</th>\n",
       "      <th></th>\n",
       "      <th></th>\n",
       "      <th></th>\n",
       "      <th></th>\n",
       "      <th></th>\n",
       "      <th></th>\n",
       "      <th></th>\n",
       "      <th></th>\n",
       "      <th></th>\n",
       "      <th></th>\n",
       "      <th></th>\n",
       "      <th></th>\n",
       "      <th></th>\n",
       "      <th></th>\n",
       "      <th></th>\n",
       "      <th></th>\n",
       "    </tr>\n",
       "  </thead>\n",
       "  <tbody>\n",
       "    <tr>\n",
       "      <th>Aarti Jaiswal</th>\n",
       "      <td>4</td>\n",
       "      <td>NaN</td>\n",
       "      <td>NaN</td>\n",
       "      <td>NaN</td>\n",
       "      <td>4</td>\n",
       "      <td>3</td>\n",
       "      <td>NaN</td>\n",
       "      <td>5</td>\n",
       "      <td>NaN</td>\n",
       "      <td>NaN</td>\n",
       "      <td>NaN</td>\n",
       "      <td>4</td>\n",
       "      <td>NaN</td>\n",
       "      <td>NaN</td>\n",
       "      <td>NaN</td>\n",
       "      <td>NaN</td>\n",
       "    </tr>\n",
       "    <tr>\n",
       "      <th>Aditya Dharmasagar</th>\n",
       "      <td>5</td>\n",
       "      <td>NaN</td>\n",
       "      <td>NaN</td>\n",
       "      <td>4</td>\n",
       "      <td>5</td>\n",
       "      <td>4</td>\n",
       "      <td>4</td>\n",
       "      <td>NaN</td>\n",
       "      <td>4</td>\n",
       "      <td>5</td>\n",
       "      <td>5</td>\n",
       "      <td>5</td>\n",
       "      <td>4</td>\n",
       "      <td>4</td>\n",
       "      <td>NaN</td>\n",
       "      <td>5</td>\n",
       "    </tr>\n",
       "    <tr>\n",
       "      <th>Adrian Cavallaris</th>\n",
       "      <td>NaN</td>\n",
       "      <td>4</td>\n",
       "      <td>3</td>\n",
       "      <td>NaN</td>\n",
       "      <td>4</td>\n",
       "      <td>2</td>\n",
       "      <td>NaN</td>\n",
       "      <td>NaN</td>\n",
       "      <td>NaN</td>\n",
       "      <td>NaN</td>\n",
       "      <td>NaN</td>\n",
       "      <td>NaN</td>\n",
       "      <td>4</td>\n",
       "      <td>NaN</td>\n",
       "      <td>NaN</td>\n",
       "      <td>NaN</td>\n",
       "    </tr>\n",
       "    <tr>\n",
       "      <th>Ahmed Muheebuddin</th>\n",
       "      <td>5</td>\n",
       "      <td>NaN</td>\n",
       "      <td>4</td>\n",
       "      <td>NaN</td>\n",
       "      <td>3</td>\n",
       "      <td>NaN</td>\n",
       "      <td>NaN</td>\n",
       "      <td>NaN</td>\n",
       "      <td>NaN</td>\n",
       "      <td>NaN</td>\n",
       "      <td>NaN</td>\n",
       "      <td>NaN</td>\n",
       "      <td>NaN</td>\n",
       "      <td>NaN</td>\n",
       "      <td>NaN</td>\n",
       "      <td>NaN</td>\n",
       "    </tr>\n",
       "    <tr>\n",
       "      <th>Aishwarya reddy</th>\n",
       "      <td>NaN</td>\n",
       "      <td>3</td>\n",
       "      <td>4</td>\n",
       "      <td>3</td>\n",
       "      <td>4</td>\n",
       "      <td>4</td>\n",
       "      <td>3</td>\n",
       "      <td>NaN</td>\n",
       "      <td>4</td>\n",
       "      <td>4</td>\n",
       "      <td>3</td>\n",
       "      <td>5</td>\n",
       "      <td>NaN</td>\n",
       "      <td>4</td>\n",
       "      <td>NaN</td>\n",
       "      <td>3</td>\n",
       "    </tr>\n",
       "  </tbody>\n",
       "</table>\n",
       "</div>"
      ],
      "text/plain": [
       "                    American Sniper  The Hunger Games: Mockingjay - Part 1  \\\n",
       "Name                                                                         \n",
       "Aarti Jaiswal                     4                                    NaN   \n",
       "Aditya Dharmasagar                5                                    NaN   \n",
       "Adrian Cavallaris               NaN                                      4   \n",
       "Ahmed Muheebuddin                 5                                    NaN   \n",
       "Aishwarya reddy                 NaN                                      3   \n",
       "\n",
       "                    Guardians of the Galaxy  The Lego Movie  The Hobbit  \\\n",
       "Name                                                                      \n",
       "Aarti Jaiswal                           NaN             NaN           4   \n",
       "Aditya Dharmasagar                      NaN               4           5   \n",
       "Adrian Cavallaris                         3             NaN           4   \n",
       "Ahmed Muheebuddin                         4             NaN           3   \n",
       "Aishwarya reddy                           4               3           4   \n",
       "\n",
       "                    Transformers  Malificent  Big Hero 6  Godzilla  \\\n",
       "Name                                                                 \n",
       "Aarti Jaiswal                  3         NaN           5       NaN   \n",
       "Aditya Dharmasagar             4           4         NaN         4   \n",
       "Adrian Cavallaris              2         NaN         NaN       NaN   \n",
       "Ahmed Muheebuddin            NaN         NaN         NaN       NaN   \n",
       "Aishwarya reddy                4           3         NaN         4   \n",
       "\n",
       "                    Interstellar  How to Train your Dragon 2  Gone Girl  \\\n",
       "Name                                                                      \n",
       "Aarti Jaiswal                NaN                         NaN          4   \n",
       "Aditya Dharmasagar             5                           5          5   \n",
       "Adrian Cavallaris            NaN                         NaN        NaN   \n",
       "Ahmed Muheebuddin            NaN                         NaN        NaN   \n",
       "Aishwarya reddy                4                           3          5   \n",
       "\n",
       "                    Divergent  The Fault in Our Stars  Unbroken  \\\n",
       "Name                                                              \n",
       "Aarti Jaiswal             NaN                     NaN       NaN   \n",
       "Aditya Dharmasagar          4                       4       NaN   \n",
       "Adrian Cavallaris           4                     NaN       NaN   \n",
       "Ahmed Muheebuddin         NaN                     NaN       NaN   \n",
       "Aishwarya reddy           NaN                       4       NaN   \n",
       "\n",
       "                    300: Rise of an Empire  \n",
       "Name                                        \n",
       "Aarti Jaiswal                          NaN  \n",
       "Aditya Dharmasagar                       5  \n",
       "Adrian Cavallaris                      NaN  \n",
       "Ahmed Muheebuddin                      NaN  \n",
       "Aishwarya reddy                          3  "
      ]
     },
     "execution_count": 105,
     "metadata": {},
     "output_type": "execute_result"
    }
   ],
   "source": [
    "M.head()"
   ]
  },
  {
   "cell_type": "code",
   "execution_count": 75,
   "metadata": {
    "collapsed": false
   },
   "outputs": [],
   "source": [
    "def pearson(s1, s2):\n",
    "    \"\"\"Take two pd.Series objects and return a pearson correlation.\"\"\"\n",
    "    s1_c = s1 - s1.mean()\n",
    "    s2_c = s2 - s2.mean()\n",
    "    return np.sum(s1_c * s2_c) / np.sqrt(np.sum(s1_c ** 2) * np.sum(s2_c ** 2))"
   ]
  },
  {
   "cell_type": "code",
   "execution_count": 76,
   "metadata": {
    "collapsed": false
   },
   "outputs": [],
   "source": [
    "def get_recs(movie_name, M, num):\n",
    "\n",
    "    import numpy as np\n",
    "    reviews = []\n",
    "    for title in M.columns:\n",
    "        if title == movie_name:\n",
    "            continue\n",
    "        cor = pearson(M[movie_name], M[title])\n",
    "        if np.isnan(cor):\n",
    "            continue\n",
    "        else:\n",
    "            reviews.append((title, cor))\n",
    "    \n",
    "    reviews.sort(key=lambda tup: tup[1], reverse=True)\n",
    "    return reviews[:num]"
   ]
  },
  {
   "cell_type": "markdown",
   "metadata": {},
   "source": [
    "###Question 1:  What movie is most Similar to 'The fault in our stars' (60 pts)\n"
   ]
  },
  {
   "cell_type": "code",
   "execution_count": 167,
   "metadata": {
    "collapsed": false
   },
   "outputs": [
    {
     "name": "stdout",
     "output_type": "stream",
     "text": [
      "The movie most Similar to 'The fault in out stars' is Malificent with a correlation of 0.429069476065\n"
     ]
    }
   ],
   "source": [
    "x = get_recs('The Fault in Our Stars', M, 1)\n",
    "print \"The movie most Similar to 'The fault in out stars' is\", x[0][0], \"with a correlation of\", x[0][1]"
   ]
  },
  {
   "cell_type": "markdown",
   "metadata": {},
   "source": [
    "###Question 2:  Which movie(s) would you most like to see, based on your classmates experience? (40 pts)"
   ]
  },
  {
   "cell_type": "code",
   "execution_count": 94,
   "metadata": {
    "collapsed": false
   },
   "outputs": [],
   "source": [
    "my_ratings = M.ix['Josna Rajan'].dropna()"
   ]
  },
  {
   "cell_type": "code",
   "execution_count": 96,
   "metadata": {
    "collapsed": true
   },
   "outputs": [],
   "source": [
    "# find my personal favorites, i.e. the list of movies that I rated with 5 stars...\n",
    "ratings = len(my_ratings)\n",
    "max_rating = my_ratings.max()\n",
    "fav_movies = []\n",
    "for i in range(ratings):\n",
    "    if my_ratings[i] == max_rating:\n",
    "        fav_movies.append(my_ratings.index[i])"
   ]
  },
  {
   "cell_type": "code",
   "execution_count": 135,
   "metadata": {
    "collapsed": false
   },
   "outputs": [],
   "source": [
    "# drop my ratings before averaging the ratings given by my friends.\n",
    "friends_ratings = M.drop('Josna Rajan')"
   ]
  },
  {
   "cell_type": "code",
   "execution_count": 144,
   "metadata": {
    "collapsed": false
   },
   "outputs": [],
   "source": [
    "num_of_movies = len(friends_ratings.columns)\n",
    "avg_ratings = dict()\n",
    "for i in range(num_of_movies):\n",
    "    key = friends_ratings.columns[i]\n",
    "    value = friends_ratings[key].mean()\n",
    "    avg_ratings[key] = value"
   ]
  },
  {
   "cell_type": "code",
   "execution_count": 149,
   "metadata": {
    "collapsed": false
   },
   "outputs": [],
   "source": [
    "avg_ratings = sorted(avg_ratings.items(), key=lambda x: x[1], reverse=True)"
   ]
  },
  {
   "cell_type": "code",
   "execution_count": 178,
   "metadata": {
    "collapsed": true
   },
   "outputs": [],
   "source": [
    "# from the average ratings list, remove the movies that I have already watched. the remaining ones would be the ones\n",
    "# i want to see in decreasing order of priority\n",
    "avgs = len(avg_ratings)\n",
    "to_watch = []\n",
    "for i in range(avgs):\n",
    "    if avg_ratings[i][0] not in my_ratings:\n",
    "        to_watch.append(avg_ratings[i])"
   ]
  },
  {
   "cell_type": "code",
   "execution_count": 184,
   "metadata": {
    "collapsed": false
   },
   "outputs": [
    {
     "data": {
      "text/plain": [
       "[('Interstellar', 4.564102564102564),\n",
       " ('Big Hero 6', 4.130434782608695),\n",
       " ('Guardians of the Galaxy', 4.018518518518518),\n",
       " ('Unbroken', 3.727272727272727),\n",
       " ('The Fault in Our Stars', 3.5714285714285716)]"
      ]
     },
     "execution_count": 184,
     "metadata": {},
     "output_type": "execute_result"
    }
   ],
   "source": [
    "# Hence, the top 5 movies that I would like to watch, based on my friends's ratings would be as follows...\n",
    "to_watch[0:5]"
   ]
  },
  {
   "cell_type": "markdown",
   "metadata": {},
   "source": [
    "###Question 3: Bonus Question...  For all the movies you haven't seen, can you predict how you'd rate them using your the class reviews? (10 pts)"
   ]
  },
  {
   "cell_type": "code",
   "execution_count": 214,
   "metadata": {
    "collapsed": false
   },
   "outputs": [],
   "source": [
    "# Ratings for the movies I haven't watched are as follows..."
   ]
  },
  {
   "cell_type": "code",
   "execution_count": 215,
   "metadata": {
    "collapsed": false
   },
   "outputs": [
    {
     "data": {
      "text/plain": [
       "[('Interstellar', 4.564102564102564),\n",
       " ('Big Hero 6', 4.130434782608695),\n",
       " ('Guardians of the Galaxy', 4.018518518518518),\n",
       " ('Unbroken', 3.727272727272727),\n",
       " ('The Fault in Our Stars', 3.5714285714285716),\n",
       " ('Godzilla', 3.4651162790697674),\n",
       " ('The Lego Movie', 3.324324324324324),\n",
       " ('Malificent', 3.303030303030303),\n",
       " ('The Hunger Games: Mockingjay - Part 1', 3.2888888888888888)]"
      ]
     },
     "execution_count": 215,
     "metadata": {},
     "output_type": "execute_result"
    }
   ],
   "source": [
    "to_watch"
   ]
  },
  {
   "cell_type": "code",
   "execution_count": null,
   "metadata": {
    "collapsed": true
   },
   "outputs": [],
   "source": []
  }
 ],
 "metadata": {
  "kernelspec": {
   "display_name": "Python 2",
   "language": "python",
   "name": "python2"
  },
  "language_info": {
   "codemirror_mode": {
    "name": "ipython",
    "version": 2
   },
   "file_extension": ".py",
   "mimetype": "text/x-python",
   "name": "python",
   "nbconvert_exporter": "python",
   "pygments_lexer": "ipython2",
   "version": "2.7.11"
  }
 },
 "nbformat": 4,
 "nbformat_minor": 0
}
