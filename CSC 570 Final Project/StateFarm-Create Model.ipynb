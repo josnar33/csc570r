{
 "cells": [
  {
   "cell_type": "code",
   "execution_count": 3,
   "metadata": {
    "collapsed": false
   },
   "outputs": [
    {
     "name": "stderr",
     "output_type": "stream",
     "text": [
      "INFO: Updating METADATA...\n",
      "INFO: Computing changes...\n",
      "INFO: No packages to install, update or remove\n"
     ]
    }
   ],
   "source": [
    "Pkg.update()"
   ]
  },
  {
   "cell_type": "code",
   "execution_count": 4,
   "metadata": {
    "collapsed": false
   },
   "outputs": [
    {
     "name": "stderr",
     "output_type": "stream",
     "text": [
      "WARNING: New definition \n",
      "    .+(Images.AbstractImageDirect, AbstractArray) at C:\\Users\\cyber\\.julia\\v0.4\\Images\\src\\algorithms.jl:22\n",
      "is ambiguous with: \n",
      "    .+(AbstractArray, Union{DataArrays.PooledDataArray, DataArrays.DataArray}, AbstractArray...) at C:\\Users\\cyber\\.julia\\v0.4\\DataArrays\\src\\broadcast.jl:297.\n",
      "To fix, define \n",
      "    .+(Images.AbstractImageDirect, Union{DataArrays.PooledDataArray, DataArrays.DataArray})\n",
      "before the new definition.\n",
      "WARNING: New definition \n",
      "    +(AbstractArray, Images.AbstractImageDirect) at C:\\Users\\cyber\\.julia\\v0.4\\Images\\src\\algorithms.jl:20\n",
      "is ambiguous with: \n",
      "    +(DataArrays.DataArray, AbstractArray) at C:\\Users\\cyber\\.julia\\v0.4\\DataArrays\\src\\operators.jl:326.\n",
      "To fix, define \n",
      "    +(DataArrays.DataArray, Images.AbstractImageDirect)\n",
      "before the new definition.\n",
      "WARNING: New definition \n",
      "    +(AbstractArray, Images.AbstractImageDirect) at C:\\Users\\cyber\\.julia\\v0.4\\Images\\src\\algorithms.jl:20\n",
      "is ambiguous with: \n",
      "    +(DataArrays.AbstractDataArray, AbstractArray) at C:\\Users\\cyber\\.julia\\v0.4\\DataArrays\\src\\operators.jl:349.\n",
      "To fix, define \n",
      "    +(DataArrays.AbstractDataArray, Images.AbstractImageDirect)\n",
      "before the new definition.\n",
      "WARNING: New definition \n",
      "    .-(Images.AbstractImageDirect, AbstractArray) at C:\\Users\\cyber\\.julia\\v0.4\\Images\\src\\algorithms.jl:40\n",
      "is ambiguous with: \n",
      "    .-(AbstractArray, Union{DataArrays.PooledDataArray, DataArrays.DataArray}) at C:\\Users\\cyber\\.julia\\v0.4\\DataArrays\\src\\broadcast.jl:285.\n",
      "To fix, define \n",
      "    .-(Images.AbstractImageDirect, Union{DataArrays.PooledDataArray, DataArrays.DataArray})\n",
      "before the new definition.\n",
      "WARNING: New definition \n",
      "    .*(Images.AbstractImageDirect, AbstractArray) at C:\\Users\\cyber\\.julia\\v0.4\\Images\\src\\algorithms.jl:51\n",
      "is ambiguous with: \n",
      "    .*(AbstractArray, Union{DataArrays.PooledDataArray, DataArrays.DataArray}, AbstractArray...) at C:\\Users\\cyber\\.julia\\v0.4\\DataArrays\\src\\broadcast.jl:295.\n",
      "To fix, define \n",
      "    .*(Images.AbstractImageDirect, Union{DataArrays.PooledDataArray, DataArrays.DataArray})\n",
      "before the new definition.\n",
      "WARNING: New definition \n",
      "    .*(AbstractArray, Images.AbstractImageDirect) at C:\\Users\\cyber\\.julia\\v0.4\\Images\\src\\algorithms.jl:52\n",
      "is ambiguous with: \n",
      "    .*(Union{DataArrays.PooledDataArray, DataArrays.DataArray}, AbstractArray...) at C:\\Users\\cyber\\.julia\\v0.4\\DataArrays\\src\\broadcast.jl:295.\n",
      "To fix, define \n",
      "    .*(Union{DataArrays.PooledDataArray, DataArrays.DataArray}, Images.AbstractImageDirect)\n",
      "before the new definition.\n",
      "WARNING: New definition \n",
      "    -(Images.AbstractImageDirect, AbstractArray) at C:\\Users\\cyber\\.julia\\v0.4\\Images\\src\\algorithms.jl:35\n",
      "is ambiguous with: \n",
      "    -(AbstractArray, DataArrays.DataArray) at C:\\Users\\cyber\\.julia\\v0.4\\DataArrays\\src\\operators.jl:326.\n",
      "To fix, define \n",
      "    -(Images.AbstractImageDirect, DataArrays.DataArray)\n",
      "before the new definition.\n",
      "WARNING: New definition \n",
      "    -(Images.AbstractImageDirect, AbstractArray) at C:\\Users\\cyber\\.julia\\v0.4\\Images\\src\\algorithms.jl:35\n",
      "is ambiguous with: \n",
      "    -(AbstractArray, DataArrays.AbstractDataArray) at C:\\Users\\cyber\\.julia\\v0.4\\DataArrays\\src\\operators.jl:349.\n",
      "To fix, define \n",
      "    -(Images.AbstractImageDirect, DataArrays.AbstractDataArray)\n",
      "before the new definition.\n",
      "WARNING: New definition \n",
      "    -(AbstractArray, Images.AbstractImageDirect) at C:\\Users\\cyber\\.julia\\v0.4\\Images\\src\\algorithms.jl:37\n",
      "is ambiguous with: \n",
      "    -(DataArrays.DataArray, AbstractArray) at C:\\Users\\cyber\\.julia\\v0.4\\DataArrays\\src\\operators.jl:326.\n",
      "To fix, define \n",
      "    -(DataArrays.DataArray, Images.AbstractImageDirect)\n",
      "before the new definition.\n",
      "WARNING: New definition \n",
      "    -(AbstractArray, Images.AbstractImageDirect) at C:\\Users\\cyber\\.julia\\v0.4\\Images\\src\\algorithms.jl:37\n",
      "is ambiguous with: \n",
      "    -(DataArrays.AbstractDataArray, AbstractArray) at C:\\Users\\cyber\\.julia\\v0.4\\DataArrays\\src\\operators.jl:349.\n",
      "To fix, define \n",
      "    -(DataArrays.AbstractDataArray, Images.AbstractImageDirect)\n",
      "before the new definition.\n",
      "WARNING: New definition \n",
      "    ./(Images.AbstractImageDirect, AbstractArray) at C:\\Users\\cyber\\.julia\\v0.4\\Images\\src\\algorithms.jl:55\n",
      "is ambiguous with: \n",
      "    ./(AbstractArray, Union{DataArrays.PooledDataArray, DataArrays.DataArray}) at C:\\Users\\cyber\\.julia\\v0.4\\DataArrays\\src\\broadcast.jl:285.\n",
      "To fix, define \n",
      "    ./(Images.AbstractImageDirect, Union{DataArrays.PooledDataArray, DataArrays.DataArray})\n",
      "before the new definition.\n",
      "WARNING: New definition \n",
      "    .==(Images.AbstractImageDirect{Bool, N<:Any}, AbstractArray{Bool, N<:Any}) at C:\\Users\\cyber\\.julia\\v0.4\\Images\\src\\algorithms.jl:181\n",
      "is ambiguous with: \n",
      "    .==(AbstractArray{Bool, N<:Any}, Union{DataArrays.DataArray{Bool, N<:Any}, DataArrays.PooledDataArray{Bool, R<:Integer, N<:Any}}) at C:\\Users\\cyber\\.julia\\v0.4\\DataArrays\\src\\broadcast.jl:330.\n",
      "To fix, define \n",
      "    .==(Images.AbstractImageDirect{Bool, N<:Any}, Union{DataArrays.DataArray{Bool, N<:Any}, DataArrays.PooledDataArray{Bool, R<:Integer, N<:Any}})\n",
      "before the new definition.\n",
      "WARNING: New definition \n",
      "    .==(Images.AbstractImageDirect, AbstractArray) at C:\\Users\\cyber\\.julia\\v0.4\\Images\\src\\algorithms.jl:182\n",
      "is ambiguous with: \n",
      "    .==(AbstractArray{Bool, N<:Any}, Union{DataArrays.DataArray{Bool, N<:Any}, DataArrays.PooledDataArray{Bool, R<:Integer, N<:Any}}) at C:\\Users\\cyber\\.julia\\v0.4\\DataArrays\\src\\broadcast.jl:330.\n",
      "To fix, define \n",
      "    .==(Images.AbstractImageDirect{Bool, N<:Any}, Union{DataArrays.DataArray{Bool, N<:Any}, DataArrays.PooledDataArray{Bool, R<:Integer, N<:Any}})\n",
      "before the new definition.\n",
      "WARNING: New definition \n",
      "    .==(Images.AbstractImageDirect, AbstractArray) at C:\\Users\\cyber\\.julia\\v0.4\\Images\\src\\algorithms.jl:182\n",
      "is ambiguous with: \n",
      "    .==(AbstractArray, Union{DataArrays.PooledDataArray, DataArrays.DataArray}) at C:\\Users\\cyber\\.julia\\v0.4\\DataArrays\\src\\broadcast.jl:285.\n",
      "To fix, define \n",
      "    .==(Images.AbstractImageDirect, Union{DataArrays.PooledDataArray, DataArrays.DataArray})\n",
      "before the new definition.\n",
      "WARNING: New definition \n",
      "    .>(Images.AbstractImageDirect, AbstractArray) at C:\\Users\\cyber\\.julia\\v0.4\\Images\\src\\algorithms.jl:179\n",
      "is ambiguous with: \n",
      "    .>(AbstractArray{Bool, N<:Any}, Union{DataArrays.DataArray{Bool, N<:Any}, DataArrays.PooledDataArray{Bool, R<:Integer, N<:Any}}) at C:\\Users\\cyber\\.julia\\v0.4\\DataArrays\\src\\broadcast.jl:330.\n",
      "To fix, define \n",
      "    .>(Images.AbstractImageDirect{Bool, N<:Any}, Union{DataArrays.DataArray{Bool, N<:Any}, DataArrays.PooledDataArray{Bool, R<:Integer, N<:Any}})\n",
      "before the new definition.\n",
      "WARNING: New definition \n",
      "    .>(Images.AbstractImageDirect, AbstractArray) at C:\\Users\\cyber\\.julia\\v0.4\\Images\\src\\algorithms.jl:179\n",
      "is ambiguous with: \n",
      "    .>(AbstractArray, Union{DataArrays.PooledDataArray, DataArrays.DataArray}) at C:\\Users\\cyber\\.julia\\v0.4\\DataArrays\\src\\broadcast.jl:285.\n",
      "To fix, define \n",
      "    .>(Images.AbstractImageDirect, Union{DataArrays.PooledDataArray, DataArrays.DataArray})\n",
      "before the new definition.\n",
      "WARNING: New definition \n",
      "    .<(Images.AbstractImageDirect{Bool, N<:Any}, AbstractArray{Bool, N<:Any}) at C:\\Users\\cyber\\.julia\\v0.4\\Images\\src\\algorithms.jl:177\n",
      "is ambiguous with: \n",
      "    .<(AbstractArray{Bool, N<:Any}, Union{DataArrays.DataArray{Bool, N<:Any}, DataArrays.PooledDataArray{Bool, R<:Integer, N<:Any}}) at C:\\Users\\cyber\\.julia\\v0.4\\DataArrays\\src\\broadcast.jl:330.\n",
      "To fix, define \n",
      "    .<(Images.AbstractImageDirect{Bool, N<:Any}, Union{DataArrays.DataArray{Bool, N<:Any}, DataArrays.PooledDataArray{Bool, R<:Integer, N<:Any}})\n",
      "before the new definition.\n",
      "WARNING: New definition \n",
      "    .<(Images.AbstractImageDirect, AbstractArray) at C:\\Users\\cyber\\.julia\\v0.4\\Images\\src\\algorithms.jl:178\n",
      "is ambiguous with: \n",
      "    .<(AbstractArray{Bool, N<:Any}, Union{DataArrays.DataArray{Bool, N<:Any}, DataArrays.PooledDataArray{Bool, R<:Integer, N<:Any}}) at C:\\Users\\cyber\\.julia\\v0.4\\DataArrays\\src\\broadcast.jl:330.\n",
      "To fix, define \n",
      "    .<(Images.AbstractImageDirect{Bool, N<:Any}, Union{DataArrays.DataArray{Bool, N<:Any}, DataArrays.PooledDataArray{Bool, R<:Integer, N<:Any}})\n",
      "before the new definition.\n",
      "WARNING: New definition \n",
      "    .<(Images.AbstractImageDirect, AbstractArray) at C:\\Users\\cyber\\.julia\\v0.4\\Images\\src\\algorithms.jl:178\n",
      "is ambiguous with: \n",
      "    .<(AbstractArray, Union{DataArrays.PooledDataArray, DataArrays.DataArray}) at C:\\Users\\cyber\\.julia\\v0.4\\DataArrays\\src\\broadcast.jl:285.\n",
      "To fix, define \n",
      "    .<(Images.AbstractImageDirect, Union{DataArrays.PooledDataArray, DataArrays.DataArray})\n",
      "before the new definition.\n",
      "WARNING: New definition \n",
      "    convert(Type{Array{#T<:ColorTypes.Colorant, N<:Any}}, AbstractArray{#S<:Any, #n<:Any}) at C:\\Users\\cyber\\.julia\\v0.4\\Images\\src\\core.jl:396\n",
      "is ambiguous with: \n",
      "    convert(Type{Array{#S<:Any, N<:Any}}, DataArrays.DataArray{#T<:Any, #N<:Any}) at C:\\Users\\cyber\\.julia\\v0.4\\DataArrays\\src\\dataarray.jl:357.\n",
      "To fix, define \n",
      "    convert(Type{Array{#T<:ColorTypes.Colorant, N<:Any}}, DataArrays.DataArray{#T<:Any, #N<:Any})\n",
      "before the new definition.\n",
      "WARNING: Base.String is deprecated, use AbstractString instead.\n",
      "  likely near C:\\Users\\cyber\\.julia\\v0.4\\ImageView\\src\\annotations.jl:43\n",
      "WARNING: Base.String is deprecated, use AbstractString instead.\n",
      "  likely near C:\\Users\\cyber\\.julia\\v0.4\\ImageView\\src\\annotations.jl:43\n",
      "WARNING: Base.String is deprecated, use AbstractString instead.\n",
      "  likely near C:\\Users\\cyber\\.julia\\v0.4\\ImageView\\src\\annotations.jl:61\n",
      "WARNING: Base.String is deprecated, use AbstractString instead.\n",
      "  likely near C:\\Users\\cyber\\.julia\\v0.4\\ImageView\\src\\annotations.jl:61\n",
      "WARNING: Base.String is deprecated, use AbstractString instead.\n",
      "  likely near C:\\Users\\cyber\\.julia\\v0.4\\ImageView\\src\\annotations.jl:61\n",
      "WARNING: Union(args...) is deprecated, use Union{args...} instead.\n",
      " in depwarn at deprecated.jl:73\n",
      " in call at deprecated.jl:50\n",
      " in include at boot.jl:261\n",
      " in include_from_node1 at loading.jl:320\n",
      " in include at boot.jl:261\n",
      " in include_from_node1 at loading.jl:320\n",
      " in require at loading.jl:259\n",
      " in include_string at loading.jl:282\n",
      " in execute_request_0x535c5df2 at C:\\Users\\cyber\\.julia\\v0.4\\IJulia\\src\\execute_request.jl:182\n",
      " in eventloop at C:\\Users\\cyber\\.julia\\v0.4\\IJulia\\src\\IJulia.jl:142\n",
      " in anonymous at task.jl:447\n",
      "while loading C:\\Users\\cyber\\.julia\\v0.4\\ImageView\\src\\annotations.jl, in expression starting on line 96\n",
      "WARNING: Union(args...) is deprecated, use Union{args...} instead.\n",
      " in depwarn at deprecated.jl:73\n",
      " in call at deprecated.jl:50\n",
      " in include at boot.jl:261\n",
      " in include_from_node1 at loading.jl:320\n",
      " in include at boot.jl:261\n",
      " in include_from_node1 at loading.jl:320\n",
      " in require at loading.jl:259\n",
      " in include_string at loading.jl:282\n",
      " in execute_request_0x535c5df2 at C:\\Users\\cyber\\.julia\\v0.4\\IJulia\\src\\execute_request.jl:182\n",
      " in eventloop at C:\\Users\\cyber\\.julia\\v0.4\\IJulia\\src\\IJulia.jl:142\n",
      " in anonymous at task.jl:447\n",
      "while loading C:\\Users\\cyber\\.julia\\v0.4\\ImageView\\src\\annotations.jl, in expression starting on line 96\n",
      "WARNING: Union(args...) is deprecated, use Union{args...} instead.\n",
      " in depwarn at deprecated.jl:73\n",
      " in call at deprecated.jl:50\n",
      " in include at boot.jl:261\n",
      " in include_from_node1 at loading.jl:320\n",
      " in include at boot.jl:261\n",
      " in include_from_node1 at loading.jl:320\n",
      " in require at loading.jl:259\n",
      " in include_string at loading.jl:282\n",
      " in execute_request_0x535c5df2 at C:\\Users\\cyber\\.julia\\v0.4\\IJulia\\src\\execute_request.jl:182\n",
      " in eventloop at C:\\Users\\cyber\\.julia\\v0.4\\IJulia\\src\\IJulia.jl:142\n",
      " in anonymous at task.jl:447\n",
      "while loading C:\\Users\\cyber\\.julia\\v0.4\\ImageView\\src\\annotations.jl, in expression starting on line 154\n",
      "WARNING: requiring \"Dates\" in module \"Winston\" did not define a corresponding module.\n",
      "WARNING: module Winston should explicitly import * from Base\n",
      "WARNING: could not import Images.scaleinfo into ImageView\n",
      "WARNING: Base.Uint is deprecated, use UInt instead.\n",
      "  likely near C:\\Users\\cyber\\.julia\\v0.4\\ImageView\\src\\display.jl:27\n",
      "WARNING: Base.Uint32 is deprecated, use UInt32 instead.\n",
      "  likely near C:\\Users\\cyber\\.julia\\v0.4\\ImageView\\src\\display.jl:27\n",
      "WARNING: Base.Uint is deprecated, use UInt instead.\n",
      "  likely near C:\\Users\\cyber\\.julia\\v0.4\\ImageView\\src\\display.jl:412\n",
      "WARNING: Base.Uint is deprecated, use UInt instead.\n",
      "  likely near C:\\Users\\cyber\\.julia\\v0.4\\ImageView\\src\\display.jl:412\n",
      "INFO: Precompiling module JLD...\n"
     ]
    }
   ],
   "source": [
    "using DataFrames, DistributedArrays, Images, Colors, FixedPointNumbers, ImageView, Grid, DecisionTree, JLD, HDF5"
   ]
  },
  {
   "cell_type": "code",
   "execution_count": 5,
   "metadata": {
    "collapsed": false
   },
   "outputs": [
    {
     "data": {
      "text/plain": [
       "read_data (generic function with 1 method)"
      ]
     },
     "execution_count": 5,
     "metadata": {},
     "output_type": "execute_result"
    }
   ],
   "source": [
    "# generic function to read from train and test images\n",
    "function read_data(typeData, labelsInfo, width, height, path)\n",
    "    #Intialize x matrix\n",
    "    x = zeros(size(labelsInfo, 1), width * height)\n",
    "    \n",
    "    last = size(labelsInfo)[1]\n",
    "    for i = 1:last\n",
    "        # Since train images are arranged into folders, we need to loop through all C0 thru C9 of them\n",
    "        if typeData == \"train\"\n",
    "            class = labelsInfo[:classname][i]\n",
    "            image = labelsInfo[:img][i]\n",
    "            nameFile = \"$(path)/$(typeData)/$(class)/$(image)\"\n",
    "        else\n",
    "            image = labelsInfo[:img][i]\n",
    "            nameFile = \"$(path)/$(typeData)/$(image)\"\n",
    "        end\n",
    "        #println(\"Reading Image ==> $(nameFile)\")        \n",
    "        \n",
    "        # Load the image file\n",
    "        #img = imread(nameFile)\n",
    "        img = load(nameFile)\n",
    "\n",
    "        #Convert the image to GrayScale\n",
    "        img_gsc = convert(Image{Gray}, img)\n",
    "        \n",
    "        # Resize the image\n",
    "        img_gsc_rsz = Images.imresize(img_gsc, (width, height))\n",
    "        \n",
    "        # Convert the image into an array of floats\n",
    "        temp = float32(img_gsc_rsz)\n",
    "        \n",
    "        #Transform image matrix to a vector and store it\n",
    "        x[i, :] = vec(temp)\n",
    "    end \n",
    "    return x\n",
    "end"
   ]
  },
  {
   "cell_type": "code",
   "execution_count": 6,
   "metadata": {
    "collapsed": false
   },
   "outputs": [
    {
     "name": "stdout",
     "output_type": "stream",
     "text": [
      "\n"
     ]
    }
   ],
   "source": [
    "# read the train and test labels from the current folder\n",
    "path = \".\"\n",
    "\n",
    "#Read information about test data ( IDs ).\n",
    "labelsInfoTest = readtable(\"$(path)/sample_submission.csv\")\n",
    "\n",
    "#Read information about training data , IDs.\n",
    "labelsInfoTrain = readtable(\"$(path)/driver_imgs_list.csv\")\n",
    "println(\"\")"
   ]
  },
  {
   "cell_type": "code",
   "execution_count": 7,
   "metadata": {
    "collapsed": false
   },
   "outputs": [
    {
     "data": {
      "text/html": [
       "<table class=\"data-frame\"><tr><th></th><th>subject</th><th>classname</th><th>img</th></tr><tr><th>1</th><td>p002</td><td>c0</td><td>img_44733.jpg</td></tr><tr><th>2</th><td>p002</td><td>c0</td><td>img_72999.jpg</td></tr><tr><th>3</th><td>p002</td><td>c0</td><td>img_25094.jpg</td></tr><tr><th>4</th><td>p002</td><td>c0</td><td>img_69092.jpg</td></tr><tr><th>5</th><td>p002</td><td>c0</td><td>img_92629.jpg</td></tr><tr><th>6</th><td>p002</td><td>c0</td><td>img_3370.jpg</td></tr></table>"
      ],
      "text/plain": [
       "6x3 DataFrames.DataFrame\n",
       "│ Row │ subject │ classname │ img             │\n",
       "┝━━━━━┿━━━━━━━━━┿━━━━━━━━━━━┿━━━━━━━━━━━━━━━━━┥\n",
       "│ 1   │ \"p002\"  │ \"c0\"      │ \"img_44733.jpg\" │\n",
       "│ 2   │ \"p002\"  │ \"c0\"      │ \"img_72999.jpg\" │\n",
       "│ 3   │ \"p002\"  │ \"c0\"      │ \"img_25094.jpg\" │\n",
       "│ 4   │ \"p002\"  │ \"c0\"      │ \"img_69092.jpg\" │\n",
       "│ 5   │ \"p002\"  │ \"c0\"      │ \"img_92629.jpg\" │\n",
       "│ 6   │ \"p002\"  │ \"c0\"      │ \"img_3370.jpg\"  │"
      ]
     },
     "execution_count": 7,
     "metadata": {},
     "output_type": "execute_result"
    }
   ],
   "source": [
    "head(labelsInfoTrain)"
   ]
  },
  {
   "cell_type": "code",
   "execution_count": 8,
   "metadata": {
    "collapsed": false
   },
   "outputs": [
    {
     "data": {
      "text/html": [
       "<table class=\"data-frame\"><tr><th></th><th>img</th><th>c0</th><th>c1</th><th>c2</th><th>c3</th><th>c4</th><th>c5</th><th>c6</th><th>c7</th><th>c8</th><th>c9</th></tr><tr><th>1</th><td>img_1.jpg</td><td>0.1</td><td>0.1</td><td>0.1</td><td>0.1</td><td>0.1</td><td>0.1</td><td>0.1</td><td>0.1</td><td>0.1</td><td>0.1</td></tr><tr><th>2</th><td>img_10.jpg</td><td>0.1</td><td>0.1</td><td>0.1</td><td>0.1</td><td>0.1</td><td>0.1</td><td>0.1</td><td>0.1</td><td>0.1</td><td>0.1</td></tr><tr><th>3</th><td>img_100.jpg</td><td>0.1</td><td>0.1</td><td>0.1</td><td>0.1</td><td>0.1</td><td>0.1</td><td>0.1</td><td>0.1</td><td>0.1</td><td>0.1</td></tr><tr><th>4</th><td>img_1000.jpg</td><td>0.1</td><td>0.1</td><td>0.1</td><td>0.1</td><td>0.1</td><td>0.1</td><td>0.1</td><td>0.1</td><td>0.1</td><td>0.1</td></tr><tr><th>5</th><td>img_100000.jpg</td><td>0.1</td><td>0.1</td><td>0.1</td><td>0.1</td><td>0.1</td><td>0.1</td><td>0.1</td><td>0.1</td><td>0.1</td><td>0.1</td></tr><tr><th>6</th><td>img_100001.jpg</td><td>0.1</td><td>0.1</td><td>0.1</td><td>0.1</td><td>0.1</td><td>0.1</td><td>0.1</td><td>0.1</td><td>0.1</td><td>0.1</td></tr></table>"
      ],
      "text/plain": [
       "6x11 DataFrames.DataFrame\n",
       "│ Row │ img              │ c0  │ c1  │ c2  │ c3  │ c4  │ c5  │ c6  │ c7  │ c8  │\n",
       "┝━━━━━┿━━━━━━━━━━━━━━━━━━┿━━━━━┿━━━━━┿━━━━━┿━━━━━┿━━━━━┿━━━━━┿━━━━━┿━━━━━┿━━━━━┥\n",
       "│ 1   │ \"img_1.jpg\"      │ 0.1 │ 0.1 │ 0.1 │ 0.1 │ 0.1 │ 0.1 │ 0.1 │ 0.1 │ 0.1 │\n",
       "│ 2   │ \"img_10.jpg\"     │ 0.1 │ 0.1 │ 0.1 │ 0.1 │ 0.1 │ 0.1 │ 0.1 │ 0.1 │ 0.1 │\n",
       "│ 3   │ \"img_100.jpg\"    │ 0.1 │ 0.1 │ 0.1 │ 0.1 │ 0.1 │ 0.1 │ 0.1 │ 0.1 │ 0.1 │\n",
       "│ 4   │ \"img_1000.jpg\"   │ 0.1 │ 0.1 │ 0.1 │ 0.1 │ 0.1 │ 0.1 │ 0.1 │ 0.1 │ 0.1 │\n",
       "│ 5   │ \"img_100000.jpg\" │ 0.1 │ 0.1 │ 0.1 │ 0.1 │ 0.1 │ 0.1 │ 0.1 │ 0.1 │ 0.1 │\n",
       "│ 6   │ \"img_100001.jpg\" │ 0.1 │ 0.1 │ 0.1 │ 0.1 │ 0.1 │ 0.1 │ 0.1 │ 0.1 │ 0.1 │\n",
       "\n",
       "│ Row │ c9  │\n",
       "┝━━━━━┿━━━━━┥\n",
       "│ 1   │ 0.1 │\n",
       "│ 2   │ 0.1 │\n",
       "│ 3   │ 0.1 │\n",
       "│ 4   │ 0.1 │\n",
       "│ 5   │ 0.1 │\n",
       "│ 6   │ 0.1 │"
      ]
     },
     "execution_count": 8,
     "metadata": {},
     "output_type": "execute_result"
    }
   ],
   "source": [
    "head(labelsInfoTest)"
   ]
  },
  {
   "cell_type": "code",
   "execution_count": 9,
   "metadata": {
    "collapsed": false
   },
   "outputs": [
    {
     "data": {
      "text/plain": [
       "22424x19200 Array{Float64,2}:\n",
       " 0.105882   0.113725   0.101961   …  0.0588235  0.101961   0.180392 \n",
       " 0.0862745  0.0745098  0.0823529     0.0235294  0.0784314  0.133333 \n",
       " 0.0627451  0.0627451  0.0745098     0.0509804  0.0784314  0.12549  \n",
       " 0.0509804  0.0627451  0.054902      0.0352941  0.0392157  0.0392157\n",
       " 0.0588235  0.0588235  0.0588235     0.0235294  0.0352941  0.054902 \n",
       " 0.0745098  0.0352941  0.0509804  …  0.027451   0.0509804  0.0705882\n",
       " 0.0470588  0.0392157  0.0431373     0.0313726  0.0470588  0.0666667\n",
       " 0.0431373  0.0431373  0.0509804     0.0392157  0.054902   0.0627451\n",
       " 0.0431373  0.0431373  0.0431373     0.0313726  0.0509804  0.0705882\n",
       " 0.0509804  0.0431373  0.0509804     0.0313726  0.0627451  0.0627451\n",
       " 0.0470588  0.0431373  0.0431373  …  0.0235294  0.0470588  0.0745098\n",
       " 0.0509804  0.0509804  0.0392157     0.0313726  0.0588235  0.0705882\n",
       " 0.0470588  0.0470588  0.0431373     0.0313726  0.0588235  0.0941177\n",
       " ⋮                                ⋱                                 \n",
       " 0.258824   0.266667   0.270588      0.0901961  0.113725   0.356863 \n",
       " 0.266667   0.266667   0.286275      0.0941177  0.113725   0.368627 \n",
       " 0.258824   0.262745   0.258824      0.0941177  0.109804   0.360784 \n",
       " 0.254902   0.262745   0.266667   …  0.0862745  0.129412   0.372549 \n",
       " 0.247059   0.258824   0.247059      0.0823529  0.0980392  0.345098 \n",
       " 0.258824   0.262745   0.290196      0.0784314  0.109804   0.356863 \n",
       " 0.254902   0.258824   0.278431      0.0862745  0.117647   0.368627 \n",
       " 0.258824   0.266667   0.262745      0.0941177  0.121569   0.372549 \n",
       " 0.262745   0.266667   0.282353   …  0.0745098  0.109804   0.368627 \n",
       " 0.266667   0.262745   0.258824      0.0901961  0.121569   0.392157 \n",
       " 0.254902   0.258824   0.262745      0.0745098  0.101961   0.352941 \n",
       " 0.258824   0.258824   0.290196      0.0980392  0.105882   0.356863 "
      ]
     },
     "execution_count": 9,
     "metadata": {},
     "output_type": "execute_result"
    }
   ],
   "source": [
    "# navigate to imgs folder which contains train and test data folders\n",
    "path = \"./imgs\"\n",
    "\n",
    "# set the dimensions to which the image needs to be scaled (the original images are 640 X 480)\n",
    "width = 160\n",
    "height = 120\n",
    "\n",
    "#Read training matrix\n",
    "xTrain = read_data(\"train\", labelsInfoTrain, width, height, path)"
   ]
  },
  {
   "cell_type": "code",
   "execution_count": 10,
   "metadata": {
    "collapsed": false
   },
   "outputs": [
    {
     "name": "stderr",
     "output_type": "stream",
     "text": [
      "WARNING: int(x) is deprecated, use Int(x) instead.\n",
      " in depwarn at deprecated.jl:73\n",
      " in int at deprecated.jl:50\n",
      " in int at deprecated.jl:282\n",
      " in int at C:\\Users\\cyber\\.julia\\v0.4\\DataArrays\\src\\dataarray.jl:619\n",
      " in include_string at loading.jl:282\n",
      " in execute_request_0x535c5df2 at C:\\Users\\cyber\\.julia\\v0.4\\IJulia\\src\\execute_request.jl:182\n",
      " in eventloop at C:\\Users\\cyber\\.julia\\v0.4\\IJulia\\src\\IJulia.jl:142\n",
      " in anonymous at task.jl:447\n",
      "while loading In[10], in expression starting on line 2\n"
     ]
    },
    {
     "data": {
      "text/plain": [
       "22424-element Array{Int64,1}:\n",
       " 48\n",
       " 48\n",
       " 48\n",
       " 48\n",
       " 48\n",
       " 48\n",
       " 48\n",
       " 48\n",
       " 48\n",
       " 48\n",
       " 48\n",
       " 48\n",
       " 48\n",
       "  ⋮\n",
       " 57\n",
       " 57\n",
       " 57\n",
       " 57\n",
       " 57\n",
       " 57\n",
       " 57\n",
       " 57\n",
       " 57\n",
       " 57\n",
       " 57\n",
       " 57"
      ]
     },
     "execution_count": 10,
     "metadata": {},
     "output_type": "execute_result"
    }
   ],
   "source": [
    "# convert the classes into labels, to train\n",
    "yTrain = int(map(x -> x[2], labelsInfoTrain[:classname]))"
   ]
  },
  {
   "cell_type": "code",
   "execution_count": 11,
   "metadata": {
    "collapsed": false
   },
   "outputs": [
    {
     "data": {
      "text/plain": [
       "(22424,19200)"
      ]
     },
     "execution_count": 11,
     "metadata": {},
     "output_type": "execute_result"
    }
   ],
   "source": [
    "size(xTrain)"
   ]
  },
  {
   "cell_type": "code",
   "execution_count": 14,
   "metadata": {
    "collapsed": false
   },
   "outputs": [
    {
     "name": "stderr",
     "output_type": "stream",
     "text": [
      "WARNING: int(x::AbstractFloat) is deprecated, use round(Int,x) instead.\n",
      " in depwarn at deprecated.jl:73\n",
      " in int at deprecated.jl:50\n",
      " in include_string at loading.jl:282\n",
      " in execute_request_0x535c5df2 at C:\\Users\\cyber\\.julia\\v0.4\\IJulia\\src\\execute_request.jl:182\n",
      " in eventloop at C:\\Users\\cyber\\.julia\\v0.4\\IJulia\\src\\IJulia.jl:142\n",
      " in anonymous at task.jl:447\n",
      "while loading In[14], in expression starting on line 2\n"
     ]
    },
    {
     "data": {
      "text/plain": [
       "139"
      ]
     },
     "execution_count": 14,
     "metadata": {},
     "output_type": "execute_result"
    }
   ],
   "source": [
    "# calculate the # of features as sqrt of the total number of features\n",
    "nfeats = int(round((size(xTrain)[2]) ^ 0.5))"
   ]
  },
  {
   "cell_type": "code",
   "execution_count": 15,
   "metadata": {
    "collapsed": false
   },
   "outputs": [
    {
     "data": {
      "text/plain": [
       "Ensemble of Decision Trees\n",
       "Trees:      50\n",
       "Avg Leaves: 1368.1\n",
       "Avg Depth:  25.7"
      ]
     },
     "execution_count": 15,
     "metadata": {},
     "output_type": "execute_result"
    }
   ],
   "source": [
    "# Train the random forest model\n",
    "# number of features chosen at each random split = nfeats\n",
    "# number of trees = 50\n",
    "# subsampling ratio - 1.0\n",
    "model = build_forest(yTrain, xTrain, nfeats, 50, 1.0)"
   ]
  },
  {
   "cell_type": "code",
   "execution_count": 16,
   "metadata": {
    "collapsed": true
   },
   "outputs": [],
   "source": [
    "save(\"./statefarm.jld\", \"model\", model)"
   ]
  },
  {
   "cell_type": "code",
   "execution_count": 18,
   "metadata": {
    "collapsed": true
   },
   "outputs": [],
   "source": [
    "save(\"./xTrain.jld\", \"xTrain\", xTrain)"
   ]
  },
  {
   "cell_type": "code",
   "execution_count": 17,
   "metadata": {
    "collapsed": true
   },
   "outputs": [],
   "source": [
    "save(\"./yTrain.jld\", \"yTrain\", yTrain)"
   ]
  }
 ],
 "metadata": {
  "kernelspec": {
   "display_name": "Julia 0.4.5",
   "language": "julia",
   "name": "julia-0.4"
  },
  "language_info": {
   "file_extension": ".jl",
   "mimetype": "application/julia",
   "name": "julia",
   "version": "0.4.5"
  }
 },
 "nbformat": 4,
 "nbformat_minor": 0
}
