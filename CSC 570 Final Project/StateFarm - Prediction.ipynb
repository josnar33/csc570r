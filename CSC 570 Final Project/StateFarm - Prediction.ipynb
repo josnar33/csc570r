{
 "cells": [
  {
   "cell_type": "code",
   "execution_count": 1,
   "metadata": {
    "collapsed": false
   },
   "outputs": [
    {
     "name": "stderr",
     "output_type": "stream",
     "text": [
      "INFO: Updating METADATA...\n",
      "INFO: Computing changes...\n",
      "INFO: No packages to install, update or remove\n"
     ]
    }
   ],
   "source": [
    "Pkg.update()"
   ]
  },
  {
   "cell_type": "code",
   "execution_count": 2,
   "metadata": {
    "collapsed": false
   },
   "outputs": [
    {
     "name": "stderr",
     "output_type": "stream",
     "text": [
      "WARNING: New definition \n",
      "    -(Images.AbstractImageDirect, AbstractArray) at C:\\Users\\cyber\\.julia\\v0.4\\Images\\src\\algorithms.jl:35\n",
      "is ambiguous with: \n",
      "    -(AbstractArray, DataArrays.DataArray) at C:\\Users\\cyber\\.julia\\v0.4\\DataArrays\\src\\operators.jl:326.\n",
      "To fix, define \n",
      "    -(Images.AbstractImageDirect, DataArrays.DataArray)\n",
      "before the new definition.\n",
      "WARNING: New definition \n",
      "    -(Images.AbstractImageDirect, AbstractArray) at C:\\Users\\cyber\\.julia\\v0.4\\Images\\src\\algorithms.jl:35\n",
      "is ambiguous with: \n",
      "    -(AbstractArray, DataArrays.AbstractDataArray) at C:\\Users\\cyber\\.julia\\v0.4\\DataArrays\\src\\operators.jl:349.\n",
      "To fix, define \n",
      "    -(Images.AbstractImageDirect, DataArrays.AbstractDataArray)\n",
      "before the new definition.\n",
      "WARNING: New definition \n",
      "    -(AbstractArray, Images.AbstractImageDirect) at C:\\Users\\cyber\\.julia\\v0.4\\Images\\src\\algorithms.jl:37\n",
      "is ambiguous with: \n",
      "    -(DataArrays.DataArray, AbstractArray) at C:\\Users\\cyber\\.julia\\v0.4\\DataArrays\\src\\operators.jl:326.\n",
      "To fix, define \n",
      "    -(DataArrays.DataArray, Images.AbstractImageDirect)\n",
      "before the new definition.\n",
      "WARNING: New definition \n",
      "    -(AbstractArray, Images.AbstractImageDirect) at C:\\Users\\cyber\\.julia\\v0.4\\Images\\src\\algorithms.jl:37\n",
      "is ambiguous with: \n",
      "    -(DataArrays.AbstractDataArray, AbstractArray) at C:\\Users\\cyber\\.julia\\v0.4\\DataArrays\\src\\operators.jl:349.\n",
      "To fix, define \n",
      "    -(DataArrays.AbstractDataArray, Images.AbstractImageDirect)\n",
      "before the new definition.\n",
      "WARNING: New definition \n",
      "    .>(Images.AbstractImageDirect, AbstractArray) at C:\\Users\\cyber\\.julia\\v0.4\\Images\\src\\algorithms.jl:179\n",
      "is ambiguous with: \n",
      "    .>(AbstractArray{Bool, N<:Any}, Union{DataArrays.DataArray{Bool, N<:Any}, DataArrays.PooledDataArray{Bool, R<:Integer, N<:Any}}) at C:\\Users\\cyber\\.julia\\v0.4\\DataArrays\\src\\broadcast.jl:330.\n",
      "To fix, define \n",
      "    .>(Images.AbstractImageDirect{Bool, N<:Any}, Union{DataArrays.DataArray{Bool, N<:Any}, DataArrays.PooledDataArray{Bool, R<:Integer, N<:Any}})\n",
      "before the new definition.\n",
      "WARNING: New definition \n",
      "    .>(Images.AbstractImageDirect, AbstractArray) at C:\\Users\\cyber\\.julia\\v0.4\\Images\\src\\algorithms.jl:179\n",
      "is ambiguous with: \n",
      "    .>(AbstractArray, Union{DataArrays.PooledDataArray, DataArrays.DataArray}) at C:\\Users\\cyber\\.julia\\v0.4\\DataArrays\\src\\broadcast.jl:285.\n",
      "To fix, define \n",
      "    .>(Images.AbstractImageDirect, Union{DataArrays.PooledDataArray, DataArrays.DataArray})\n",
      "before the new definition.\n",
      "WARNING: New definition \n",
      "    +(AbstractArray, Images.AbstractImageDirect) at C:\\Users\\cyber\\.julia\\v0.4\\Images\\src\\algorithms.jl:20\n",
      "is ambiguous with: \n",
      "    +(DataArrays.DataArray, AbstractArray) at C:\\Users\\cyber\\.julia\\v0.4\\DataArrays\\src\\operators.jl:326.\n",
      "To fix, define \n",
      "    +(DataArrays.DataArray, Images.AbstractImageDirect)\n",
      "before the new definition.\n",
      "WARNING: New definition \n",
      "    +(AbstractArray, Images.AbstractImageDirect) at C:\\Users\\cyber\\.julia\\v0.4\\Images\\src\\algorithms.jl:20\n",
      "is ambiguous with: \n",
      "    +(DataArrays.AbstractDataArray, AbstractArray) at C:\\Users\\cyber\\.julia\\v0.4\\DataArrays\\src\\operators.jl:349.\n",
      "To fix, define \n",
      "    +(DataArrays.AbstractDataArray, Images.AbstractImageDirect)\n",
      "before the new definition.\n",
      "WARNING: New definition \n",
      "    .<(Images.AbstractImageDirect{Bool, N<:Any}, AbstractArray{Bool, N<:Any}) at C:\\Users\\cyber\\.julia\\v0.4\\Images\\src\\algorithms.jl:177\n",
      "is ambiguous with: \n",
      "    .<(AbstractArray{Bool, N<:Any}, Union{DataArrays.DataArray{Bool, N<:Any}, DataArrays.PooledDataArray{Bool, R<:Integer, N<:Any}}) at C:\\Users\\cyber\\.julia\\v0.4\\DataArrays\\src\\broadcast.jl:330.\n",
      "To fix, define \n",
      "    .<(Images.AbstractImageDirect{Bool, N<:Any}, Union{DataArrays.DataArray{Bool, N<:Any}, DataArrays.PooledDataArray{Bool, R<:Integer, N<:Any}})\n",
      "before the new definition.\n",
      "WARNING: New definition \n",
      "    .<(Images.AbstractImageDirect, AbstractArray) at C:\\Users\\cyber\\.julia\\v0.4\\Images\\src\\algorithms.jl:178\n",
      "is ambiguous with: \n",
      "    .<(AbstractArray{Bool, N<:Any}, Union{DataArrays.DataArray{Bool, N<:Any}, DataArrays.PooledDataArray{Bool, R<:Integer, N<:Any}}) at C:\\Users\\cyber\\.julia\\v0.4\\DataArrays\\src\\broadcast.jl:330.\n",
      "To fix, define \n",
      "    .<(Images.AbstractImageDirect{Bool, N<:Any}, Union{DataArrays.DataArray{Bool, N<:Any}, DataArrays.PooledDataArray{Bool, R<:Integer, N<:Any}})\n",
      "before the new definition.\n",
      "WARNING: New definition \n",
      "    .<(Images.AbstractImageDirect, AbstractArray) at C:\\Users\\cyber\\.julia\\v0.4\\Images\\src\\algorithms.jl:178\n",
      "is ambiguous with: \n",
      "    .<(AbstractArray, Union{DataArrays.PooledDataArray, DataArrays.DataArray}) at C:\\Users\\cyber\\.julia\\v0.4\\DataArrays\\src\\broadcast.jl:285.\n",
      "To fix, define \n",
      "    .<(Images.AbstractImageDirect, Union{DataArrays.PooledDataArray, DataArrays.DataArray})\n",
      "before the new definition.\n",
      "WARNING: New definition \n",
      "    .+(Images.AbstractImageDirect, AbstractArray) at C:\\Users\\cyber\\.julia\\v0.4\\Images\\src\\algorithms.jl:22\n",
      "is ambiguous with: \n",
      "    .+(AbstractArray, Union{DataArrays.PooledDataArray, DataArrays.DataArray}, AbstractArray...) at C:\\Users\\cyber\\.julia\\v0.4\\DataArrays\\src\\broadcast.jl:297.\n",
      "To fix, define \n",
      "    .+(Images.AbstractImageDirect, Union{DataArrays.PooledDataArray, DataArrays.DataArray})\n",
      "before the new definition.\n",
      "WARNING: New definition \n",
      "    ./(Images.AbstractImageDirect, AbstractArray) at C:\\Users\\cyber\\.julia\\v0.4\\Images\\src\\algorithms.jl:55\n",
      "is ambiguous with: \n",
      "    ./(AbstractArray, Union{DataArrays.PooledDataArray, DataArrays.DataArray}) at C:\\Users\\cyber\\.julia\\v0.4\\DataArrays\\src\\broadcast.jl:285.\n",
      "To fix, define \n",
      "    ./(Images.AbstractImageDirect, Union{DataArrays.PooledDataArray, DataArrays.DataArray})\n",
      "before the new definition.\n",
      "WARNING: New definition \n",
      "    .-(Images.AbstractImageDirect, AbstractArray) at C:\\Users\\cyber\\.julia\\v0.4\\Images\\src\\algorithms.jl:40\n",
      "is ambiguous with: \n",
      "    .-(AbstractArray, Union{DataArrays.PooledDataArray, DataArrays.DataArray}) at C:\\Users\\cyber\\.julia\\v0.4\\DataArrays\\src\\broadcast.jl:285.\n",
      "To fix, define \n",
      "    .-(Images.AbstractImageDirect, Union{DataArrays.PooledDataArray, DataArrays.DataArray})\n",
      "before the new definition.\n",
      "WARNING: New definition \n",
      "    .==(Images.AbstractImageDirect{Bool, N<:Any}, AbstractArray{Bool, N<:Any}) at C:\\Users\\cyber\\.julia\\v0.4\\Images\\src\\algorithms.jl:181\n",
      "is ambiguous with: \n",
      "    .==(AbstractArray{Bool, N<:Any}, Union{DataArrays.DataArray{Bool, N<:Any}, DataArrays.PooledDataArray{Bool, R<:Integer, N<:Any}}) at C:\\Users\\cyber\\.julia\\v0.4\\DataArrays\\src\\broadcast.jl:330.\n",
      "To fix, define \n",
      "    .==(Images.AbstractImageDirect{Bool, N<:Any}, Union{DataArrays.DataArray{Bool, N<:Any}, DataArrays.PooledDataArray{Bool, R<:Integer, N<:Any}})\n",
      "before the new definition.\n",
      "WARNING: New definition \n",
      "    .==(Images.AbstractImageDirect, AbstractArray) at C:\\Users\\cyber\\.julia\\v0.4\\Images\\src\\algorithms.jl:182\n",
      "is ambiguous with: \n",
      "    .==(AbstractArray{Bool, N<:Any}, Union{DataArrays.DataArray{Bool, N<:Any}, DataArrays.PooledDataArray{Bool, R<:Integer, N<:Any}}) at C:\\Users\\cyber\\.julia\\v0.4\\DataArrays\\src\\broadcast.jl:330.\n",
      "To fix, define \n",
      "    .==(Images.AbstractImageDirect{Bool, N<:Any}, Union{DataArrays.DataArray{Bool, N<:Any}, DataArrays.PooledDataArray{Bool, R<:Integer, N<:Any}})\n",
      "before the new definition.\n",
      "WARNING: New definition \n",
      "    .==(Images.AbstractImageDirect, AbstractArray) at C:\\Users\\cyber\\.julia\\v0.4\\Images\\src\\algorithms.jl:182\n",
      "is ambiguous with: \n",
      "    .==(AbstractArray, Union{DataArrays.PooledDataArray, DataArrays.DataArray}) at C:\\Users\\cyber\\.julia\\v0.4\\DataArrays\\src\\broadcast.jl:285.\n",
      "To fix, define \n",
      "    .==(Images.AbstractImageDirect, Union{DataArrays.PooledDataArray, DataArrays.DataArray})\n",
      "before the new definition.\n",
      "WARNING: New definition \n",
      "    convert(Type{Array{#T<:ColorTypes.Colorant, N<:Any}}, AbstractArray{#S<:Any, #n<:Any}) at C:\\Users\\cyber\\.julia\\v0.4\\Images\\src\\core.jl:396\n",
      "is ambiguous with: \n",
      "    convert(Type{Array{#S<:Any, N<:Any}}, DataArrays.DataArray{#T<:Any, #N<:Any}) at C:\\Users\\cyber\\.julia\\v0.4\\DataArrays\\src\\dataarray.jl:357.\n",
      "To fix, define \n",
      "    convert(Type{Array{#T<:ColorTypes.Colorant, N<:Any}}, DataArrays.DataArray{#T<:Any, #N<:Any})\n",
      "before the new definition.\n",
      "WARNING: New definition \n",
      "    .*(Images.AbstractImageDirect, AbstractArray) at C:\\Users\\cyber\\.julia\\v0.4\\Images\\src\\algorithms.jl:51\n",
      "is ambiguous with: \n",
      "    .*(AbstractArray, Union{DataArrays.PooledDataArray, DataArrays.DataArray}, AbstractArray...) at C:\\Users\\cyber\\.julia\\v0.4\\DataArrays\\src\\broadcast.jl:295.\n",
      "To fix, define \n",
      "    .*(Images.AbstractImageDirect, Union{DataArrays.PooledDataArray, DataArrays.DataArray})\n",
      "before the new definition.\n",
      "WARNING: New definition \n",
      "    .*(AbstractArray, Images.AbstractImageDirect) at C:\\Users\\cyber\\.julia\\v0.4\\Images\\src\\algorithms.jl:52\n",
      "is ambiguous with: \n",
      "    .*(Union{DataArrays.PooledDataArray, DataArrays.DataArray}, AbstractArray...) at C:\\Users\\cyber\\.julia\\v0.4\\DataArrays\\src\\broadcast.jl:295.\n",
      "To fix, define \n",
      "    .*(Union{DataArrays.PooledDataArray, DataArrays.DataArray}, Images.AbstractImageDirect)\n",
      "before the new definition.\n",
      "WARNING: Base.String is deprecated, use AbstractString instead.\n",
      "  likely near C:\\Users\\cyber\\.julia\\v0.4\\ImageView\\src\\annotations.jl:43\n",
      "WARNING: Base.String is deprecated, use AbstractString instead.\n",
      "  likely near C:\\Users\\cyber\\.julia\\v0.4\\ImageView\\src\\annotations.jl:43\n",
      "WARNING: Base.String is deprecated, use AbstractString instead.\n",
      "  likely near C:\\Users\\cyber\\.julia\\v0.4\\ImageView\\src\\annotations.jl:61\n",
      "WARNING: Base.String is deprecated, use AbstractString instead.\n",
      "  likely near C:\\Users\\cyber\\.julia\\v0.4\\ImageView\\src\\annotations.jl:61\n",
      "WARNING: Base.String is deprecated, use AbstractString instead.\n",
      "  likely near C:\\Users\\cyber\\.julia\\v0.4\\ImageView\\src\\annotations.jl:61\n",
      "WARNING: Union(args...) is deprecated, use Union{args...} instead.\n",
      " in depwarn at deprecated.jl:73\n",
      " in call at deprecated.jl:50\n",
      " in include at boot.jl:261\n",
      " in include_from_node1 at loading.jl:320\n",
      " in include at boot.jl:261\n",
      " in include_from_node1 at loading.jl:320\n",
      " in require at loading.jl:259\n",
      " in include_string at loading.jl:282\n",
      " in execute_request_0x535c5df2 at C:\\cygwin64\\home\\cyber\\.julia\\v0.4\\IJulia\\src\\execute_request.jl:182\n",
      " in eventloop at C:\\cygwin64\\home\\cyber\\.julia\\v0.4\\IJulia\\src\\IJulia.jl:142\n",
      " in anonymous at task.jl:447\n",
      "while loading C:\\Users\\cyber\\.julia\\v0.4\\ImageView\\src\\annotations.jl, in expression starting on line 96\n",
      "WARNING: Union(args...) is deprecated, use Union{args...} instead.\n",
      " in depwarn at deprecated.jl:73\n",
      " in call at deprecated.jl:50\n",
      " in include at boot.jl:261\n",
      " in include_from_node1 at loading.jl:320\n",
      " in include at boot.jl:261\n",
      " in include_from_node1 at loading.jl:320\n",
      " in require at loading.jl:259\n",
      " in include_string at loading.jl:282\n",
      " in execute_request_0x535c5df2 at C:\\cygwin64\\home\\cyber\\.julia\\v0.4\\IJulia\\src\\execute_request.jl:182\n",
      " in eventloop at C:\\cygwin64\\home\\cyber\\.julia\\v0.4\\IJulia\\src\\IJulia.jl:142\n",
      " in anonymous at task.jl:447\n",
      "while loading C:\\Users\\cyber\\.julia\\v0.4\\ImageView\\src\\annotations.jl, in expression starting on line 96\n",
      "WARNING: Union(args...) is deprecated, use Union{args...} instead.\n",
      " in depwarn at deprecated.jl:73\n",
      " in call at deprecated.jl:50\n",
      " in include at boot.jl:261\n",
      " in include_from_node1 at loading.jl:320\n",
      " in include at boot.jl:261\n",
      " in include_from_node1 at loading.jl:320\n",
      " in require at loading.jl:259\n",
      " in include_string at loading.jl:282\n",
      " in execute_request_0x535c5df2 at C:\\cygwin64\\home\\cyber\\.julia\\v0.4\\IJulia\\src\\execute_request.jl:182\n",
      " in eventloop at C:\\cygwin64\\home\\cyber\\.julia\\v0.4\\IJulia\\src\\IJulia.jl:142\n",
      " in anonymous at task.jl:447\n",
      "while loading C:\\Users\\cyber\\.julia\\v0.4\\ImageView\\src\\annotations.jl, in expression starting on line 154\n",
      "WARNING: requiring \"Dates\" in module \"Winston\" did not define a corresponding module.\n",
      "WARNING: module Winston should explicitly import * from Base\n",
      "WARNING: could not import Images.scaleinfo into ImageView\n",
      "WARNING: Base.Uint is deprecated, use UInt instead.\n",
      "  likely near C:\\Users\\cyber\\.julia\\v0.4\\ImageView\\src\\display.jl:27\n",
      "WARNING: Base.Uint32 is deprecated, use UInt32 instead.\n",
      "  likely near C:\\Users\\cyber\\.julia\\v0.4\\ImageView\\src\\display.jl:27\n",
      "WARNING: Base.Uint is deprecated, use UInt instead.\n",
      "  likely near C:\\Users\\cyber\\.julia\\v0.4\\ImageView\\src\\display.jl:412\n",
      "WARNING: Base.Uint is deprecated, use UInt instead.\n",
      "  likely near C:\\Users\\cyber\\.julia\\v0.4\\ImageView\\src\\display.jl:412\n"
     ]
    }
   ],
   "source": [
    "using DataFrames, DistributedArrays, Images, Colors, FixedPointNumbers, ImageView, Grid, DecisionTree, JLD, HDF5"
   ]
  },
  {
   "cell_type": "code",
   "execution_count": 3,
   "metadata": {
    "collapsed": false
   },
   "outputs": [
    {
     "data": {
      "text/plain": [
       "Ensemble of Decision Trees\n",
       "Trees:      50\n",
       "Avg Leaves: 1368.1\n",
       "Avg Depth:  25.7"
      ]
     },
     "execution_count": 3,
     "metadata": {},
     "output_type": "execute_result"
    }
   ],
   "source": [
    "model = load(\"./statefarm.jld\", \"model\")"
   ]
  },
  {
   "cell_type": "code",
   "execution_count": 4,
   "metadata": {
    "collapsed": false
   },
   "outputs": [
    {
     "data": {
      "text/plain": [
       "read_data (generic function with 1 method)"
      ]
     },
     "execution_count": 4,
     "metadata": {},
     "output_type": "execute_result"
    }
   ],
   "source": [
    "# generic function to read from train and test images\n",
    "function read_data(typeData, labelsInfo, width, height, path)\n",
    "    #Intialize x matrix\n",
    "    x = zeros(size(labelsInfo, 1), width * height)\n",
    "    \n",
    "    last = size(labelsInfo)[1]\n",
    "    for i = 1:last\n",
    "        # Since train images are arranged into folders, we need to loop through all C0 thru C9 of them\n",
    "        if typeData == \"train\"\n",
    "            class = labelsInfo[:classname][i]\n",
    "            image = labelsInfo[:img][i]\n",
    "            nameFile = \"$(path)/$(typeData)/$(class)/$(image)\"\n",
    "        else\n",
    "            image = labelsInfo[:img][i]\n",
    "            nameFile = \"$(path)/$(typeData)/$(image)\"\n",
    "        end\n",
    "        #println(\"Reading Image ==> $(nameFile)\")        \n",
    "        \n",
    "        # Load the image file\n",
    "        #img = imread(nameFile)\n",
    "        img = load(nameFile)\n",
    "\n",
    "        #Convert the image to GrayScale\n",
    "        img_gsc = convert(Image{Gray}, img)\n",
    "        \n",
    "        # Resize the image\n",
    "        img_gsc_rsz = Images.imresize(img_gsc, (width, height))\n",
    "        \n",
    "        # Convert the image into an array of floats\n",
    "        temp = float32(img_gsc_rsz)\n",
    "        \n",
    "        #Transform image matrix to a vector and store it\n",
    "        x[i, :] = vec(temp)\n",
    "    end \n",
    "    return x\n",
    "end"
   ]
  },
  {
   "cell_type": "code",
   "execution_count": 5,
   "metadata": {
    "collapsed": false
   },
   "outputs": [
    {
     "name": "stdout",
     "output_type": "stream",
     "text": [
      "\n"
     ]
    }
   ],
   "source": [
    "# read the test labels from the current folder\n",
    "path = \".\"\n",
    "\n",
    "#Read information about test data ( IDs ).\n",
    "labelsInfoTest = readtable(\"$(path)/sample_submission.csv\")\n",
    "println(\"\")"
   ]
  },
  {
   "cell_type": "code",
   "execution_count": 6,
   "metadata": {
    "collapsed": false
   },
   "outputs": [
    {
     "data": {
      "text/html": [
       "<table class=\"data-frame\"><tr><th></th><th>img</th><th>c0</th><th>c1</th><th>c2</th><th>c3</th><th>c4</th><th>c5</th><th>c6</th><th>c7</th><th>c8</th><th>c9</th></tr><tr><th>1</th><td>img_1.jpg</td><td>0.1</td><td>0.1</td><td>0.1</td><td>0.1</td><td>0.1</td><td>0.1</td><td>0.1</td><td>0.1</td><td>0.1</td><td>0.1</td></tr><tr><th>2</th><td>img_10.jpg</td><td>0.1</td><td>0.1</td><td>0.1</td><td>0.1</td><td>0.1</td><td>0.1</td><td>0.1</td><td>0.1</td><td>0.1</td><td>0.1</td></tr><tr><th>3</th><td>img_100.jpg</td><td>0.1</td><td>0.1</td><td>0.1</td><td>0.1</td><td>0.1</td><td>0.1</td><td>0.1</td><td>0.1</td><td>0.1</td><td>0.1</td></tr><tr><th>4</th><td>img_1000.jpg</td><td>0.1</td><td>0.1</td><td>0.1</td><td>0.1</td><td>0.1</td><td>0.1</td><td>0.1</td><td>0.1</td><td>0.1</td><td>0.1</td></tr><tr><th>5</th><td>img_100000.jpg</td><td>0.1</td><td>0.1</td><td>0.1</td><td>0.1</td><td>0.1</td><td>0.1</td><td>0.1</td><td>0.1</td><td>0.1</td><td>0.1</td></tr><tr><th>6</th><td>img_100001.jpg</td><td>0.1</td><td>0.1</td><td>0.1</td><td>0.1</td><td>0.1</td><td>0.1</td><td>0.1</td><td>0.1</td><td>0.1</td><td>0.1</td></tr></table>"
      ],
      "text/plain": [
       "6x11 DataFrames.DataFrame\n",
       "│ Row │ img              │ c0  │ c1  │ c2  │ c3  │ c4  │ c5  │ c6  │ c7  │ c8  │\n",
       "┝━━━━━┿━━━━━━━━━━━━━━━━━━┿━━━━━┿━━━━━┿━━━━━┿━━━━━┿━━━━━┿━━━━━┿━━━━━┿━━━━━┿━━━━━┥\n",
       "│ 1   │ \"img_1.jpg\"      │ 0.1 │ 0.1 │ 0.1 │ 0.1 │ 0.1 │ 0.1 │ 0.1 │ 0.1 │ 0.1 │\n",
       "│ 2   │ \"img_10.jpg\"     │ 0.1 │ 0.1 │ 0.1 │ 0.1 │ 0.1 │ 0.1 │ 0.1 │ 0.1 │ 0.1 │\n",
       "│ 3   │ \"img_100.jpg\"    │ 0.1 │ 0.1 │ 0.1 │ 0.1 │ 0.1 │ 0.1 │ 0.1 │ 0.1 │ 0.1 │\n",
       "│ 4   │ \"img_1000.jpg\"   │ 0.1 │ 0.1 │ 0.1 │ 0.1 │ 0.1 │ 0.1 │ 0.1 │ 0.1 │ 0.1 │\n",
       "│ 5   │ \"img_100000.jpg\" │ 0.1 │ 0.1 │ 0.1 │ 0.1 │ 0.1 │ 0.1 │ 0.1 │ 0.1 │ 0.1 │\n",
       "│ 6   │ \"img_100001.jpg\" │ 0.1 │ 0.1 │ 0.1 │ 0.1 │ 0.1 │ 0.1 │ 0.1 │ 0.1 │ 0.1 │\n",
       "\n",
       "│ Row │ c9  │\n",
       "┝━━━━━┿━━━━━┥\n",
       "│ 1   │ 0.1 │\n",
       "│ 2   │ 0.1 │\n",
       "│ 3   │ 0.1 │\n",
       "│ 4   │ 0.1 │\n",
       "│ 5   │ 0.1 │\n",
       "│ 6   │ 0.1 │"
      ]
     },
     "execution_count": 6,
     "metadata": {},
     "output_type": "execute_result"
    }
   ],
   "source": [
    "head(labelsInfoTest)"
   ]
  },
  {
   "cell_type": "code",
   "execution_count": 7,
   "metadata": {
    "collapsed": false
   },
   "outputs": [
    {
     "name": "stdout",
     "output_type": "stream",
     "text": [
      "\n"
     ]
    }
   ],
   "source": [
    "# navigate to imgs folder which contains train and test data folders\n",
    "path = \"./imgs\"\n",
    "\n",
    "# set the dimensions to which the image needs to be scaled (the original images are 640 X 480)\n",
    "width = 160\n",
    "height = 120\n",
    "\n",
    "#Read test matrix\n",
    "xTest = read_data(\"test\", labelsInfoTest, width, height, path)\n",
    "println(\"\")"
   ]
  },
  {
   "cell_type": "code",
   "execution_count": 9,
   "metadata": {
    "collapsed": false
   },
   "outputs": [
    {
     "data": {
      "text/plain": [
       "(79726,19200)"
      ]
     },
     "execution_count": 9,
     "metadata": {},
     "output_type": "execute_result"
    }
   ],
   "source": [
    "size(xTest)"
   ]
  },
  {
   "cell_type": "code",
   "execution_count": 11,
   "metadata": {
    "collapsed": false
   },
   "outputs": [
    {
     "data": {
      "text/plain": [
       "79726x10 Array{Float64,2}:\n",
       " 0.02  0.0   0.08  0.04  0.0   0.5   0.06  0.2   0.02  0.08\n",
       " 0.2   0.08  0.0   0.08  0.06  0.36  0.0   0.04  0.1   0.08\n",
       " 0.3   0.14  0.1   0.06  0.1   0.0   0.1   0.04  0.08  0.08\n",
       " 0.22  0.14  0.08  0.1   0.1   0.06  0.12  0.06  0.04  0.08\n",
       " 0.12  0.06  0.02  0.18  0.18  0.1   0.04  0.04  0.06  0.2 \n",
       " 0.16  0.1   0.0   0.18  0.22  0.06  0.08  0.02  0.08  0.1 \n",
       " 0.08  0.18  0.1   0.02  0.04  0.06  0.16  0.06  0.14  0.16\n",
       " 0.14  0.12  0.0   0.1   0.18  0.18  0.06  0.06  0.06  0.1 \n",
       " 0.12  0.08  0.12  0.06  0.14  0.06  0.16  0.12  0.06  0.08\n",
       " 0.06  0.08  0.08  0.0   0.04  0.04  0.06  0.54  0.04  0.06\n",
       " 0.12  0.12  0.06  0.14  0.08  0.1   0.12  0.1   0.02  0.14\n",
       " 0.06  0.16  0.1   0.04  0.04  0.04  0.18  0.02  0.34  0.02\n",
       " 0.08  0.1   0.14  0.06  0.1   0.08  0.24  0.0   0.12  0.08\n",
       " ⋮                             ⋮                           \n",
       " 0.04  0.04  0.2   0.0   0.0   0.0   0.22  0.34  0.16  0.0 \n",
       " 0.08  0.04  0.08  0.22  0.2   0.1   0.06  0.12  0.04  0.06\n",
       " 0.12  0.2   0.1   0.02  0.08  0.04  0.16  0.14  0.08  0.06\n",
       " 0.18  0.06  0.08  0.12  0.14  0.04  0.04  0.08  0.2   0.06\n",
       " 0.2   0.1   0.12  0.06  0.02  0.04  0.1   0.06  0.12  0.18\n",
       " 0.06  0.06  0.06  0.04  0.08  0.02  0.22  0.14  0.16  0.16\n",
       " 0.0   0.04  0.18  0.06  0.06  0.0   0.14  0.38  0.08  0.06\n",
       " 0.06  0.12  0.14  0.02  0.06  0.18  0.02  0.18  0.08  0.14\n",
       " 0.1   0.16  0.1   0.14  0.1   0.08  0.08  0.0   0.08  0.16\n",
       " 0.06  0.08  0.08  0.12  0.1   0.06  0.12  0.12  0.2   0.06\n",
       " 0.06  0.1   0.34  0.02  0.02  0.04  0.16  0.08  0.12  0.06\n",
       " 0.0   0.06  0.06  0.06  0.04  0.5   0.1   0.02  0.1   0.06"
      ]
     },
     "execution_count": 11,
     "metadata": {},
     "output_type": "execute_result"
    }
   ],
   "source": [
    "# predict the individual probabilities for each class\n",
    "predProb = apply_forest_proba(model, xTest, [48, 49, 50, 51, 52, 53, 54, 55, 56, 57])"
   ]
  },
  {
   "cell_type": "code",
   "execution_count": 12,
   "metadata": {
    "collapsed": false
   },
   "outputs": [
    {
     "data": {
      "text/plain": [
       "79726-element Array{Any,1}:\n",
       " 53\n",
       " 53\n",
       " 48\n",
       " 48\n",
       " 57\n",
       " 52\n",
       " 49\n",
       " 53\n",
       " 54\n",
       " 55\n",
       " 51\n",
       " 56\n",
       " 54\n",
       "  ⋮\n",
       " 55\n",
       " 51\n",
       " 49\n",
       " 56\n",
       " 48\n",
       " 54\n",
       " 55\n",
       " 55\n",
       " 49\n",
       " 56\n",
       " 50\n",
       " 53"
      ]
     },
     "execution_count": 12,
     "metadata": {},
     "output_type": "execute_result"
    }
   ],
   "source": [
    "# predict the class for test set\n",
    "predTest = apply_forest(model, xTest)"
   ]
  },
  {
   "cell_type": "code",
   "execution_count": 20,
   "metadata": {
    "collapsed": false
   },
   "outputs": [
    {
     "name": "stdout",
     "output_type": "stream",
     "text": [
      "\n"
     ]
    }
   ],
   "source": [
    "labelsInfoTest[:c0] = predProb[:,1]\n",
    "labelsInfoTest[:c1] = predProb[:,2]\n",
    "labelsInfoTest[:c2] = predProb[:,3]\n",
    "labelsInfoTest[:c3] = predProb[:,4]\n",
    "labelsInfoTest[:c4] = predProb[:,5]\n",
    "labelsInfoTest[:c5] = predProb[:,6]\n",
    "labelsInfoTest[:c6] = predProb[:,7]\n",
    "labelsInfoTest[:c7] = predProb[:,8]\n",
    "labelsInfoTest[:c8] = predProb[:,9]\n",
    "labelsInfoTest[:c9] = predProb[:,10]\n",
    "println(\"\")"
   ]
  },
  {
   "cell_type": "code",
   "execution_count": 21,
   "metadata": {
    "collapsed": false
   },
   "outputs": [
    {
     "data": {
      "text/html": [
       "<table class=\"data-frame\"><tr><th></th><th>img</th><th>c0</th><th>c1</th><th>c2</th><th>c3</th><th>c4</th><th>c5</th><th>c6</th><th>c7</th><th>c8</th><th>c9</th></tr><tr><th>1</th><td>img_1.jpg</td><td>0.02</td><td>0.0</td><td>0.08</td><td>0.04</td><td>0.0</td><td>0.5</td><td>0.06</td><td>0.2</td><td>0.02</td><td>0.08</td></tr><tr><th>2</th><td>img_10.jpg</td><td>0.2</td><td>0.08</td><td>0.0</td><td>0.08</td><td>0.06</td><td>0.36</td><td>0.0</td><td>0.04</td><td>0.1</td><td>0.08</td></tr><tr><th>3</th><td>img_100.jpg</td><td>0.3</td><td>0.14</td><td>0.1</td><td>0.06</td><td>0.1</td><td>0.0</td><td>0.1</td><td>0.04</td><td>0.08</td><td>0.08</td></tr><tr><th>4</th><td>img_1000.jpg</td><td>0.22</td><td>0.14</td><td>0.08</td><td>0.1</td><td>0.1</td><td>0.06</td><td>0.12</td><td>0.06</td><td>0.04</td><td>0.08</td></tr><tr><th>5</th><td>img_100000.jpg</td><td>0.12</td><td>0.06</td><td>0.02</td><td>0.18</td><td>0.18</td><td>0.1</td><td>0.04</td><td>0.04</td><td>0.06</td><td>0.2</td></tr><tr><th>6</th><td>img_100001.jpg</td><td>0.16</td><td>0.1</td><td>0.0</td><td>0.18</td><td>0.22</td><td>0.06</td><td>0.08</td><td>0.02</td><td>0.08</td><td>0.1</td></tr></table>"
      ],
      "text/plain": [
       "6x11 DataFrames.DataFrame\n",
       "│ Row │ img              │ c0   │ c1   │ c2   │ c3   │ c4   │ c5   │ c6   │\n",
       "┝━━━━━┿━━━━━━━━━━━━━━━━━━┿━━━━━━┿━━━━━━┿━━━━━━┿━━━━━━┿━━━━━━┿━━━━━━┿━━━━━━┥\n",
       "│ 1   │ \"img_1.jpg\"      │ 0.02 │ 0.0  │ 0.08 │ 0.04 │ 0.0  │ 0.5  │ 0.06 │\n",
       "│ 2   │ \"img_10.jpg\"     │ 0.2  │ 0.08 │ 0.0  │ 0.08 │ 0.06 │ 0.36 │ 0.0  │\n",
       "│ 3   │ \"img_100.jpg\"    │ 0.3  │ 0.14 │ 0.1  │ 0.06 │ 0.1  │ 0.0  │ 0.1  │\n",
       "│ 4   │ \"img_1000.jpg\"   │ 0.22 │ 0.14 │ 0.08 │ 0.1  │ 0.1  │ 0.06 │ 0.12 │\n",
       "│ 5   │ \"img_100000.jpg\" │ 0.12 │ 0.06 │ 0.02 │ 0.18 │ 0.18 │ 0.1  │ 0.04 │\n",
       "│ 6   │ \"img_100001.jpg\" │ 0.16 │ 0.1  │ 0.0  │ 0.18 │ 0.22 │ 0.06 │ 0.08 │\n",
       "\n",
       "│ Row │ c7   │ c8   │ c9   │\n",
       "┝━━━━━┿━━━━━━┿━━━━━━┿━━━━━━┥\n",
       "│ 1   │ 0.2  │ 0.02 │ 0.08 │\n",
       "│ 2   │ 0.04 │ 0.1  │ 0.08 │\n",
       "│ 3   │ 0.04 │ 0.08 │ 0.08 │\n",
       "│ 4   │ 0.06 │ 0.04 │ 0.08 │\n",
       "│ 5   │ 0.04 │ 0.06 │ 0.2  │\n",
       "│ 6   │ 0.02 │ 0.08 │ 0.1  │"
      ]
     },
     "execution_count": 21,
     "metadata": {},
     "output_type": "execute_result"
    }
   ],
   "source": [
    "head(labelsInfoTest)"
   ]
  },
  {
   "cell_type": "code",
   "execution_count": 22,
   "metadata": {
    "collapsed": true
   },
   "outputs": [],
   "source": [
    "path = \".\"\n",
    "writetable(\"$(path)/statefarm_predictions_.csv\", labelsInfoTest, separator=',', header=true)"
   ]
  },
  {
   "cell_type": "code",
   "execution_count": 23,
   "metadata": {
    "collapsed": false
   },
   "outputs": [],
   "source": [
    "save(\"./xTest.jld\", \"xTest\", xTest)"
   ]
  }
 ],
 "metadata": {
  "kernelspec": {
   "display_name": "Julia 0.4.5",
   "language": "julia",
   "name": "julia-0.4"
  },
  "language_info": {
   "file_extension": ".jl",
   "mimetype": "application/julia",
   "name": "julia",
   "version": "0.4.5"
  }
 },
 "nbformat": 4,
 "nbformat_minor": 0
}
