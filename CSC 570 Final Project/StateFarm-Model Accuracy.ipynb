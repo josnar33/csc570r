{
 "cells": [
  {
   "cell_type": "code",
   "execution_count": 1,
   "metadata": {
    "collapsed": false
   },
   "outputs": [],
   "source": [
    "using DecisionTree, JLD, HDF5"
   ]
  },
  {
   "cell_type": "code",
   "execution_count": 2,
   "metadata": {
    "collapsed": false
   },
   "outputs": [
    {
     "data": {
      "text/plain": [
       "22424x19200 Array{Float64,2}:\n",
       " 0.105882   0.113725   0.101961   …  0.0588235  0.101961   0.180392 \n",
       " 0.0862745  0.0745098  0.0823529     0.0235294  0.0784314  0.133333 \n",
       " 0.0627451  0.0627451  0.0745098     0.0509804  0.0784314  0.12549  \n",
       " 0.0509804  0.0627451  0.054902      0.0352941  0.0392157  0.0392157\n",
       " 0.0588235  0.0588235  0.0588235     0.0235294  0.0352941  0.054902 \n",
       " 0.0745098  0.0352941  0.0509804  …  0.027451   0.0509804  0.0705882\n",
       " 0.0470588  0.0392157  0.0431373     0.0313726  0.0470588  0.0666667\n",
       " 0.0431373  0.0431373  0.0509804     0.0392157  0.054902   0.0627451\n",
       " 0.0431373  0.0431373  0.0431373     0.0313726  0.0509804  0.0705882\n",
       " 0.0509804  0.0431373  0.0509804     0.0313726  0.0627451  0.0627451\n",
       " 0.0470588  0.0431373  0.0431373  …  0.0235294  0.0470588  0.0745098\n",
       " 0.0509804  0.0509804  0.0392157     0.0313726  0.0588235  0.0705882\n",
       " 0.0470588  0.0470588  0.0431373     0.0313726  0.0588235  0.0941177\n",
       " ⋮                                ⋱                                 \n",
       " 0.258824   0.266667   0.270588      0.0901961  0.113725   0.356863 \n",
       " 0.266667   0.266667   0.286275      0.0941177  0.113725   0.368627 \n",
       " 0.258824   0.262745   0.258824      0.0941177  0.109804   0.360784 \n",
       " 0.254902   0.262745   0.266667   …  0.0862745  0.129412   0.372549 \n",
       " 0.247059   0.258824   0.247059      0.0823529  0.0980392  0.345098 \n",
       " 0.258824   0.262745   0.290196      0.0784314  0.109804   0.356863 \n",
       " 0.254902   0.258824   0.278431      0.0862745  0.117647   0.368627 \n",
       " 0.258824   0.266667   0.262745      0.0941177  0.121569   0.372549 \n",
       " 0.262745   0.266667   0.282353   …  0.0745098  0.109804   0.368627 \n",
       " 0.266667   0.262745   0.258824      0.0901961  0.121569   0.392157 \n",
       " 0.254902   0.258824   0.262745      0.0745098  0.101961   0.352941 \n",
       " 0.258824   0.258824   0.290196      0.0980392  0.105882   0.356863 "
      ]
     },
     "execution_count": 2,
     "metadata": {},
     "output_type": "execute_result"
    }
   ],
   "source": [
    "xTrain = load(\"./xTrain.jld\", \"xTrain\")"
   ]
  },
  {
   "cell_type": "code",
   "execution_count": 3,
   "metadata": {
    "collapsed": false
   },
   "outputs": [
    {
     "data": {
      "text/plain": [
       "22424-element Array{Int64,1}:\n",
       " 48\n",
       " 48\n",
       " 48\n",
       " 48\n",
       " 48\n",
       " 48\n",
       " 48\n",
       " 48\n",
       " 48\n",
       " 48\n",
       " 48\n",
       " 48\n",
       " 48\n",
       "  ⋮\n",
       " 57\n",
       " 57\n",
       " 57\n",
       " 57\n",
       " 57\n",
       " 57\n",
       " 57\n",
       " 57\n",
       " 57\n",
       " 57\n",
       " 57\n",
       " 57"
      ]
     },
     "execution_count": 3,
     "metadata": {},
     "output_type": "execute_result"
    }
   ],
   "source": [
    "yTrain = load(\"./yTrain.jld\", \"yTrain\")"
   ]
  },
  {
   "cell_type": "code",
   "execution_count": 4,
   "metadata": {
    "collapsed": false
   },
   "outputs": [
    {
     "data": {
      "text/plain": [
       "Ensemble of Decision Trees\n",
       "Trees:      50\n",
       "Avg Leaves: 1368.1\n",
       "Avg Depth:  25.7"
      ]
     },
     "execution_count": 4,
     "metadata": {},
     "output_type": "execute_result"
    }
   ],
   "source": [
    "model = load(\"./statefarm.jld\", \"model\")"
   ]
  },
  {
   "cell_type": "code",
   "execution_count": 5,
   "metadata": {
    "collapsed": false
   },
   "outputs": [
    {
     "name": "stdout",
     "output_type": "stream",
     "text": [
      "\n",
      "Fold 1\n"
     ]
    },
    {
     "data": {
      "text/plain": [
       "10x10 Array{Int64,2}:\n",
       " 594    1    0    0    0    0    0    0    0    0\n",
       "   4  531    0    0    1    0    0    4    0    1\n",
       "   1    0  606    0    0    0    2    2    0    0\n",
       "   2    0    0  587    2    0    0    0    0    0\n",
       "   1    1    1    1  582    0    1    0    0    0\n",
       "   2    0    0    2    0  576    1    0    0    0\n",
       "   1    1    1    0    0    1  578    0    0    0\n",
       "   1    0    0    0    0    0    0  512    0    1\n",
       "   2    0    0    2    1    0    1    0  459    4\n",
       "   4    0    1    0    1    1    0    0    3  525"
      ]
     },
     "metadata": {},
     "output_type": "display_data"
    },
    {
     "name": "stdout",
     "output_type": "stream",
     "text": [
      "Classes:  Any[48,49,50,51,52,53,54,55,56,57]\n",
      "Matrix:   \n",
      "Accuracy: 0.9900107028184089\n",
      "Kappa:    0.988893324209851\n"
     ]
    },
    {
     "data": {
      "text/plain": [
       "10x10 Array{Int64,2}:\n",
       " 614    0    0    0    0    0    0    0    1    0\n",
       "   0  594    0    0    0    0    0    0    0    0\n",
       "   0    2  555    0    0    1    0    0    1    0\n",
       "   1    2    1  592    3    0    0    0    0    0\n",
       "   0    0    0    1  573    0    1    0    0    0\n",
       "   3    0    1    0    2  531    1    2    0    0\n",
       "   0    0    0    0    0    0  590    0    0    0\n",
       "   0    1    0    0    0    0    0  493    0    0\n",
       "   3    2    1    1    2    0    0    1  455    4\n",
       "   0    2    0    0    0    1    0    1    3  564"
      ]
     },
     "metadata": {},
     "output_type": "display_data"
    },
    {
     "name": "stdout",
     "output_type": "stream",
     "text": [
      "\n",
      "Fold 2\n",
      "Classes:  Any[48,49,50,51,52,53,54,55,56,57]\n",
      "Matrix:   \n",
      "Accuracy: 0.9919728861933642\n",
      "Kappa:    0.9910742670024386\n"
     ]
    },
    {
     "data": {
      "text/plain": [
       "10x10 Array{Int64,2}:\n",
       " 620    0    0    0    0    0    0    0    0    0\n",
       "   0  588    0    0    0    0    0    0    0    0\n",
       "   1    0  562    1    0    0    1    0    0    0\n",
       "   0    0    0  586    0    0    1    0    0    0\n",
       "   0    2    0    1  569    0    0    0    0    0\n",
       "   4    0    0    1    1  607    3    1    0    0\n",
       "   0    0    0    4    0    0  550    0    0    0\n",
       "   0    0    0    0    0    0    0  498    1    0\n",
       "   4    0    0    1    0    0    0    2  471    3\n",
       "   3    0    0    0    0    0    0    0    0  520"
      ]
     },
     "metadata": {},
     "output_type": "display_data"
    },
    {
     "name": "stdout",
     "output_type": "stream",
     "text": [
      "\n",
      "Fold 3\n",
      "Classes:  Any[48,49,50,51,52,53,54,55,56,57]\n",
      "Matrix:   \n",
      "Accuracy: 0.9937566892615055\n",
      "Kappa:    0.993057874737397\n"
     ]
    },
    {
     "data": {
      "text/plain": [
       "10x10 Array{Int64,2}:\n",
       " 644    5    1    4    5    0    0    0    0    0\n",
       "   0  542    0    0    0    0    0    2    0    0\n",
       "   2    0  580    0    0    0    0    0    0    0\n",
       "   0    0    0  566    2    0    1    0    0    0\n",
       "   3    1    0    3  584    0    1    0    0    0\n",
       "   2    0    0    0    0  572    0    0    0    0\n",
       "   1    0    0    1    0    0  597    0    0    0\n",
       "   1    0    0    0    0    0    1  493    0    0\n",
       "   0    0    0    1    1    0    1    0  486    3\n",
       "   2    0    0    2    0    0    4    0    1  491"
      ]
     },
     "metadata": {},
     "output_type": "display_data"
    },
    {
     "name": "stdout",
     "output_type": "stream",
     "text": [
      "\n",
      "Fold 4\n",
      "Classes:  Any[48,49,50,51,52,53,54,55,56,57]\n",
      "Matrix:   \n",
      "Accuracy: 0.9909026043524795\n",
      "Kappa:    0.9898823732913282\n",
      "\n",
      "Mean Accuracy: 0.9916607206564395\n"
     ]
    },
    {
     "data": {
      "text/plain": [
       "4-element Array{Float64,1}:\n",
       " 0.990011\n",
       " 0.991973\n",
       " 0.993757\n",
       " 0.990903"
      ]
     },
     "execution_count": 5,
     "metadata": {},
     "output_type": "execute_result"
    }
   ],
   "source": [
    "accuracy = nfoldCV_forest(yTrain, xTrain, 139, 50, 4, 1.0)"
   ]
  }
 ],
 "metadata": {
  "kernelspec": {
   "display_name": "Julia 0.4.5",
   "language": "julia",
   "name": "julia-0.4"
  },
  "language_info": {
   "file_extension": ".jl",
   "mimetype": "application/julia",
   "name": "julia",
   "version": "0.4.5"
  }
 },
 "nbformat": 4,
 "nbformat_minor": 0
}
