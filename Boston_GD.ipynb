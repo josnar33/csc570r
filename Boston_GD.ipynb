{
 "cells": [
  {
   "cell_type": "code",
   "execution_count": 24,
   "metadata": {
    "collapsed": false
   },
   "outputs": [],
   "source": [
    "# This exercise would reuse Mike's GD code, and apply it on the boston dataset\n",
    "from sklearn import datasets\n",
    "import pandas as pd\n",
    "from sklearn.preprocessing import StandardScaler\n",
    "from sklearn.cross_validation import train_test_split\n",
    "from sklearn.metrics import mean_squared_error\n",
    "from sklearn.metrics import r2_score\n",
    "from sklearn.linear_model import LinearRegression\n",
    "import numpy as np"
   ]
  },
  {
   "cell_type": "code",
   "execution_count": 25,
   "metadata": {
    "collapsed": false
   },
   "outputs": [],
   "source": [
    "bean = datasets.load_boston()\n",
    "#print bean.DESCR"
   ]
  },
  {
   "cell_type": "code",
   "execution_count": 26,
   "metadata": {
    "collapsed": false
   },
   "outputs": [],
   "source": [
    "# Load boston data, and split into train and test sets\n",
    "def load_boston():\n",
    "    scaler = StandardScaler()\n",
    "    boston = datasets.load_boston()\n",
    "    X=boston.data\n",
    "    y=boston.target\n",
    "    X = scaler.fit_transform(X)\n",
    "    return train_test_split(X,y)"
   ]
  },
  {
   "cell_type": "code",
   "execution_count": 27,
   "metadata": {
    "collapsed": false
   },
   "outputs": [],
   "source": [
    "X_train, X_test, y_train, y_test = load_boston()"
   ]
  },
  {
   "cell_type": "code",
   "execution_count": 28,
   "metadata": {
    "collapsed": false
   },
   "outputs": [],
   "source": [
    "# Normalize (z-score) all the features before running linear regression\n",
    "def scaleData(z):\n",
    "    mu = z.mean(axis=0)\n",
    "    sigma = z.std(axis=0)\n",
    "    z = (z - mu)/sigma\n",
    "    return z, mu, sigma"
   ]
  },
  {
   "cell_type": "code",
   "execution_count": 29,
   "metadata": {
    "collapsed": false
   },
   "outputs": [],
   "source": [
    "# There is no need to do any splicing, as the train/test sets are available in separate variables\n",
    "trainData = X_train\n",
    "\n",
    "# Normalize the training dataset\n",
    "trainData, mu, sigma = scaleData(trainData)"
   ]
  },
  {
   "cell_type": "code",
   "execution_count": 30,
   "metadata": {
    "collapsed": false
   },
   "outputs": [],
   "source": [
    "y = np.matrix(y_train) # Populate the target variable\n",
    "y = y.T # and convert it into a column vector\n",
    "X = np.matrix(trainData) # get the training data into X"
   ]
  },
  {
   "cell_type": "code",
   "execution_count": 31,
   "metadata": {
    "collapsed": false
   },
   "outputs": [
    {
     "data": {
      "text/plain": [
       "array(['CRIM', 'ZN', 'INDUS', 'CHAS', 'NOX', 'RM', 'AGE', 'DIS', 'RAD',\n",
       "       'TAX', 'PTRATIO', 'B', 'LSTAT'], \n",
       "      dtype='|S7')"
      ]
     },
     "execution_count": 31,
     "metadata": {},
     "output_type": "execute_result"
    }
   ],
   "source": [
    "#['data', 'feature_names', 'DESCR', 'target']\n",
    "bean['feature_names']"
   ]
  },
  {
   "cell_type": "code",
   "execution_count": 32,
   "metadata": {
    "collapsed": false
   },
   "outputs": [],
   "source": [
    "m = y.size\n",
    "\n",
    "#Add a column of ones, size m, to X (interception data)\n",
    "it = np.ones(shape=(m, 1))\n",
    "X = np.append(it, X, 1)"
   ]
  },
  {
   "cell_type": "code",
   "execution_count": 33,
   "metadata": {
    "collapsed": false
   },
   "outputs": [],
   "source": [
    "# Calculate J(theta)\n",
    "def compute_cost(X, y, theta):\n",
    "    m = y.size\n",
    "    y_hat = X.dot(theta)\n",
    "    J = (1.0/2*m)* (y_hat - y).T.dot((y_hat - y)) # calculated as yhat - y\n",
    "    return J"
   ]
  },
  {
   "cell_type": "code",
   "execution_count": 34,
   "metadata": {
    "collapsed": true
   },
   "outputs": [],
   "source": [
    "# Calculate optimal theta using Batch Gradient Descent\n",
    "def gradient_descent(X, y, theta, alpha, num_iters):   \n",
    "    m = y.size\n",
    "    J_history = np.zeros(shape=(num_iters, 1)) # a column vec to hold our previous Js\n",
    "    \n",
    "    for i in range(num_iters):\n",
    "        gradient = (1.0/m) * ((X.dot(theta) - y).T.dot(X)).T # calculated as yhat - y\n",
    "        theta =  theta - (alpha * gradient)        \n",
    "        J_history[i, 0] = compute_cost(X, y, theta)\n",
    "    return theta, J_history"
   ]
  },
  {
   "cell_type": "code",
   "execution_count": 35,
   "metadata": {
    "collapsed": false
   },
   "outputs": [
    {
     "name": "stdout",
     "output_type": "stream",
     "text": [
      "[[ 22.3721212 ]\n",
      " [ -0.87288966]\n",
      " [  0.76440812]\n",
      " [ -0.38222546]\n",
      " [  0.94172505]\n",
      " [ -1.87913519]\n",
      " [  2.16131392]\n",
      " [  0.09620015]\n",
      " [ -2.71239439]\n",
      " [  1.50134898]\n",
      " [ -0.68956173]\n",
      " [ -1.67477744]\n",
      " [  0.76888918]\n",
      " [ -4.10981531]]\n"
     ]
    }
   ],
   "source": [
    "alpha = .01\n",
    "iterations = 1000\n",
    "\n",
    "#np.shape[1] is the number of features, so we need an equal # of thetas\n",
    "theta = np.zeros((X.shape[1],1))\n",
    "\n",
    "theta, J_history = gradient_descent(X,y,theta,alpha, iterations)\n",
    "print theta"
   ]
  },
  {
   "cell_type": "code",
   "execution_count": 36,
   "metadata": {
    "collapsed": false
   },
   "outputs": [
    {
     "name": "stdout",
     "output_type": "stream",
     "text": [
      "Populating the interactive namespace from numpy and matplotlib\n"
     ]
    },
    {
     "name": "stderr",
     "output_type": "stream",
     "text": [
      "WARNING: pylab import has clobbered these variables: ['power', 'draw_if_interactive', 'random', 'fft', 'linalg', 'info']\n",
      "`%matplotlib` prevents importing * from pylab and numpy\n"
     ]
    }
   ],
   "source": [
    "from pylab import *\n",
    "%pylab inline\n",
    "def plot_grad_descent(alpha, iterNum):\n",
    "    theta = np.zeros((X.shape[1],1))#reinitialize theta\n",
    "    theta, J_history = gradient_descent(X, y, theta, alpha, iterNum)\n",
    "    plot(J_history)\n",
    "    title(\"alpha = \" +str(alpha)+ \"; iterations = \" +str(iterNum))\n",
    "    show()"
   ]
  },
  {
   "cell_type": "code",
   "execution_count": 37,
   "metadata": {
    "collapsed": false
   },
   "outputs": [
    {
     "data": {
      "image/png": "[encoded data removed]",
      "text/plain": [
       "<matplotlib.figure.Figure at 0x10c010a90>"
      ]
     },
     "metadata": {},
     "output_type": "display_data"
    }
   ],
   "source": [
    "plot_grad_descent(.01,10)"
   ]
  },
  {
   "cell_type": "code",
   "execution_count": 38,
   "metadata": {
    "collapsed": false
   },
   "outputs": [
    {
     "data": {
      "image/png": "[encoded data removed]",
      "text/plain": [
       "<matplotlib.figure.Figure at 0x10c14cd90>"
      ]
     },
     "metadata": {},
     "output_type": "display_data"
    }
   ],
   "source": [
    "plot_grad_descent(.01,100)"
   ]
  },
  {
   "cell_type": "code",
   "execution_count": 39,
   "metadata": {
    "collapsed": false,
    "scrolled": true
   },
   "outputs": [
    {
     "data": {
      "image/png": "[encoded data removed]",
      "text/plain": [
       "<matplotlib.figure.Figure at 0x10c18b410>"
      ]
     },
     "metadata": {},
     "output_type": "display_data"
    }
   ],
   "source": [
    "plot_grad_descent(.01,1000)"
   ]
  },
  {
   "cell_type": "code",
   "execution_count": 40,
   "metadata": {
    "collapsed": false
   },
   "outputs": [
    {
     "data": {
      "image/png": "[encoded data removed]",
      "text/plain": [
       "<matplotlib.figure.Figure at 0x10c37c690>"
      ]
     },
     "metadata": {},
     "output_type": "display_data"
    }
   ],
   "source": [
    "plot_grad_descent(.1295,13)"
   ]
  },
  {
   "cell_type": "code",
   "execution_count": 41,
   "metadata": {
    "collapsed": false
   },
   "outputs": [
    {
     "data": {
      "image/png": "[encoded data removed]",
      "text/plain": [
       "<matplotlib.figure.Figure at 0x10c6a0990>"
      ]
     },
     "metadata": {},
     "output_type": "display_data"
    }
   ],
   "source": [
    "plot_grad_descent(.001,10000)"
   ]
  },
  {
   "cell_type": "code",
   "execution_count": 42,
   "metadata": {
    "collapsed": true
   },
   "outputs": [],
   "source": [
    "testData = X_test # populate the test dataset\n",
    "testData, muTest, sigmaTest = scaleData(testData) # and normalize the test set features"
   ]
  },
  {
   "cell_type": "code",
   "execution_count": 43,
   "metadata": {
    "collapsed": true
   },
   "outputs": [],
   "source": [
    "#Add a column of ones to X (intercept term)\n",
    "m = testData.shape[0]\n",
    "it = np.ones(shape=(m, 1))\n",
    "testData = np.append(it, testData, 1)"
   ]
  },
  {
   "cell_type": "code",
   "execution_count": 44,
   "metadata": {
    "collapsed": false
   },
   "outputs": [
    {
     "name": "stdout",
     "output_type": "stream",
     "text": [
      "[[ 22.3721212 ]\n",
      " [ -0.87288966]\n",
      " [  0.76440812]\n",
      " [ -0.38222546]\n",
      " [  0.94172505]\n",
      " [ -1.87913519]\n",
      " [  2.16131392]\n",
      " [  0.09620015]\n",
      " [ -2.71239439]\n",
      " [  1.50134898]\n",
      " [ -0.68956173]\n",
      " [ -1.67477744]\n",
      " [  0.76888918]\n",
      " [ -4.10981531]]\n"
     ]
    }
   ],
   "source": [
    "print theta"
   ]
  },
  {
   "cell_type": "code",
   "execution_count": 45,
   "metadata": {
    "collapsed": false
   },
   "outputs": [
    {
     "name": "stdout",
     "output_type": "stream",
     "text": [
      "[[ 24.35189512]\n",
      " [ 38.8269487 ]\n",
      " [ 41.45832551]\n",
      " [ 32.66385506]\n",
      " [  8.05575664]\n",
      " [ 43.10343135]\n",
      " [ 16.10825553]\n",
      " [ 24.41305877]\n",
      " [ 24.965546  ]\n",
      " [ 37.83111186]\n",
      " [ 22.69753185]\n",
      " [ 22.89411454]\n",
      " [ 17.26687101]\n",
      " [ 28.9975995 ]\n",
      " [ 21.69582351]\n",
      " [ 22.52083223]\n",
      " [ 15.45264662]\n",
      " [ 15.36310609]\n",
      " [ 20.40239341]\n",
      " [ 28.68814207]\n",
      " [ 25.64915475]\n",
      " [ 18.21767305]\n",
      " [ 31.65222985]\n",
      " [ 22.57783406]\n",
      " [ 21.13388568]\n",
      " [ 40.48114094]\n",
      " [  9.78564395]\n",
      " [ 24.31993976]\n",
      " [ 20.48910432]\n",
      " [ 27.71293563]\n",
      " [ 43.00699138]\n",
      " [ 14.95738389]\n",
      " [ 24.62713128]\n",
      " [ 24.55142637]\n",
      " [ 12.75172467]\n",
      " [ 33.9312331 ]\n",
      " [ 29.74529016]\n",
      " [ 17.28402458]\n",
      " [ 22.86170176]\n",
      " [ 19.49497664]\n",
      " [ 26.12051655]\n",
      " [ 22.63393755]\n",
      " [ 10.45714274]\n",
      " [ 32.97246804]\n",
      " [ 36.00070243]\n",
      " [ 14.73474667]\n",
      " [ 34.22033154]\n",
      " [ 34.40065499]\n",
      " [ 16.53622906]\n",
      " [ 22.78644079]\n",
      " [ 40.17302066]\n",
      " [  5.43340988]\n",
      " [ 18.49212779]\n",
      " [ 16.67778256]\n",
      " [ 21.57847935]\n",
      " [ 27.1001686 ]\n",
      " [ 18.07212599]\n",
      " [ 17.82045208]\n",
      " [ 22.07628465]\n",
      " [ 16.98423126]\n",
      " [ 36.81313636]\n",
      " [ 19.26664539]\n",
      " [ 21.15002291]\n",
      " [ 40.87950397]\n",
      " [ 19.67745048]\n",
      " [ 27.6141057 ]\n",
      " [ 16.43804469]\n",
      " [ 18.44526105]\n",
      " [ 24.70900871]\n",
      " [ 36.29240438]\n",
      " [ 33.2197693 ]\n",
      " [ 26.22212928]\n",
      " [ 33.58812809]\n",
      " [ 26.2681639 ]\n",
      " [ 23.05540054]\n",
      " [ 24.8297348 ]\n",
      " [ 21.74208269]\n",
      " [ 21.72577369]\n",
      " [ 23.32890715]\n",
      " [ 25.10225765]\n",
      " [ 19.80246365]\n",
      " [ 13.06317443]\n",
      " [ 31.06312089]\n",
      " [ 30.99546553]\n",
      " [ 19.09001255]\n",
      " [ 26.26795511]\n",
      " [ 29.37176929]\n",
      " [  5.47977168]\n",
      " [ 22.39730827]\n",
      " [ 27.01246701]\n",
      " [ 33.37169217]\n",
      " [ 10.55589409]\n",
      " [ 24.94259398]\n",
      " [ 22.31058408]\n",
      " [ 19.30672089]\n",
      " [ 19.25887496]\n",
      " [ 27.36463591]\n",
      " [ 18.56675418]\n",
      " [ 38.69443847]\n",
      " [ 28.44313835]\n",
      " [ 28.17754774]\n",
      " [ 21.20355819]\n",
      " [ 34.29730255]\n",
      " [ 19.39706707]\n",
      " [ 28.45232053]\n",
      " [ 37.56785285]\n",
      " [ 23.20134173]\n",
      " [ 26.58487789]\n",
      " [  8.44519143]\n",
      " [ 18.3414471 ]\n",
      " [ 40.86280263]\n",
      " [ 32.43493825]\n",
      " [ 17.98963703]\n",
      " [ 17.34170601]\n",
      " [ 25.20325635]\n",
      " [  7.76107107]\n",
      " [ 17.48750405]\n",
      " [ 25.60882251]\n",
      " [ 20.93791295]\n",
      " [ 30.79257611]\n",
      " [ 24.83948313]\n",
      " [ 25.10828595]\n",
      " [ 29.40390467]\n",
      " [ 33.5562604 ]\n",
      " [  4.51225479]\n",
      " [ 10.25418124]\n",
      " [ 14.25693263]]\n"
     ]
    }
   ],
   "source": [
    "#predicted house prices, unscaled\n",
    "y_pred = (testData.dot(theta)*sigma[0]+mu[0])\n",
    "print y_pred"
   ]
  },
  {
   "cell_type": "code",
   "execution_count": 46,
   "metadata": {
    "collapsed": false
   },
   "outputs": [
    {
     "name": "stdout",
     "output_type": "stream",
     "text": [
      "0.806656717979\n"
     ]
    }
   ],
   "source": [
    "print r2_score(y_test, y_pred) # R2 score of actual v/s predicted test values"
   ]
  }
 ],
 "metadata": {
  "kernelspec": {
   "display_name": "Python 2",
   "language": "python",
   "name": "python2"
  },
  "language_info": {
   "codemirror_mode": {
    "name": "ipython",
    "version": 2
   },
   "file_extension": ".py",
   "mimetype": "text/x-python",
   "name": "python",
   "nbconvert_exporter": "python",
   "pygments_lexer": "ipython2",
   "version": "2.7.11"
  }
 },
 "nbformat": 4,
 "nbformat_minor": 0
}
