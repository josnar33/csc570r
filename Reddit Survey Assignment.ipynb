{
 "cells": [
  {
   "cell_type": "markdown",
   "metadata": {
    "collapsed": false
   },
   "source": [
    "<h3>Reddit Survey Assignment</h3>"
   ]
  },
  {
   "cell_type": "code",
   "execution_count": 480,
   "metadata": {
    "collapsed": false
   },
   "outputs": [
    {
     "name": "stdout",
     "output_type": "stream",
     "text": [
      "Populating the interactive namespace from numpy and matplotlib\n"
     ]
    },
    {
     "name": "stderr",
     "output_type": "stream",
     "text": [
      "WARNING: pylab import has clobbered these variables: ['f']\n",
      "`%matplotlib` prevents importing * from pylab and numpy\n"
     ]
    }
   ],
   "source": [
    "from sklearn.ensemble import RandomForestRegressor\n",
    "from sklearn.metrics import roc_auc_score\n",
    "from sklearn.multiclass import OneVsRestClassifier\n",
    "from sklearn.svm import LinearSVC\n",
    "from sklearn.metrics import confusion_matrix\n",
    "import pandas as pd\n",
    "import numpy as np\n",
    "import seaborn as sns\n",
    "import matplotlib.pyplot as plt\n",
    "%pylab inline"
   ]
  },
  {
   "cell_type": "code",
   "execution_count": 481,
   "metadata": {
    "collapsed": false
   },
   "outputs": [],
   "source": [
    "# While aggregating the continent information onto the sheet, the csv format was updated so that the following series\n",
    "# un14 till un19 automatically got removed. Hence, they are not present in the sampling shown below.\n",
    "X = pd.read_csv(\"RedditShortDemoSurvey-1-Cleaned.csv\")"
   ]
  },
  {
   "cell_type": "code",
   "execution_count": 482,
   "metadata": {
    "collapsed": false,
    "scrolled": false
   },
   "outputs": [
    {
     "data": {
      "text/html": [
       "<div>\n",
       "<table border=\"1\" class=\"dataframe\">\n",
       "  <thead>\n",
       "    <tr style=\"text-align: right;\">\n",
       "      <th></th>\n",
       "      <th>Entry Id</th>\n",
       "      <th>Please indicate your gender.</th>\n",
       "      <th>Please select the category that includes your age.</th>\n",
       "      <th>What is your marital status?</th>\n",
       "      <th>What best describes your employment status?</th>\n",
       "      <th>Are you or have you ever been in military service?</th>\n",
       "      <th>Do you currently have children under the age of 18 living in your household?</th>\n",
       "      <th>What best describes your level of education?</th>\n",
       "      <th>Treated country data</th>\n",
       "      <th>(For U. S. redditors) In which state do you live?</th>\n",
       "      <th>Which one of the following ranges includes your total yearly household income before taxes?</th>\n",
       "      <th>treated subreddit data</th>\n",
       "      <th>Are you a dog or a cat person?</th>\n",
       "      <th>If you were a cheese, what cheese would you be?</th>\n",
       "      <th>Country Code</th>\n",
       "      <th>Continent</th>\n",
       "    </tr>\n",
       "  </thead>\n",
       "  <tbody>\n",
       "    <tr>\n",
       "      <th>0</th>\n",
       "      <td>1</td>\n",
       "      <td>Male</td>\n",
       "      <td>25-34</td>\n",
       "      <td>Blank</td>\n",
       "      <td>Employed full time</td>\n",
       "      <td>none</td>\n",
       "      <td>No</td>\n",
       "      <td>Bachelor's degree</td>\n",
       "      <td>UNITED STATES</td>\n",
       "      <td>New York</td>\n",
       "      <td>$150,000 or more</td>\n",
       "      <td>getmotivated</td>\n",
       "      <td>none</td>\n",
       "      <td>none</td>\n",
       "      <td>US</td>\n",
       "      <td>North America</td>\n",
       "    </tr>\n",
       "  </tbody>\n",
       "</table>\n",
       "</div>"
      ],
      "text/plain": [
       "   Entry Id Please indicate your gender.  \\\n",
       "0         1                         Male   \n",
       "\n",
       "  Please select the category that includes your age.  \\\n",
       "0                                              25-34   \n",
       "\n",
       "  What is your marital status? What best describes your employment status?  \\\n",
       "0                        Blank                          Employed full time   \n",
       "\n",
       "  Are you or have you ever been in military service?  \\\n",
       "0                                               none   \n",
       "\n",
       "  Do you currently have children under the age of 18 living in your household?  \\\n",
       "0                                                 No                             \n",
       "\n",
       "  What best describes your level of education? Treated country data  \\\n",
       "0                            Bachelor's degree        UNITED STATES   \n",
       "\n",
       "  (For U. S. redditors) In which state do you live?  \\\n",
       "0                                          New York   \n",
       "\n",
       "  Which one of the following ranges includes your total yearly household income before taxes?  \\\n",
       "0                                   $150,000 or more                                            \n",
       "\n",
       "  treated subreddit data Are you a dog or a cat person?  \\\n",
       "0           getmotivated                           none   \n",
       "\n",
       "  If you were a cheese, what cheese would you be? Country Code      Continent  \n",
       "0                                            none           US  North America  "
      ]
     },
     "execution_count": 482,
     "metadata": {},
     "output_type": "execute_result"
    }
   ],
   "source": [
    "X.head(n=1)"
   ]
  },
  {
   "cell_type": "code",
   "execution_count": 483,
   "metadata": {
    "collapsed": false
   },
   "outputs": [],
   "source": [
    "# Shorten the column names\n",
    "X.columns = ['ID', 'Sex', 'AgeCat', 'MarStat', 'EmpStat', 'Military', 'Chdlt18', 'Edu', 'Cntry', 'State', 'Income', 'SubReddit', 'DogorCat', 'Cheese', 'CntCd', 'Cont']"
   ]
  },
  {
   "cell_type": "code",
   "execution_count": 484,
   "metadata": {
    "collapsed": false
   },
   "outputs": [
    {
     "data": {
      "text/html": [
       "<div>\n",
       "<table border=\"1\" class=\"dataframe\">\n",
       "  <thead>\n",
       "    <tr style=\"text-align: right;\">\n",
       "      <th></th>\n",
       "      <th>ID</th>\n",
       "      <th>Sex</th>\n",
       "      <th>AgeCat</th>\n",
       "      <th>MarStat</th>\n",
       "      <th>EmpStat</th>\n",
       "      <th>Military</th>\n",
       "      <th>Chdlt18</th>\n",
       "      <th>Edu</th>\n",
       "      <th>Cntry</th>\n",
       "      <th>State</th>\n",
       "      <th>Income</th>\n",
       "      <th>SubReddit</th>\n",
       "      <th>DogorCat</th>\n",
       "      <th>Cheese</th>\n",
       "      <th>CntCd</th>\n",
       "      <th>Cont</th>\n",
       "    </tr>\n",
       "  </thead>\n",
       "  <tbody>\n",
       "    <tr>\n",
       "      <th>0</th>\n",
       "      <td>1</td>\n",
       "      <td>Male</td>\n",
       "      <td>25-34</td>\n",
       "      <td>Blank</td>\n",
       "      <td>Employed full time</td>\n",
       "      <td>none</td>\n",
       "      <td>No</td>\n",
       "      <td>Bachelor's degree</td>\n",
       "      <td>UNITED STATES</td>\n",
       "      <td>New York</td>\n",
       "      <td>$150,000 or more</td>\n",
       "      <td>getmotivated</td>\n",
       "      <td>none</td>\n",
       "      <td>none</td>\n",
       "      <td>US</td>\n",
       "      <td>North America</td>\n",
       "    </tr>\n",
       "  </tbody>\n",
       "</table>\n",
       "</div>"
      ],
      "text/plain": [
       "   ID   Sex AgeCat MarStat             EmpStat Military Chdlt18  \\\n",
       "0   1  Male  25-34   Blank  Employed full time     none      No   \n",
       "\n",
       "                 Edu          Cntry     State            Income     SubReddit  \\\n",
       "0  Bachelor's degree  UNITED STATES  New York  $150,000 or more  getmotivated   \n",
       "\n",
       "  DogorCat Cheese CntCd           Cont  \n",
       "0     none   none    US  North America  "
      ]
     },
     "execution_count": 484,
     "metadata": {},
     "output_type": "execute_result"
    }
   ],
   "source": [
    "X.head(n=1)"
   ]
  },
  {
   "cell_type": "code",
   "execution_count": 485,
   "metadata": {
    "collapsed": false
   },
   "outputs": [],
   "source": [
    "X = X.drop(['ID', 'State'], axis=1)"
   ]
  },
  {
   "cell_type": "markdown",
   "metadata": {
    "collapsed": false
   },
   "source": [
    "<h4>Data Cleansing - Gender feature</h4>"
   ]
  },
  {
   "cell_type": "code",
   "execution_count": 486,
   "metadata": {
    "collapsed": false
   },
   "outputs": [
    {
     "data": {
      "text/html": [
       "<div>\n",
       "<table border=\"1\" class=\"dataframe\">\n",
       "  <thead>\n",
       "    <tr style=\"text-align: right;\">\n",
       "      <th></th>\n",
       "      <th>Sex</th>\n",
       "      <th>AgeCat</th>\n",
       "      <th>MarStat</th>\n",
       "      <th>EmpStat</th>\n",
       "      <th>Military</th>\n",
       "      <th>Chdlt18</th>\n",
       "      <th>Edu</th>\n",
       "      <th>Cntry</th>\n",
       "      <th>Income</th>\n",
       "      <th>SubReddit</th>\n",
       "      <th>DogorCat</th>\n",
       "      <th>Cheese</th>\n",
       "      <th>CntCd</th>\n",
       "      <th>Cont</th>\n",
       "    </tr>\n",
       "  </thead>\n",
       "  <tbody>\n",
       "  </tbody>\n",
       "</table>\n",
       "</div>"
      ],
      "text/plain": [
       "Empty DataFrame\n",
       "Columns: [Sex, AgeCat, MarStat, EmpStat, Military, Chdlt18, Edu, Cntry, Income, SubReddit, DogorCat, Cheese, CntCd, Cont]\n",
       "Index: []"
      ]
     },
     "execution_count": 486,
     "metadata": {},
     "output_type": "execute_result"
    }
   ],
   "source": [
    "X[X.Sex.isnull()]"
   ]
  },
  {
   "cell_type": "code",
   "execution_count": 487,
   "metadata": {
    "collapsed": false
   },
   "outputs": [
    {
     "data": {
      "text/plain": [
       "Male      26418\n",
       "Female     6135\n",
       "None        201\n",
       "Name: Sex, dtype: int64"
      ]
     },
     "execution_count": 487,
     "metadata": {},
     "output_type": "execute_result"
    }
   ],
   "source": [
    "X.Sex.value_counts()"
   ]
  },
  {
   "cell_type": "code",
   "execution_count": 488,
   "metadata": {
    "collapsed": false
   },
   "outputs": [
    {
     "data": {
      "text/plain": [
       "Forever Alone                               78\n",
       "In a relationship                           46\n",
       "Single                                      45\n",
       "Married/civil union/domestic partnership    27\n",
       "Engaged                                      5\n",
       "Name: MarStat, dtype: int64"
      ]
     },
     "execution_count": 488,
     "metadata": {},
     "output_type": "execute_result"
    }
   ],
   "source": [
    "# We need to handle the scenarios where Sex as been mentioned as \"None\". For this, we analyze the breakup of\n",
    "# \"Marital Status\" feature for such scenarios.\n",
    "X[X.Sex==\"None\"]['MarStat'].value_counts()"
   ]
  },
  {
   "cell_type": "code",
   "execution_count": 489,
   "metadata": {
    "collapsed": false
   },
   "outputs": [
    {
     "data": {
      "text/plain": [
       "Male      5086\n",
       "Female     686\n",
       "None        78\n",
       "Name: Sex, dtype: int64"
      ]
     },
     "execution_count": 489,
     "metadata": {},
     "output_type": "execute_result"
    }
   ],
   "source": [
    "X[X.MarStat=='Forever Alone']['Sex'].value_counts()"
   ]
  },
  {
   "cell_type": "code",
   "execution_count": 490,
   "metadata": {
    "collapsed": false
   },
   "outputs": [
    {
     "data": {
      "text/plain": [
       "Male      7363\n",
       "Female    2419\n",
       "None        46\n",
       "Name: Sex, dtype: int64"
      ]
     },
     "execution_count": 490,
     "metadata": {},
     "output_type": "execute_result"
    }
   ],
   "source": [
    "X[X.MarStat=='In a relationship']['Sex'].value_counts()"
   ]
  },
  {
   "cell_type": "code",
   "execution_count": 491,
   "metadata": {
    "collapsed": false
   },
   "outputs": [
    {
     "data": {
      "text/plain": [
       "Male      8672\n",
       "Female    1711\n",
       "None        45\n",
       "Name: Sex, dtype: int64"
      ]
     },
     "execution_count": 491,
     "metadata": {},
     "output_type": "execute_result"
    }
   ],
   "source": [
    "X[X.MarStat=='Single']['Sex'].value_counts()"
   ]
  },
  {
   "cell_type": "code",
   "execution_count": 492,
   "metadata": {
    "collapsed": false
   },
   "outputs": [
    {
     "data": {
      "text/plain": [
       "Male      4441\n",
       "Female    1022\n",
       "None        27\n",
       "Name: Sex, dtype: int64"
      ]
     },
     "execution_count": 492,
     "metadata": {},
     "output_type": "execute_result"
    }
   ],
   "source": [
    "X[X.MarStat=='Married/civil union/domestic partnership']['Sex'].value_counts()"
   ]
  },
  {
   "cell_type": "code",
   "execution_count": 493,
   "metadata": {
    "collapsed": false
   },
   "outputs": [
    {
     "data": {
      "text/plain": [
       "Male      826\n",
       "Female    278\n",
       "None        5\n",
       "Name: Sex, dtype: int64"
      ]
     },
     "execution_count": 493,
     "metadata": {},
     "output_type": "execute_result"
    }
   ],
   "source": [
    "X[X.MarStat=='Engaged']['Sex'].value_counts()"
   ]
  },
  {
   "cell_type": "code",
   "execution_count": 494,
   "metadata": {
    "collapsed": false
   },
   "outputs": [],
   "source": [
    "# It's evident that Males form the majority in the above Marital Status breakups. Hence, we set all the instances\n",
    "# where Sex = \"None\" to \"Male\"\n",
    "def setMale(x):\n",
    "    if x == \"None\":\n",
    "        return \"Male\"\n",
    "    else:\n",
    "        return x\n",
    "X['Sex'] = X['Sex'].map(setMale)"
   ]
  },
  {
   "cell_type": "code",
   "execution_count": 495,
   "metadata": {
    "collapsed": false
   },
   "outputs": [
    {
     "data": {
      "text/plain": [
       "Male      26619\n",
       "Female     6135\n",
       "Name: Sex, dtype: int64"
      ]
     },
     "execution_count": 495,
     "metadata": {},
     "output_type": "execute_result"
    }
   ],
   "source": [
    "X.Sex.value_counts()"
   ]
  },
  {
   "cell_type": "markdown",
   "metadata": {
    "collapsed": false
   },
   "source": [
    "<h4>Data Cleansing - Age Category feature</h4>"
   ]
  },
  {
   "cell_type": "code",
   "execution_count": 496,
   "metadata": {
    "collapsed": false
   },
   "outputs": [
    {
     "data": {
      "text/plain": [
       "18-24          15802\n",
       "25-34          11575\n",
       "Under 18        2330\n",
       "35-44           2257\n",
       "45-54            502\n",
       "55-64            140\n",
       "None              88\n",
       "65 or Above       60\n",
       "Name: AgeCat, dtype: int64"
      ]
     },
     "execution_count": 496,
     "metadata": {},
     "output_type": "execute_result"
    }
   ],
   "source": [
    "X.AgeCat.value_counts()"
   ]
  },
  {
   "cell_type": "code",
   "execution_count": 497,
   "metadata": {
    "collapsed": false
   },
   "outputs": [
    {
     "data": {
      "text/plain": [
       "Forever Alone                               56\n",
       "Single                                      18\n",
       "In a relationship                            8\n",
       "Engaged                                      3\n",
       "Married/civil union/domestic partnership     3\n",
       "Name: MarStat, dtype: int64"
      ]
     },
     "execution_count": 497,
     "metadata": {},
     "output_type": "execute_result"
    }
   ],
   "source": [
    "X[X.AgeCat==\"None\"]['MarStat'].value_counts()"
   ]
  },
  {
   "cell_type": "code",
   "execution_count": 498,
   "metadata": {
    "collapsed": false
   },
   "outputs": [
    {
     "data": {
      "text/plain": [
       "18-24          3153\n",
       "25-34          1527\n",
       "Under 18        797\n",
       "35-44           236\n",
       "45-54            57\n",
       "None             56\n",
       "55-64            12\n",
       "65 or Above      12\n",
       "Name: AgeCat, dtype: int64"
      ]
     },
     "execution_count": 498,
     "metadata": {},
     "output_type": "execute_result"
    }
   ],
   "source": [
    "X[X.MarStat==\"Forever Alone\"]['AgeCat'].value_counts()"
   ]
  },
  {
   "cell_type": "code",
   "execution_count": 499,
   "metadata": {
    "collapsed": false
   },
   "outputs": [
    {
     "data": {
      "text/plain": [
       "18-24          6313\n",
       "25-34          2558\n",
       "Under 18       1062\n",
       "35-44           357\n",
       "45-54            78\n",
       "55-64            26\n",
       "None             18\n",
       "65 or Above      16\n",
       "Name: AgeCat, dtype: int64"
      ]
     },
     "execution_count": 499,
     "metadata": {},
     "output_type": "execute_result"
    }
   ],
   "source": [
    "X[X.MarStat==\"Single\"]['AgeCat'].value_counts()"
   ]
  },
  {
   "cell_type": "code",
   "execution_count": 500,
   "metadata": {
    "collapsed": false
   },
   "outputs": [
    {
     "data": {
      "text/plain": [
       "18-24          5545\n",
       "25-34          3504\n",
       "Under 18        455\n",
       "35-44           248\n",
       "45-54            54\n",
       "None              8\n",
       "55-64             7\n",
       "65 or Above       7\n",
       "Name: AgeCat, dtype: int64"
      ]
     },
     "execution_count": 500,
     "metadata": {},
     "output_type": "execute_result"
    }
   ],
   "source": [
    "X[X.MarStat==\"In a relationship\"]['AgeCat'].value_counts()"
   ]
  },
  {
   "cell_type": "code",
   "execution_count": 501,
   "metadata": {
    "collapsed": false
   },
   "outputs": [
    {
     "data": {
      "text/plain": [
       "25-34          674\n",
       "18-24          351\n",
       "35-44           68\n",
       "Under 18         6\n",
       "45-54            4\n",
       "None             3\n",
       "65 or Above      2\n",
       "55-64            1\n",
       "Name: AgeCat, dtype: int64"
      ]
     },
     "execution_count": 501,
     "metadata": {},
     "output_type": "execute_result"
    }
   ],
   "source": [
    "X[X.MarStat==\"Engaged\"]['AgeCat'].value_counts()"
   ]
  },
  {
   "cell_type": "code",
   "execution_count": 502,
   "metadata": {
    "collapsed": false
   },
   "outputs": [
    {
     "data": {
      "text/plain": [
       "25-34          3296\n",
       "35-44          1344\n",
       "18-24           431\n",
       "45-54           306\n",
       "55-64            88\n",
       "65 or Above      16\n",
       "Under 18          6\n",
       "None              3\n",
       "Name: AgeCat, dtype: int64"
      ]
     },
     "execution_count": 502,
     "metadata": {},
     "output_type": "execute_result"
    }
   ],
   "source": [
    "X[X.MarStat==\"Married/civil union/domestic partnership\"]['AgeCat'].value_counts()"
   ]
  },
  {
   "cell_type": "code",
   "execution_count": 503,
   "metadata": {
    "collapsed": true
   },
   "outputs": [],
   "source": [
    "# Forever Alone, Single, In a relationship - falls mostly into 18-24 &\n",
    "# Engaged, Married/civil union/domestic partnership - falls mostly into 25-34\n",
    "# However, there are only 3 observations each for AgeCat = \"None\" that fall into the second set above\n",
    "# Set all the \"none\" values in AgeCat to 18-24\n",
    "def setAgeCat(x):\n",
    "    if x == \"None\":\n",
    "        return \"18-24\"\n",
    "    else:\n",
    "        return x\n",
    "X['AgeCat'] = X['AgeCat'].map(setAgeCat)"
   ]
  },
  {
   "cell_type": "code",
   "execution_count": 504,
   "metadata": {
    "collapsed": false
   },
   "outputs": [
    {
     "data": {
      "text/plain": [
       "18-24          15890\n",
       "25-34          11575\n",
       "Under 18        2330\n",
       "35-44           2257\n",
       "45-54            502\n",
       "55-64            140\n",
       "65 or Above       60\n",
       "Name: AgeCat, dtype: int64"
      ]
     },
     "execution_count": 504,
     "metadata": {},
     "output_type": "execute_result"
    }
   ],
   "source": [
    "X.AgeCat.value_counts()"
   ]
  },
  {
   "cell_type": "markdown",
   "metadata": {
    "collapsed": false
   },
   "source": [
    "<h4>Data Cleansing - Marital Status feature</h4>"
   ]
  },
  {
   "cell_type": "code",
   "execution_count": 505,
   "metadata": {
    "collapsed": false
   },
   "outputs": [
    {
     "data": {
      "text/plain": [
       "Single                                      10428\n",
       "In a relationship                            9828\n",
       "Forever Alone                                5850\n",
       "Married/civil union/domestic partnership     5490\n",
       "Engaged                                      1109\n",
       "Widowed                                        44\n",
       "Blank                                           5\n",
       "Name: MarStat, dtype: int64"
      ]
     },
     "execution_count": 505,
     "metadata": {},
     "output_type": "execute_result"
    }
   ],
   "source": [
    "X.MarStat.value_counts()"
   ]
  },
  {
   "cell_type": "code",
   "execution_count": 506,
   "metadata": {
    "collapsed": true
   },
   "outputs": [],
   "source": [
    "# Since there are only 5 instances of Blank in MarStat, we set it to the status that has the majority - \"Single\"\n",
    "def setMarStat(x):\n",
    "    if x == \"Blank\":\n",
    "        return \"Single\"\n",
    "    else:\n",
    "        return x\n",
    "X['MarStat'] = X['MarStat'].map(setMarStat)"
   ]
  },
  {
   "cell_type": "code",
   "execution_count": 507,
   "metadata": {
    "collapsed": false
   },
   "outputs": [
    {
     "data": {
      "text/plain": [
       "Single                                      10433\n",
       "In a relationship                            9828\n",
       "Forever Alone                                5850\n",
       "Married/civil union/domestic partnership     5490\n",
       "Engaged                                      1109\n",
       "Widowed                                        44\n",
       "Name: MarStat, dtype: int64"
      ]
     },
     "execution_count": 507,
     "metadata": {},
     "output_type": "execute_result"
    }
   ],
   "source": [
    "X.MarStat.value_counts()"
   ]
  },
  {
   "cell_type": "markdown",
   "metadata": {
    "collapsed": false
   },
   "source": [
    "<h4>Data Cleansing - Employment Status feature</h4>"
   ]
  },
  {
   "cell_type": "code",
   "execution_count": 508,
   "metadata": {
    "collapsed": false
   },
   "outputs": [
    {
     "data": {
      "text/plain": [
       "Employed full time                       14814\n",
       "Student                                  12987\n",
       "Not employed, but looking for work        2087\n",
       "Freelance                                 1948\n",
       "Not employed and not looking for work      682\n",
       "None                                       151\n",
       "Retired                                     85\n",
       "Name: EmpStat, dtype: int64"
      ]
     },
     "execution_count": 508,
     "metadata": {},
     "output_type": "execute_result"
    }
   ],
   "source": [
    "X.EmpStat.value_counts()"
   ]
  },
  {
   "cell_type": "code",
   "execution_count": 509,
   "metadata": {
    "collapsed": false
   },
   "outputs": [
    {
     "data": {
      "text/plain": [
       "18-24       87\n",
       "25-34       42\n",
       "Under 18     9\n",
       "35-44        8\n",
       "45-54        4\n",
       "55-64        1\n",
       "Name: AgeCat, dtype: int64"
      ]
     },
     "execution_count": 509,
     "metadata": {},
     "output_type": "execute_result"
    }
   ],
   "source": [
    "X[X.EmpStat==\"None\"]['AgeCat'].value_counts()"
   ]
  },
  {
   "cell_type": "code",
   "execution_count": 510,
   "metadata": {
    "collapsed": false
   },
   "outputs": [
    {
     "data": {
      "text/plain": [
       "Student                                  9456\n",
       "Employed full time                       4324\n",
       "Not employed, but looking for work       1145\n",
       "Freelance                                 650\n",
       "Not employed and not looking for work     224\n",
       "None                                       87\n",
       "Retired                                     4\n",
       "Name: EmpStat, dtype: int64"
      ]
     },
     "execution_count": 510,
     "metadata": {},
     "output_type": "execute_result"
    }
   ],
   "source": [
    "X[X.AgeCat=='18-24']['EmpStat'].value_counts()"
   ]
  },
  {
   "cell_type": "code",
   "execution_count": 511,
   "metadata": {
    "collapsed": true
   },
   "outputs": [],
   "source": [
    "# Since 18-24 makes up much of the EmpStat = \"None\" category, and most of the people in this range are students, we\n",
    "# set the \"None\" EmpStat observations to \"Student\"\n",
    "def setEmpStat(x):\n",
    "    if x == \"None\":\n",
    "        return \"Student\"\n",
    "    else:\n",
    "        return x\n",
    "X['EmpStat'] = X['EmpStat'].map(setEmpStat)"
   ]
  },
  {
   "cell_type": "code",
   "execution_count": 512,
   "metadata": {
    "collapsed": false
   },
   "outputs": [
    {
     "data": {
      "text/plain": [
       "Employed full time                       14814\n",
       "Student                                  13138\n",
       "Not employed, but looking for work        2087\n",
       "Freelance                                 1948\n",
       "Not employed and not looking for work      682\n",
       "Retired                                     85\n",
       "Name: EmpStat, dtype: int64"
      ]
     },
     "execution_count": 512,
     "metadata": {},
     "output_type": "execute_result"
    }
   ],
   "source": [
    "X.EmpStat.value_counts()"
   ]
  },
  {
   "cell_type": "markdown",
   "metadata": {
    "collapsed": false
   },
   "source": [
    "<h4>Data Cleansing - Military Service feature</h4>"
   ]
  },
  {
   "cell_type": "code",
   "execution_count": 513,
   "metadata": {
    "collapsed": false
   },
   "outputs": [
    {
     "data": {
      "text/plain": [
       "No      30526\n",
       "Yes      2223\n",
       "none        5\n",
       "Name: Military, dtype: int64"
      ]
     },
     "execution_count": 513,
     "metadata": {},
     "output_type": "execute_result"
    }
   ],
   "source": [
    "X.Military.value_counts()"
   ]
  },
  {
   "cell_type": "code",
   "execution_count": 514,
   "metadata": {
    "collapsed": true
   },
   "outputs": [],
   "source": [
    "# Since there are only 5 instances of none in Military, we set it to the status that has the majority - \"No\"\n",
    "def setMilitary(x):\n",
    "    if x == \"none\":\n",
    "        return \"No\"\n",
    "    else:\n",
    "        return x\n",
    "X['Military'] = X['Military'].map(setMilitary)"
   ]
  },
  {
   "cell_type": "code",
   "execution_count": 515,
   "metadata": {
    "collapsed": false
   },
   "outputs": [
    {
     "data": {
      "text/plain": [
       "No     30531\n",
       "Yes     2223\n",
       "Name: Military, dtype: int64"
      ]
     },
     "execution_count": 515,
     "metadata": {},
     "output_type": "execute_result"
    }
   ],
   "source": [
    "X.Military.value_counts()"
   ]
  },
  {
   "cell_type": "markdown",
   "metadata": {
    "collapsed": false
   },
   "source": [
    "<h4>Data Cleansing - Have Child under the age of 18? feature</h4>"
   ]
  },
  {
   "cell_type": "code",
   "execution_count": 516,
   "metadata": {
    "collapsed": false
   },
   "outputs": [
    {
     "data": {
      "text/plain": [
       "No      27488\n",
       "Yes      5047\n",
       "None      219\n",
       "Name: Chdlt18, dtype: int64"
      ]
     },
     "execution_count": 516,
     "metadata": {},
     "output_type": "execute_result"
    }
   ],
   "source": [
    "X.Chdlt18.value_counts()"
   ]
  },
  {
   "cell_type": "code",
   "execution_count": 517,
   "metadata": {
    "collapsed": false
   },
   "outputs": [
    {
     "data": {
      "text/plain": [
       "Forever Alone                               76\n",
       "Single                                      56\n",
       "In a relationship                           54\n",
       "Married/civil union/domestic partnership    27\n",
       "Engaged                                      5\n",
       "Widowed                                      1\n",
       "Name: MarStat, dtype: int64"
      ]
     },
     "execution_count": 517,
     "metadata": {},
     "output_type": "execute_result"
    }
   ],
   "source": [
    "X[X.Chdlt18==\"None\"]['MarStat'].value_counts()"
   ]
  },
  {
   "cell_type": "code",
   "execution_count": 518,
   "metadata": {
    "collapsed": false
   },
   "outputs": [
    {
     "data": {
      "text/plain": [
       "No      5055\n",
       "Yes      719\n",
       "None      76\n",
       "Name: Chdlt18, dtype: int64"
      ]
     },
     "execution_count": 518,
     "metadata": {},
     "output_type": "execute_result"
    }
   ],
   "source": [
    "X[X.MarStat==\"Forever Alone\"]['Chdlt18'].value_counts()"
   ]
  },
  {
   "cell_type": "code",
   "execution_count": 519,
   "metadata": {
    "collapsed": false
   },
   "outputs": [
    {
     "data": {
      "text/plain": [
       "No      9320\n",
       "Yes     1057\n",
       "None      56\n",
       "Name: Chdlt18, dtype: int64"
      ]
     },
     "execution_count": 519,
     "metadata": {},
     "output_type": "execute_result"
    }
   ],
   "source": [
    "X[X.MarStat==\"Single\"]['Chdlt18'].value_counts()"
   ]
  },
  {
   "cell_type": "code",
   "execution_count": 520,
   "metadata": {
    "collapsed": false
   },
   "outputs": [
    {
     "data": {
      "text/plain": [
       "No      9019\n",
       "Yes      755\n",
       "None      54\n",
       "Name: Chdlt18, dtype: int64"
      ]
     },
     "execution_count": 520,
     "metadata": {},
     "output_type": "execute_result"
    }
   ],
   "source": [
    "X[X.MarStat==\"In a relationship\"]['Chdlt18'].value_counts()"
   ]
  },
  {
   "cell_type": "code",
   "execution_count": 521,
   "metadata": {
    "collapsed": false
   },
   "outputs": [
    {
     "data": {
      "text/plain": [
       "No      3067\n",
       "Yes     2396\n",
       "None      27\n",
       "Name: Chdlt18, dtype: int64"
      ]
     },
     "execution_count": 521,
     "metadata": {},
     "output_type": "execute_result"
    }
   ],
   "source": [
    "X[X.MarStat==\"Married/civil union/domestic partnership\"]['Chdlt18'].value_counts()"
   ]
  },
  {
   "cell_type": "code",
   "execution_count": 522,
   "metadata": {
    "collapsed": true
   },
   "outputs": [],
   "source": [
    "# The majority of Chdlt18 values are \"No\" (we are not checking the last two Marital Statuses as the numbers are\n",
    "# very low). Hence, set \"No\" for all observations with Chdlt18 = \"None\"\n",
    "def setChdlt18(x):\n",
    "    if x == \"None\":\n",
    "        return \"No\"\n",
    "    else:\n",
    "        return x\n",
    "X['Chdlt18'] = X['Chdlt18'].map(setChdlt18)"
   ]
  },
  {
   "cell_type": "code",
   "execution_count": 523,
   "metadata": {
    "collapsed": false
   },
   "outputs": [
    {
     "data": {
      "text/plain": [
       "No     27707\n",
       "Yes     5047\n",
       "Name: Chdlt18, dtype: int64"
      ]
     },
     "execution_count": 523,
     "metadata": {},
     "output_type": "execute_result"
    }
   ],
   "source": [
    "X.Chdlt18.value_counts()"
   ]
  },
  {
   "cell_type": "markdown",
   "metadata": {
    "collapsed": false
   },
   "source": [
    "<h4>Data Cleansing - Education feature</h4>"
   ]
  },
  {
   "cell_type": "code",
   "execution_count": 524,
   "metadata": {
    "collapsed": false
   },
   "outputs": [
    {
     "data": {
      "text/plain": [
       "Bachelor's degree                     11046\n",
       "Some college                           9600\n",
       "Graduate or professional degree        4722\n",
       "High school graduate or equivalent     3272\n",
       "Some high school                       1924\n",
       "Associate degree                       1411\n",
       "Trade or Vocational degree              635\n",
       "None                                    144\n",
       "Name: Edu, dtype: int64"
      ]
     },
     "execution_count": 524,
     "metadata": {},
     "output_type": "execute_result"
    }
   ],
   "source": [
    "X.Edu.value_counts()"
   ]
  },
  {
   "cell_type": "code",
   "execution_count": 525,
   "metadata": {
    "collapsed": false
   },
   "outputs": [
    {
     "data": {
      "text/plain": [
       "Forever Alone                               68\n",
       "Single                                      38\n",
       "In a relationship                           24\n",
       "Married/civil union/domestic partnership    13\n",
       "Engaged                                      1\n",
       "Name: MarStat, dtype: int64"
      ]
     },
     "execution_count": 525,
     "metadata": {},
     "output_type": "execute_result"
    }
   ],
   "source": [
    "X[X.Edu==\"None\"]['MarStat'].value_counts()"
   ]
  },
  {
   "cell_type": "code",
   "execution_count": 526,
   "metadata": {
    "collapsed": false
   },
   "outputs": [
    {
     "data": {
      "text/plain": [
       "Some college                          1811\n",
       "Bachelor's degree                     1493\n",
       "High school graduate or equivalent     871\n",
       "Some high school                       673\n",
       "Graduate or professional degree        590\n",
       "Associate degree                       221\n",
       "Trade or Vocational degree             123\n",
       "None                                    68\n",
       "Name: Edu, dtype: int64"
      ]
     },
     "execution_count": 526,
     "metadata": {},
     "output_type": "execute_result"
    }
   ],
   "source": [
    "X[X.MarStat==\"Forever Alone\"]['Edu'].value_counts()"
   ]
  },
  {
   "cell_type": "code",
   "execution_count": 527,
   "metadata": {
    "collapsed": false
   },
   "outputs": [
    {
     "data": {
      "text/plain": [
       "Some college                          3484\n",
       "Bachelor's degree                     3215\n",
       "High school graduate or equivalent    1261\n",
       "Graduate or professional degree       1080\n",
       "Some high school                       822\n",
       "Associate degree                       376\n",
       "Trade or Vocational degree             157\n",
       "None                                    38\n",
       "Name: Edu, dtype: int64"
      ]
     },
     "execution_count": 527,
     "metadata": {},
     "output_type": "execute_result"
    }
   ],
   "source": [
    "X[X.MarStat==\"Single\"]['Edu'].value_counts()"
   ]
  },
  {
   "cell_type": "code",
   "execution_count": 528,
   "metadata": {
    "collapsed": false
   },
   "outputs": [
    {
     "data": {
      "text/plain": [
       "Bachelor's degree                     3624\n",
       "Some college                          3004\n",
       "Graduate or professional degree       1408\n",
       "High school graduate or equivalent     852\n",
       "Associate degree                       397\n",
       "Some high school                       352\n",
       "Trade or Vocational degree             167\n",
       "None                                    24\n",
       "Name: Edu, dtype: int64"
      ]
     },
     "execution_count": 528,
     "metadata": {},
     "output_type": "execute_result"
    }
   ],
   "source": [
    "X[X.MarStat==\"In a relationship\"]['Edu'].value_counts()"
   ]
  },
  {
   "cell_type": "code",
   "execution_count": 529,
   "metadata": {
    "collapsed": true
   },
   "outputs": [],
   "source": [
    "# Since the majority of the courses fall into either \"Bachelors\" or \"Some College\", we apply them 50/50 to all \"Nones\"\n",
    "global edu_flip_sw\n",
    "def setEdu(x):\n",
    "    global edu_flip_sw\n",
    "    if x == \"None\":\n",
    "        edu_flip_sw *= -1\n",
    "        if edu_flip_sw == 1:\n",
    "            return \"Bachelor's degree\"\n",
    "        else:\n",
    "            return \"Some college\"\n",
    "    else:\n",
    "        return x\n",
    "edu_flip_sw = 1\n",
    "X['Edu'] = X['Edu'].map(setEdu)"
   ]
  },
  {
   "cell_type": "code",
   "execution_count": 530,
   "metadata": {
    "collapsed": false
   },
   "outputs": [
    {
     "data": {
      "text/plain": [
       "Bachelor's degree                     11118\n",
       "Some college                           9672\n",
       "Graduate or professional degree        4722\n",
       "High school graduate or equivalent     3272\n",
       "Some high school                       1924\n",
       "Associate degree                       1411\n",
       "Trade or Vocational degree              635\n",
       "Name: Edu, dtype: int64"
      ]
     },
     "execution_count": 530,
     "metadata": {},
     "output_type": "execute_result"
    }
   ],
   "source": [
    "X.Edu.value_counts()"
   ]
  },
  {
   "cell_type": "markdown",
   "metadata": {},
   "source": [
    "<h4>Data Cleansing - Country & Continent (derived) features</h4>"
   ]
  },
  {
   "cell_type": "code",
   "execution_count": 531,
   "metadata": {
    "collapsed": false
   },
   "outputs": [
    {
     "data": {
      "text/plain": [
       "Munster      72\n",
       "Other        24\n",
       "Cheddar      23\n",
       "Brie         16\n",
       "Provolone    14\n",
       "Goat         13\n",
       "Swiss        12\n",
       "Feta          8\n",
       "Paneer        5\n",
       "American      2\n",
       "Limburger     1\n",
       "Name: Cheese, dtype: int64"
      ]
     },
     "execution_count": 531,
     "metadata": {},
     "output_type": "execute_result"
    }
   ],
   "source": [
    "# Cntry Analysis. This field was cleaned up outside ipython using excel, and now contains only 190 observations with\n",
    "# value = \"NONE\". Once we fit a valid country information for these instances, we would remove the Cntry & CntCd\n",
    "# (2 byte Country code used for deriving continent information) fields.\n",
    "X[X.Cntry==\"NONE\"]['Cheese'].value_counts()"
   ]
  },
  {
   "cell_type": "code",
   "execution_count": 532,
   "metadata": {
    "collapsed": false
   },
   "outputs": [
    {
     "data": {
      "text/plain": [
       "UNITED STATES         1449\n",
       "NONE                    72\n",
       "CANADA                  52\n",
       "UNITED KINGDOM          29\n",
       "IRELAND                 26\n",
       "FRANCE                  14\n",
       "GERMANY                 12\n",
       "NEW ZEALAND              9\n",
       "AUSTRALIA                9\n",
       "INDIA                    7\n",
       "FINLAND                  6\n",
       "NETHERLANDS              6\n",
       "SWEDEN                   6\n",
       "MEXICO                   4\n",
       "BELGIUM                  4\n",
       "SOUTH KOREA              4\n",
       "JAPAN                    4\n",
       "ISRAEL                   4\n",
       "PUERTO RICO              3\n",
       "CHINA                    3\n",
       "HONDURAS                 3\n",
       "QATAR                    3\n",
       "ROMANIA                  3\n",
       "ITALY                    3\n",
       "SINGAPORE                3\n",
       "POLAND                   3\n",
       "COLOMBIA                 2\n",
       "SWITZERLAND              2\n",
       "SPAIN                    2\n",
       "RUSSIAN FEDERATION       2\n",
       "BELARUS                  2\n",
       "COSTA RICA               1\n",
       "CZECH REPUBLIC           1\n",
       "BRAZIL                   1\n",
       "HONG KONG                1\n",
       "PORTUGAL                 1\n",
       "BULGARIA                 1\n",
       "DOMINICAN REPUBLIC       1\n",
       "DENMARK                  1\n",
       "PHILIPPINES              1\n",
       "KENYA                    1\n",
       "TAIWAN                   1\n",
       "EGYPT                    1\n",
       "HAITI                    1\n",
       "AUSTRIA                  1\n",
       "MALAYSIA                 1\n",
       "NORWAY                   1\n",
       "ICELAND                  1\n",
       "CHILE                    1\n",
       "INDONESIA                1\n",
       "Name: Cntry, dtype: int64"
      ]
     },
     "execution_count": 532,
     "metadata": {},
     "output_type": "execute_result"
    }
   ],
   "source": [
    "X[X.Cheese==\"Munster\"]['Cntry'].value_counts()"
   ]
  },
  {
   "cell_type": "code",
   "execution_count": 533,
   "metadata": {
    "collapsed": false
   },
   "outputs": [
    {
     "data": {
      "text/plain": [
       "North America    24376\n",
       "Europe            5535\n",
       "Oceania           1421\n",
       "Asia               830\n",
       "South America      281\n",
       "Africa             119\n",
       "Antarctica           2\n",
       "Name: Cont, dtype: int64"
      ]
     },
     "execution_count": 533,
     "metadata": {},
     "output_type": "execute_result"
    }
   ],
   "source": [
    "# Since maximum of \"Munster\" cheese people belong to US, we populate all \"NONE\" with \"United States\". Since Continent\n",
    "# information correlates to Cntry, we set all the 190 instances of Continent to \"North America\"\n",
    "X.Cont.value_counts()"
   ]
  },
  {
   "cell_type": "code",
   "execution_count": 534,
   "metadata": {
    "collapsed": false
   },
   "outputs": [
    {
     "data": {
      "text/plain": [
       "190"
      ]
     },
     "execution_count": 534,
     "metadata": {},
     "output_type": "execute_result"
    }
   ],
   "source": [
    "len(X[X.Cont.isnull()])"
   ]
  },
  {
   "cell_type": "code",
   "execution_count": 535,
   "metadata": {
    "collapsed": true
   },
   "outputs": [],
   "source": [
    "X.Cont = X.Cont.fillna(value = \"North America\")"
   ]
  },
  {
   "cell_type": "code",
   "execution_count": 536,
   "metadata": {
    "collapsed": false
   },
   "outputs": [
    {
     "data": {
      "text/plain": [
       "North America    24566\n",
       "Europe            5535\n",
       "Oceania           1421\n",
       "Asia               830\n",
       "South America      281\n",
       "Africa             119\n",
       "Antarctica           2\n",
       "Name: Cont, dtype: int64"
      ]
     },
     "execution_count": 536,
     "metadata": {},
     "output_type": "execute_result"
    }
   ],
   "source": [
    "X.Cont.value_counts()"
   ]
  },
  {
   "cell_type": "markdown",
   "metadata": {},
   "source": [
    "<h4>Data Cleansing - Are you a Dog or Cat Person? feature</h4>"
   ]
  },
  {
   "cell_type": "code",
   "execution_count": 537,
   "metadata": {
    "collapsed": false
   },
   "outputs": [
    {
     "data": {
      "text/plain": [
       "I like dogs.       17149\n",
       "I like cats.       11152\n",
       "I like turtles.     4442\n",
       "none                   5\n",
       "askreddit              2\n",
       " Reddit.com            1\n",
       "movies                 1\n",
       "Name: DogorCat, dtype: int64"
      ]
     },
     "execution_count": 537,
     "metadata": {},
     "output_type": "execute_result"
    }
   ],
   "source": [
    "# Dog or Cat person analysis. There is no specific trend observed here, hence, we distribute \"dogs\" and \"cats\" evenly\n",
    "# the remaining groups. The two missing instances are set to \"I love dogs\".\n",
    "X.DogorCat.value_counts()"
   ]
  },
  {
   "cell_type": "code",
   "execution_count": 538,
   "metadata": {
    "collapsed": false
   },
   "outputs": [],
   "source": [
    "global dogcat_sw\n",
    "def setDogCat(x):\n",
    "    global dogcat_sw\n",
    "    if x in (\"I like turtles.\", \"none\", \"askreddit\", \" Reddit.com\", \"movies\"):\n",
    "        dogcat_sw *= -1\n",
    "        if dogcat_sw == 1:\n",
    "            return \"I like dogs.\"\n",
    "        else:\n",
    "            return \"I like cats.\"\n",
    "    else:\n",
    "        return x\n",
    "dogcat_sw = 1\n",
    "X['DogorCat'] = X['DogorCat'].map(setDogCat)"
   ]
  },
  {
   "cell_type": "code",
   "execution_count": 539,
   "metadata": {
    "collapsed": false
   },
   "outputs": [],
   "source": [
    "X.DogorCat = X.DogorCat.fillna(value = \"I like dogs.\")"
   ]
  },
  {
   "cell_type": "code",
   "execution_count": 540,
   "metadata": {
    "collapsed": false
   },
   "outputs": [
    {
     "data": {
      "text/plain": [
       "I like dogs.    19376\n",
       "I like cats.    13378\n",
       "Name: DogorCat, dtype: int64"
      ]
     },
     "execution_count": 540,
     "metadata": {},
     "output_type": "execute_result"
    }
   ],
   "source": [
    "X.DogorCat.value_counts()"
   ]
  },
  {
   "cell_type": "markdown",
   "metadata": {},
   "source": [
    "<h4>Data Cleansing - What kind of Cheese are you? feature</h4>"
   ]
  },
  {
   "cell_type": "code",
   "execution_count": 541,
   "metadata": {
    "collapsed": false
   },
   "outputs": [
    {
     "data": {
      "text/plain": [
       "Other            6562\n",
       "Cheddar          6101\n",
       "Brie             3742\n",
       "Provolone        3454\n",
       "Swiss            3214\n",
       "Feta             2991\n",
       "Goat             2516\n",
       "Munster          1770\n",
       "American         1438\n",
       "Paneer            618\n",
       "Limburger         337\n",
       "none                5\n",
       " f7u12              2\n",
       "1                   1\n",
       "programming')       1\n",
       " awww               1\n",
       " Pics               1\n",
       "Name: Cheese, dtype: int64"
      ]
     },
     "execution_count": 541,
     "metadata": {},
     "output_type": "execute_result"
    }
   ],
   "source": [
    "# Cheese Analysis\n",
    "X.Cheese.value_counts()"
   ]
  },
  {
   "cell_type": "code",
   "execution_count": 542,
   "metadata": {
    "collapsed": false
   },
   "outputs": [],
   "source": [
    "# there are only few invalid entries for cheese, and hence, we split them across \"Other\" and \"Cheddar\". There are no\n",
    "# missing values for this feature.\n",
    "global cheese_sw\n",
    "def setCheese(x):\n",
    "    global cheese_sw\n",
    "    if x in (\"none\", \" f7u12\", \"1\", \"programming')\", \" awww\", \" Pics\"):\n",
    "        cheese_sw *= -1\n",
    "        if cheese_sw == 1:\n",
    "            return \"Other\"\n",
    "        else:\n",
    "            return \"Cheddar\"\n",
    "    else:\n",
    "        return x\n",
    "cheese_sw = 1\n",
    "X['Cheese'] = X['Cheese'].map(setCheese)"
   ]
  },
  {
   "cell_type": "code",
   "execution_count": 543,
   "metadata": {
    "collapsed": false
   },
   "outputs": [
    {
     "data": {
      "text/plain": [
       "Other        6567\n",
       "Cheddar      6107\n",
       "Brie         3742\n",
       "Provolone    3454\n",
       "Swiss        3214\n",
       "Feta         2991\n",
       "Goat         2516\n",
       "Munster      1770\n",
       "American     1438\n",
       "Paneer        618\n",
       "Limburger     337\n",
       "Name: Cheese, dtype: int64"
      ]
     },
     "execution_count": 543,
     "metadata": {},
     "output_type": "execute_result"
    }
   ],
   "source": [
    "X.Cheese.value_counts()"
   ]
  },
  {
   "cell_type": "markdown",
   "metadata": {},
   "source": [
    "<h4>Data Cleansing - Fix \"none\" entries in target feature - Income</h4>"
   ]
  },
  {
   "cell_type": "code",
   "execution_count": 544,
   "metadata": {
    "collapsed": false
   },
   "outputs": [
    {
     "data": {
      "text/plain": [
       "Under $20,000          7892\n",
       "$50,000 - $69,999      4133\n",
       "$70,000 - $99,999      4101\n",
       "$100,000 - $149,999    3522\n",
       "$20,000 - $29,999      3206\n",
       "$30,000 - $39,999      2904\n",
       "$150,000 or more       2695\n",
       "$40,000 - $49,999      2686\n",
       "none                   1615\n",
       "Name: Income, dtype: int64"
      ]
     },
     "execution_count": 544,
     "metadata": {},
     "output_type": "execute_result"
    }
   ],
   "source": [
    "# Before popping Income to the target variable, we need to fix the \"none\" entries (there are no missing entries here)\n",
    "X.Income.value_counts()"
   ]
  },
  {
   "cell_type": "code",
   "execution_count": 545,
   "metadata": {
    "collapsed": false
   },
   "outputs": [
    {
     "data": {
      "text/plain": [
       "18-24          885\n",
       "Under 18       333\n",
       "25-34          278\n",
       "35-44           85\n",
       "45-54           27\n",
       "55-64            6\n",
       "65 or Above      1\n",
       "Name: AgeCat, dtype: int64"
      ]
     },
     "execution_count": 545,
     "metadata": {},
     "output_type": "execute_result"
    }
   ],
   "source": [
    "X[X.Income==\"none\"]['AgeCat'].value_counts()"
   ]
  },
  {
   "cell_type": "code",
   "execution_count": 546,
   "metadata": {
    "collapsed": false
   },
   "outputs": [
    {
     "data": {
      "text/plain": [
       "18-24          5649\n",
       "25-34          1521\n",
       "Under 18        548\n",
       "35-44           127\n",
       "45-54            25\n",
       "55-64            12\n",
       "65 or Above      10\n",
       "Name: AgeCat, dtype: int64"
      ]
     },
     "execution_count": 546,
     "metadata": {},
     "output_type": "execute_result"
    }
   ],
   "source": [
    "X[X.Income==\"Under $20,000\"]['AgeCat'].value_counts()"
   ]
  },
  {
   "cell_type": "code",
   "execution_count": 547,
   "metadata": {
    "collapsed": false
   },
   "outputs": [
    {
     "data": {
      "text/plain": [
       "18-24          1744\n",
       "25-34          1229\n",
       "Under 18         97\n",
       "35-44            96\n",
       "45-54            21\n",
       "55-64            11\n",
       "65 or Above       8\n",
       "Name: AgeCat, dtype: int64"
      ]
     },
     "execution_count": 547,
     "metadata": {},
     "output_type": "execute_result"
    }
   ],
   "source": [
    "X[X.Income==\"$20,000 - $29,999\"]['AgeCat'].value_counts()"
   ]
  },
  {
   "cell_type": "code",
   "execution_count": 548,
   "metadata": {
    "collapsed": false
   },
   "outputs": [
    {
     "data": {
      "text/plain": [
       "18-24          1308\n",
       "25-34          1305\n",
       "35-44           128\n",
       "Under 18        109\n",
       "45-54            31\n",
       "55-64            19\n",
       "65 or Above       4\n",
       "Name: AgeCat, dtype: int64"
      ]
     },
     "execution_count": 548,
     "metadata": {},
     "output_type": "execute_result"
    }
   ],
   "source": [
    "X[X.Income==\"$30,000 - $39,999\"]['AgeCat'].value_counts()"
   ]
  },
  {
   "cell_type": "code",
   "execution_count": 549,
   "metadata": {
    "collapsed": false
   },
   "outputs": [
    {
     "data": {
      "text/plain": [
       "25-34          1284\n",
       "18-24          1082\n",
       "35-44           149\n",
       "Under 18        126\n",
       "45-54            30\n",
       "55-64            10\n",
       "65 or Above       5\n",
       "Name: AgeCat, dtype: int64"
      ]
     },
     "execution_count": 549,
     "metadata": {},
     "output_type": "execute_result"
    }
   ],
   "source": [
    "X[X.Income==\"$40,000 - $49,999\"]['AgeCat'].value_counts()"
   ]
  },
  {
   "cell_type": "code",
   "execution_count": 550,
   "metadata": {
    "collapsed": true
   },
   "outputs": [],
   "source": [
    "# Since Income distribution is spread mostly across \"18-24\" and \"25-34\", we set the \"none\" values to \"Under 20k\"\n",
    "def setIncome(x):\n",
    "    if x == \"none\":\n",
    "        return \"Under $20,000\"\n",
    "    else:\n",
    "        return x\n",
    "X['Income'] = X['Income'].map(setIncome)"
   ]
  },
  {
   "cell_type": "code",
   "execution_count": 551,
   "metadata": {
    "collapsed": false
   },
   "outputs": [
    {
     "data": {
      "text/plain": [
       "Under $20,000          9507\n",
       "$50,000 - $69,999      4133\n",
       "$70,000 - $99,999      4101\n",
       "$100,000 - $149,999    3522\n",
       "$20,000 - $29,999      3206\n",
       "$30,000 - $39,999      2904\n",
       "$150,000 or more       2695\n",
       "$40,000 - $49,999      2686\n",
       "Name: Income, dtype: int64"
      ]
     },
     "execution_count": 551,
     "metadata": {},
     "output_type": "execute_result"
    }
   ],
   "source": [
    "X.Income.value_counts()"
   ]
  },
  {
   "cell_type": "markdown",
   "metadata": {},
   "source": [
    "<h4>One final check before running the Regressor</h4>"
   ]
  },
  {
   "cell_type": "code",
   "execution_count": 552,
   "metadata": {
    "collapsed": false
   },
   "outputs": [
    {
     "data": {
      "text/html": [
       "<div>\n",
       "<table border=\"1\" class=\"dataframe\">\n",
       "  <thead>\n",
       "    <tr style=\"text-align: right;\">\n",
       "      <th></th>\n",
       "      <th>Sex</th>\n",
       "      <th>AgeCat</th>\n",
       "      <th>MarStat</th>\n",
       "      <th>EmpStat</th>\n",
       "      <th>Military</th>\n",
       "      <th>Chdlt18</th>\n",
       "      <th>Edu</th>\n",
       "      <th>Cntry</th>\n",
       "      <th>Income</th>\n",
       "      <th>SubReddit</th>\n",
       "      <th>DogorCat</th>\n",
       "      <th>Cheese</th>\n",
       "      <th>CntCd</th>\n",
       "      <th>Cont</th>\n",
       "    </tr>\n",
       "  </thead>\n",
       "  <tbody>\n",
       "    <tr>\n",
       "      <th>0</th>\n",
       "      <td>Male</td>\n",
       "      <td>25-34</td>\n",
       "      <td>Single</td>\n",
       "      <td>Employed full time</td>\n",
       "      <td>No</td>\n",
       "      <td>No</td>\n",
       "      <td>Bachelor's degree</td>\n",
       "      <td>UNITED STATES</td>\n",
       "      <td>$150,000 or more</td>\n",
       "      <td>getmotivated</td>\n",
       "      <td>I like cats.</td>\n",
       "      <td>Cheddar</td>\n",
       "      <td>US</td>\n",
       "      <td>North America</td>\n",
       "    </tr>\n",
       "  </tbody>\n",
       "</table>\n",
       "</div>"
      ],
      "text/plain": [
       "    Sex AgeCat MarStat             EmpStat Military Chdlt18  \\\n",
       "0  Male  25-34  Single  Employed full time       No      No   \n",
       "\n",
       "                 Edu          Cntry            Income     SubReddit  \\\n",
       "0  Bachelor's degree  UNITED STATES  $150,000 or more  getmotivated   \n",
       "\n",
       "       DogorCat   Cheese CntCd           Cont  \n",
       "0  I like cats.  Cheddar    US  North America  "
      ]
     },
     "execution_count": 552,
     "metadata": {},
     "output_type": "execute_result"
    }
   ],
   "source": [
    "# One final check on all the feature distributions, before model creation.\n",
    "X.head(n=1)"
   ]
  },
  {
   "cell_type": "code",
   "execution_count": 553,
   "metadata": {
    "collapsed": false
   },
   "outputs": [
    {
     "data": {
      "text/plain": [
       "Male      26619\n",
       "Female     6135\n",
       "Name: Sex, dtype: int64"
      ]
     },
     "execution_count": 553,
     "metadata": {},
     "output_type": "execute_result"
    }
   ],
   "source": [
    "X.Sex.value_counts()"
   ]
  },
  {
   "cell_type": "code",
   "execution_count": 554,
   "metadata": {
    "collapsed": false
   },
   "outputs": [
    {
     "data": {
      "text/plain": [
       "18-24          15890\n",
       "25-34          11575\n",
       "Under 18        2330\n",
       "35-44           2257\n",
       "45-54            502\n",
       "55-64            140\n",
       "65 or Above       60\n",
       "Name: AgeCat, dtype: int64"
      ]
     },
     "execution_count": 554,
     "metadata": {},
     "output_type": "execute_result"
    }
   ],
   "source": [
    "X.AgeCat.value_counts()"
   ]
  },
  {
   "cell_type": "code",
   "execution_count": 555,
   "metadata": {
    "collapsed": false
   },
   "outputs": [
    {
     "data": {
      "text/plain": [
       "Single                                      10433\n",
       "In a relationship                            9828\n",
       "Forever Alone                                5850\n",
       "Married/civil union/domestic partnership     5490\n",
       "Engaged                                      1109\n",
       "Widowed                                        44\n",
       "Name: MarStat, dtype: int64"
      ]
     },
     "execution_count": 555,
     "metadata": {},
     "output_type": "execute_result"
    }
   ],
   "source": [
    "X.MarStat.value_counts()"
   ]
  },
  {
   "cell_type": "code",
   "execution_count": 556,
   "metadata": {
    "collapsed": false
   },
   "outputs": [
    {
     "data": {
      "text/plain": [
       "Employed full time                       14814\n",
       "Student                                  13138\n",
       "Not employed, but looking for work        2087\n",
       "Freelance                                 1948\n",
       "Not employed and not looking for work      682\n",
       "Retired                                     85\n",
       "Name: EmpStat, dtype: int64"
      ]
     },
     "execution_count": 556,
     "metadata": {},
     "output_type": "execute_result"
    }
   ],
   "source": [
    "X.EmpStat.value_counts()"
   ]
  },
  {
   "cell_type": "code",
   "execution_count": 557,
   "metadata": {
    "collapsed": false
   },
   "outputs": [
    {
     "data": {
      "text/plain": [
       "No     30531\n",
       "Yes     2223\n",
       "Name: Military, dtype: int64"
      ]
     },
     "execution_count": 557,
     "metadata": {},
     "output_type": "execute_result"
    }
   ],
   "source": [
    "X.Military.value_counts()"
   ]
  },
  {
   "cell_type": "code",
   "execution_count": 558,
   "metadata": {
    "collapsed": false
   },
   "outputs": [
    {
     "data": {
      "text/plain": [
       "No     27707\n",
       "Yes     5047\n",
       "Name: Chdlt18, dtype: int64"
      ]
     },
     "execution_count": 558,
     "metadata": {},
     "output_type": "execute_result"
    }
   ],
   "source": [
    "X.Chdlt18.value_counts()"
   ]
  },
  {
   "cell_type": "code",
   "execution_count": 559,
   "metadata": {
    "collapsed": false
   },
   "outputs": [
    {
     "data": {
      "text/plain": [
       "Bachelor's degree                     11118\n",
       "Some college                           9672\n",
       "Graduate or professional degree        4722\n",
       "High school graduate or equivalent     3272\n",
       "Some high school                       1924\n",
       "Associate degree                       1411\n",
       "Trade or Vocational degree              635\n",
       "Name: Edu, dtype: int64"
      ]
     },
     "execution_count": 559,
     "metadata": {},
     "output_type": "execute_result"
    }
   ],
   "source": [
    "X.Edu.value_counts()"
   ]
  },
  {
   "cell_type": "code",
   "execution_count": 560,
   "metadata": {
    "collapsed": false
   },
   "outputs": [
    {
     "data": {
      "text/plain": [
       "askreddit                                        2123\n",
       "fffffffuuuuuuuuuuuu                              1746\n",
       "pics                                             1651\n",
       "trees                                            1311\n",
       "gaming                                           1207\n",
       "funny                                            1092\n",
       "atheism                                           839\n",
       "askscience                                        779\n",
       "all                                               647\n",
       "todayilearned                                     645\n",
       "starcraft                                         611\n",
       "iama                                              576\n",
       "minecraft                                         520\n",
       "f7u12                                             515\n",
       "programming                                       501\n",
       "twoxchromosomes                                   396\n",
       "science                                           378\n",
       "truereddit                                        347\n",
       "wtf                                               320\n",
       "fitness                                           290\n",
       "gonewild                                          254\n",
       "politics                                          235\n",
       "frontpage                                         207\n",
       "soccer                                            203\n",
       "worldnews                                         201\n",
       "doctorwho                                         191\n",
       "earthporn                                         180\n",
       "android                                           171\n",
       "videos                                            162\n",
       "circlejerk                                        146\n",
       "                                                 ... \n",
       "i dont know                                         1\n",
       "starcraft, gonewild, f7u12                          1\n",
       "atheism/wtf                                         1\n",
       "highheels                                           1\n",
       "tennessee                                           1\n",
       "i enjoy all of reddit, regardless of content!       1\n",
       "freemusic                                           1\n",
       "seedexchange                                        1\n",
       "nyc or aww                                          1\n",
       "aww, cute                                           1\n",
       "nosleep, worldnews                                  1\n",
       "hiking                                              1\n",
       "mcpublic                                            1\n",
       "beertrade                                           1\n",
       "confession                                          1\n",
       "ireland games                                       1\n",
       "the front page, bitches.                            1\n",
       "don't have one in particular                        1\n",
       "italians                                            1\n",
       "computing                                           1\n",
       "politics, f7u12, truereddit, trees, pics            1\n",
       "thinspo                                             1\n",
       "blues                                               1\n",
       "monterrey                                           1\n",
       "ask.reddit                                          1\n",
       "usc                                                 1\n",
       "rutabaga                                            1\n",
       "new or all                                          1\n",
       "luthier                                             1\n",
       "stonerrock                                          1\n",
       "Name: SubReddit, dtype: int64"
      ]
     },
     "execution_count": 560,
     "metadata": {},
     "output_type": "execute_result"
    }
   ],
   "source": [
    "# SubReddit isn't offering much insight, hence, we would be dropping it.\n",
    "X.SubReddit.value_counts()"
   ]
  },
  {
   "cell_type": "code",
   "execution_count": 561,
   "metadata": {
    "collapsed": false
   },
   "outputs": [
    {
     "data": {
      "text/plain": [
       "I like dogs.    19376\n",
       "I like cats.    13378\n",
       "Name: DogorCat, dtype: int64"
      ]
     },
     "execution_count": 561,
     "metadata": {},
     "output_type": "execute_result"
    }
   ],
   "source": [
    "X.DogorCat.value_counts()"
   ]
  },
  {
   "cell_type": "code",
   "execution_count": 562,
   "metadata": {
    "collapsed": false
   },
   "outputs": [
    {
     "data": {
      "text/plain": [
       "Other        6567\n",
       "Cheddar      6107\n",
       "Brie         3742\n",
       "Provolone    3454\n",
       "Swiss        3214\n",
       "Feta         2991\n",
       "Goat         2516\n",
       "Munster      1770\n",
       "American     1438\n",
       "Paneer        618\n",
       "Limburger     337\n",
       "Name: Cheese, dtype: int64"
      ]
     },
     "execution_count": 562,
     "metadata": {},
     "output_type": "execute_result"
    }
   ],
   "source": [
    "X.Cheese.value_counts()"
   ]
  },
  {
   "cell_type": "code",
   "execution_count": 563,
   "metadata": {
    "collapsed": false
   },
   "outputs": [
    {
     "data": {
      "text/plain": [
       "North America    24566\n",
       "Europe            5535\n",
       "Oceania           1421\n",
       "Asia               830\n",
       "South America      281\n",
       "Africa             119\n",
       "Antarctica           2\n",
       "Name: Cont, dtype: int64"
      ]
     },
     "execution_count": 563,
     "metadata": {},
     "output_type": "execute_result"
    }
   ],
   "source": [
    "X.Cont.value_counts()"
   ]
  },
  {
   "cell_type": "markdown",
   "metadata": {},
   "source": [
    "<h4>Drop unwanted features</h4>"
   ]
  },
  {
   "cell_type": "code",
   "execution_count": 564,
   "metadata": {
    "collapsed": false
   },
   "outputs": [],
   "source": [
    "# finally... drop unwanted features - Cntry, SubReddit and CntCd\n",
    "X = X.drop(['Cntry', 'SubReddit', 'CntCd'], axis=1)"
   ]
  },
  {
   "cell_type": "code",
   "execution_count": 565,
   "metadata": {
    "collapsed": false
   },
   "outputs": [
    {
     "data": {
      "text/html": [
       "<div>\n",
       "<table border=\"1\" class=\"dataframe\">\n",
       "  <thead>\n",
       "    <tr style=\"text-align: right;\">\n",
       "      <th></th>\n",
       "      <th>Sex</th>\n",
       "      <th>AgeCat</th>\n",
       "      <th>MarStat</th>\n",
       "      <th>EmpStat</th>\n",
       "      <th>Military</th>\n",
       "      <th>Chdlt18</th>\n",
       "      <th>Edu</th>\n",
       "      <th>Income</th>\n",
       "      <th>DogorCat</th>\n",
       "      <th>Cheese</th>\n",
       "      <th>Cont</th>\n",
       "    </tr>\n",
       "  </thead>\n",
       "  <tbody>\n",
       "    <tr>\n",
       "      <th>0</th>\n",
       "      <td>Male</td>\n",
       "      <td>25-34</td>\n",
       "      <td>Single</td>\n",
       "      <td>Employed full time</td>\n",
       "      <td>No</td>\n",
       "      <td>No</td>\n",
       "      <td>Bachelor's degree</td>\n",
       "      <td>$150,000 or more</td>\n",
       "      <td>I like cats.</td>\n",
       "      <td>Cheddar</td>\n",
       "      <td>North America</td>\n",
       "    </tr>\n",
       "  </tbody>\n",
       "</table>\n",
       "</div>"
      ],
      "text/plain": [
       "    Sex AgeCat MarStat             EmpStat Military Chdlt18  \\\n",
       "0  Male  25-34  Single  Employed full time       No      No   \n",
       "\n",
       "                 Edu            Income      DogorCat   Cheese           Cont  \n",
       "0  Bachelor's degree  $150,000 or more  I like cats.  Cheddar  North America  "
      ]
     },
     "execution_count": 565,
     "metadata": {},
     "output_type": "execute_result"
    }
   ],
   "source": [
    "X.head(n=1)"
   ]
  },
  {
   "cell_type": "markdown",
   "metadata": {},
   "source": [
    "<h4>Pop the target feature into a different variable</h4>"
   ]
  },
  {
   "cell_type": "code",
   "execution_count": 566,
   "metadata": {
    "collapsed": false
   },
   "outputs": [],
   "source": [
    "y = X.pop('Income')\n",
    "dummies = pd.get_dummies(y, prefix=\"Income\")\n",
    "y = pd.concat([y, dummies], axis=1)\n",
    "y = y.drop(\"Income\", axis=1)"
   ]
  },
  {
   "cell_type": "code",
   "execution_count": 567,
   "metadata": {
    "collapsed": false
   },
   "outputs": [
    {
     "data": {
      "text/html": [
       "<div>\n",
       "<table border=\"1\" class=\"dataframe\">\n",
       "  <thead>\n",
       "    <tr style=\"text-align: right;\">\n",
       "      <th></th>\n",
       "      <th>Sex</th>\n",
       "      <th>AgeCat</th>\n",
       "      <th>MarStat</th>\n",
       "      <th>EmpStat</th>\n",
       "      <th>Military</th>\n",
       "      <th>Chdlt18</th>\n",
       "      <th>Edu</th>\n",
       "      <th>DogorCat</th>\n",
       "      <th>Cheese</th>\n",
       "      <th>Cont</th>\n",
       "    </tr>\n",
       "  </thead>\n",
       "  <tbody>\n",
       "    <tr>\n",
       "      <th>count</th>\n",
       "      <td>32754</td>\n",
       "      <td>32754</td>\n",
       "      <td>32754</td>\n",
       "      <td>32754</td>\n",
       "      <td>32754</td>\n",
       "      <td>32754</td>\n",
       "      <td>32754</td>\n",
       "      <td>32754</td>\n",
       "      <td>32754</td>\n",
       "      <td>32754</td>\n",
       "    </tr>\n",
       "    <tr>\n",
       "      <th>unique</th>\n",
       "      <td>2</td>\n",
       "      <td>7</td>\n",
       "      <td>6</td>\n",
       "      <td>6</td>\n",
       "      <td>2</td>\n",
       "      <td>2</td>\n",
       "      <td>7</td>\n",
       "      <td>2</td>\n",
       "      <td>11</td>\n",
       "      <td>7</td>\n",
       "    </tr>\n",
       "    <tr>\n",
       "      <th>top</th>\n",
       "      <td>Male</td>\n",
       "      <td>18-24</td>\n",
       "      <td>Single</td>\n",
       "      <td>Employed full time</td>\n",
       "      <td>No</td>\n",
       "      <td>No</td>\n",
       "      <td>Bachelor's degree</td>\n",
       "      <td>I like dogs.</td>\n",
       "      <td>Other</td>\n",
       "      <td>North America</td>\n",
       "    </tr>\n",
       "    <tr>\n",
       "      <th>freq</th>\n",
       "      <td>26619</td>\n",
       "      <td>15890</td>\n",
       "      <td>10433</td>\n",
       "      <td>14814</td>\n",
       "      <td>30531</td>\n",
       "      <td>27707</td>\n",
       "      <td>11118</td>\n",
       "      <td>19376</td>\n",
       "      <td>6567</td>\n",
       "      <td>24566</td>\n",
       "    </tr>\n",
       "  </tbody>\n",
       "</table>\n",
       "</div>"
      ],
      "text/plain": [
       "          Sex AgeCat MarStat             EmpStat Military Chdlt18  \\\n",
       "count   32754  32754   32754               32754    32754   32754   \n",
       "unique      2      7       6                   6        2       2   \n",
       "top      Male  18-24  Single  Employed full time       No      No   \n",
       "freq    26619  15890   10433               14814    30531   27707   \n",
       "\n",
       "                      Edu      DogorCat Cheese           Cont  \n",
       "count               32754         32754  32754          32754  \n",
       "unique                  7             2     11              7  \n",
       "top     Bachelor's degree  I like dogs.  Other  North America  \n",
       "freq                11118         19376   6567          24566  "
      ]
     },
     "execution_count": 567,
     "metadata": {},
     "output_type": "execute_result"
    }
   ],
   "source": [
    "X.describe()"
   ]
  },
  {
   "cell_type": "markdown",
   "metadata": {},
   "source": [
    "<h4>Implement one-hot encoding for all the categoricals</h4>"
   ]
  },
  {
   "cell_type": "code",
   "execution_count": 568,
   "metadata": {
    "collapsed": false
   },
   "outputs": [],
   "source": [
    "categorical_variables = ['Sex', 'AgeCat', 'MarStat', 'EmpStat', 'Military',\n",
    "                         'Chdlt18', 'Edu', 'DogorCat', 'Cheese', 'Cont']\n",
    "for variable in categorical_variables:\n",
    "    dummies = pd.get_dummies(X[variable], prefix=variable)\n",
    "    X = pd.concat([X, dummies], axis=1)\n",
    "    X.drop([variable], axis=1, inplace=True)"
   ]
  },
  {
   "cell_type": "markdown",
   "metadata": {},
   "source": [
    "<h4>Draw the seaborn plot that shows pair-wise correlation between features</h4>"
   ]
  },
  {
   "cell_type": "code",
   "execution_count": 569,
   "metadata": {
    "collapsed": false
   },
   "outputs": [
    {
     "data": {
      "text/plain": [
       "<matplotlib.axes._subplots.AxesSubplot at 0x10fd4bc10>"
      ]
     },
     "execution_count": 569,
     "metadata": {},
     "output_type": "execute_result"
    },
    {
     "data": {
      "image/png": "[encoded data removed]",
      "text/plain": [
       "<matplotlib.figure.Figure at 0x112bf5310>"
      ]
     },
     "metadata": {},
     "output_type": "display_data"
    }
   ],
   "source": [
    "# The plot below is based on the hot-encoded variables, and not the actual features.\n",
    "sns.set(style=\"white\")\n",
    "\n",
    "# Compute the correlation matrix\n",
    "corr = X.corr()\n",
    "\n",
    "# Generate a mask for the upper triangle\n",
    "mask = np.zeros_like(corr, dtype=np.bool)\n",
    "mask[np.triu_indices_from(mask)] = True\n",
    "\n",
    "# Set up the matplotlib figure\n",
    "f, ax = plt.subplots(figsize=(11, 9))\n",
    "\n",
    "# Generate a custom diverging colormap\n",
    "cmap = sns.diverging_palette(220, 10, as_cmap=True)\n",
    "\n",
    "# Draw the heatmap with the mask and correct aspect ratio\n",
    "sns.heatmap(corr, mask=mask, cmap=cmap, vmax=.3,\n",
    "            square=True, xticklabels=2, yticklabels=2,\n",
    "            linewidths=.5, cbar_kws={\"shrink\": .5}, ax=ax)"
   ]
  },
  {
   "cell_type": "code",
   "execution_count": 570,
   "metadata": {
    "collapsed": false
   },
   "outputs": [
    {
     "data": {
      "text/html": [
       "<div>\n",
       "<table border=\"1\" class=\"dataframe\">\n",
       "  <thead>\n",
       "    <tr style=\"text-align: right;\">\n",
       "      <th></th>\n",
       "      <th>Income_$100,000 - $149,999</th>\n",
       "      <th>Income_$150,000 or more</th>\n",
       "      <th>Income_$20,000 - $29,999</th>\n",
       "      <th>Income_$30,000 - $39,999</th>\n",
       "      <th>Income_$40,000 - $49,999</th>\n",
       "      <th>Income_$50,000 - $69,999</th>\n",
       "      <th>Income_$70,000 - $99,999</th>\n",
       "      <th>Income_Under $20,000</th>\n",
       "    </tr>\n",
       "  </thead>\n",
       "  <tbody>\n",
       "    <tr>\n",
       "      <th>0</th>\n",
       "      <td>0</td>\n",
       "      <td>1</td>\n",
       "      <td>0</td>\n",
       "      <td>0</td>\n",
       "      <td>0</td>\n",
       "      <td>0</td>\n",
       "      <td>0</td>\n",
       "      <td>0</td>\n",
       "    </tr>\n",
       "  </tbody>\n",
       "</table>\n",
       "</div>"
      ],
      "text/plain": [
       "   Income_$100,000 - $149,999  Income_$150,000 or more  \\\n",
       "0                           0                        1   \n",
       "\n",
       "   Income_$20,000 - $29,999  Income_$30,000 - $39,999  \\\n",
       "0                         0                         0   \n",
       "\n",
       "   Income_$40,000 - $49,999  Income_$50,000 - $69,999  \\\n",
       "0                         0                         0   \n",
       "\n",
       "   Income_$70,000 - $99,999  Income_Under $20,000  \n",
       "0                         0                     0  "
      ]
     },
     "execution_count": 570,
     "metadata": {},
     "output_type": "execute_result"
    }
   ],
   "source": [
    "y.head(n=1)"
   ]
  },
  {
   "cell_type": "markdown",
   "metadata": {},
   "source": [
    "<h4>Execute the RandomForest Classifier</h4>"
   ]
  },
  {
   "cell_type": "code",
   "execution_count": 571,
   "metadata": {
    "collapsed": false,
    "scrolled": true
   },
   "outputs": [
    {
     "name": "stdout",
     "output_type": "stream",
     "text": [
      "C-stat:  0.67617968757\n"
     ]
    }
   ],
   "source": [
    "model = RandomForestClassifier(100, oob_score=True, n_jobs=-1, random_state=42)\n",
    "model.fit(X, y)\n",
    "print \"C-stat: \", roc_auc_score(y, model.predict(X))"
   ]
  },
  {
   "cell_type": "markdown",
   "metadata": {},
   "source": [
    "<h4>Execute the RandomForest Regressor</h4>"
   ]
  },
  {
   "cell_type": "code",
   "execution_count": 579,
   "metadata": {
    "collapsed": false
   },
   "outputs": [
    {
     "name": "stdout",
     "output_type": "stream",
     "text": [
      "C-stat:  0.922098278892\n"
     ]
    }
   ],
   "source": [
    "model = RandomForestRegressor(100, oob_score=True, n_jobs=-1, random_state=42)\n",
    "model.fit(X, y)\n",
    "yhat = model.predict(X)\n",
    "print \"C-stat: \", roc_auc_score(y, yhat)"
   ]
  },
  {
   "cell_type": "code",
   "execution_count": 573,
   "metadata": {
    "collapsed": false
   },
   "outputs": [
    {
     "name": "stderr",
     "output_type": "stream",
     "text": [
      "/anaconda/lib/python2.7/site-packages/ipykernel/__main__.py:2: FutureWarning: sort is deprecated, use sort_values(inplace=True) for for INPLACE sorting\n",
      "  from ipykernel import kernelapp as app\n"
     ]
    },
    {
     "data": {
      "image/png": "[encoded data removed]",
      "text/plain": [
       "<matplotlib.figure.Figure at 0x112e37590>"
      ]
     },
     "metadata": {},
     "output_type": "display_data"
    }
   ],
   "source": [
    "feature_importances = pd.Series(model.feature_importances_, index=X.columns)\n",
    "feature_importances.sort()\n",
    "feature_importances.plot(kind=\"barh\", figsize=(7,6));"
   ]
  },
  {
   "cell_type": "code",
   "execution_count": 575,
   "metadata": {
    "collapsed": false
   },
   "outputs": [
    {
     "name": "stderr",
     "output_type": "stream",
     "text": [
      "/anaconda/lib/python2.7/site-packages/ipykernel/__main__.py:41: FutureWarning: sort is deprecated, use sort_values(inplace=True) for for INPLACE sorting\n"
     ]
    },
    {
     "data": {
      "image/png": "[encoded data removed]",
      "text/plain": [
       "<matplotlib.figure.Figure at 0x1119ce950>"
      ]
     },
     "metadata": {},
     "output_type": "display_data"
    }
   ],
   "source": [
    "# Complex version that shows the summary view\n",
    "\n",
    "def graph_feature_importances(model, feature_names, autoscale=True, headroom=0.05, width=10, summarized_columns=None):\n",
    "    \"\"\"\n",
    "    By Mike Bernico\n",
    "    \n",
    "    Graphs the feature importances of a random decision forest using a horizontal bar chart. \n",
    "    Probably works but untested on other sklearn.ensembles.\n",
    "    \n",
    "    Parameters\n",
    "    ----------\n",
    "    ensemble = Name of the ensemble whose features you would like graphed.\n",
    "    feature_names = A list of the names of those featurs, displayed on the Y axis.\n",
    "    autoscale = True (Automatically adjust the X axis size to the largest feature +.headroom) / False = scale from 0 to 1\n",
    "    headroom = used with autoscale, .05 default\n",
    "    width=figure width in inches\n",
    "    summarized_columns = a list of column prefixes to summarize on, for dummy variables (e.g. [\"day_\"] would summarize all day_ vars\n",
    "    \"\"\"\n",
    "    \n",
    "    if autoscale:\n",
    "        x_scale = model.feature_importances_.max()+ headroom\n",
    "    else:\n",
    "        x_scale = 1\n",
    "    \n",
    "    feature_dict=dict(zip(feature_names, model.feature_importances_))\n",
    "    \n",
    "    if summarized_columns: \n",
    "        #some dummy columns need to be summarized\n",
    "        for col_name in summarized_columns: \n",
    "            #sum all the features that contain col_name, store in temp sum_value\n",
    "            sum_value = sum(x for i, x in feature_dict.iteritems() if col_name in i )  \n",
    "            \n",
    "            #now remove all keys that are part of col_name\n",
    "            keys_to_remove = [i for i in feature_dict.keys() if col_name in i ]\n",
    "            for i in keys_to_remove:\n",
    "                feature_dict.pop(i)\n",
    "            #lastly, read the summarized field\n",
    "            feature_dict[col_name] = sum_value\n",
    "        \n",
    "    results = pd.Series(feature_dict.values(), index=feature_dict.keys())\n",
    "    results.sort(axis=1)\n",
    "    results.plot(kind=\"barh\", figsize=(width,len(results)/4), xlim=(0,x_scale))\n",
    "    \n",
    "graph_feature_importances(model, X.columns, summarized_columns=categorical_variables)"
   ]
  }
 ],
 "metadata": {
  "kernelspec": {
   "display_name": "Python 2",
   "language": "python",
   "name": "python2"
  },
  "language_info": {
   "codemirror_mode": {
    "name": "ipython",
    "version": 2
   },
   "file_extension": ".py",
   "mimetype": "text/x-python",
   "name": "python",
   "nbconvert_exporter": "python",
   "pygments_lexer": "ipython2",
   "version": "2.7.11"
  }
 },
 "nbformat": 4,
 "nbformat_minor": 0
}
