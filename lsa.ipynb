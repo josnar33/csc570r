{
 "cells": [
  {
   "cell_type": "code",
   "execution_count": 1,
   "metadata": {
    "collapsed": true
   },
   "outputs": [],
   "source": [
    "import nltk\n",
    "from nltk.corpus import stopwords\n",
    "from sklearn.feature_extraction.text import TfidfVectorizer\n",
    "from sklearn.decomposition import TruncatedSVD"
   ]
  },
  {
   "cell_type": "code",
   "execution_count": 2,
   "metadata": {
    "collapsed": false
   },
   "outputs": [],
   "source": [
    "from sklearn.datasets import fetch_20newsgroups\n",
    "categories = ['sci.med']\n",
    "dataset = fetch_20newsgroups(subset='all',shuffle=True, random_state=42, categories=categories)\n",
    "corpus = dataset.data"
   ]
  },
  {
   "cell_type": "code",
   "execution_count": 3,
   "metadata": {
    "collapsed": false
   },
   "outputs": [],
   "source": [
    "#nltk.download('stopwords')"
   ]
  },
  {
   "cell_type": "code",
   "execution_count": 446,
   "metadata": {
    "collapsed": true
   },
   "outputs": [],
   "source": [
    "stopset = set(stopwords.words('english'))\n",
    "additionals = ['nntp','pitt','ve','re','00','cs','edu','com','92','like','may','know','article','science',\n",
    "               'n3jxp','gordon','banks','writes','also','would','soon','people','one','gov','us','work','wa7kgx','since',\n",
    "               'even','anyone','new','reply','get','time','two','think','make','well','best','lines','much','see','doesn','go','msg',\n",
    "                'good','use','still','10','way','without','sure','back','years','read','number','could','someone',\n",
    "                'something','done','heard','found','seems','usually','right','many','non','trying','made','lot',\n",
    "               'used','try','help','want','little','never','first','probably','take','point','world','univ','ago',\n",
    "              'told','say','long','going','find','need','called','day','case','great','old','really','nothing','thanks',\n",
    "              'give','around','left','might','however','tell','believe','etc','show','keep','seen','involved','11','12',\n",
    "              'year','taking','anything','possible','better','problem','20','another','fact','said','getting','question'\n",
    "              'every','please','least','ask','among','one','major','useful','common','due','cause','computer','normal',\n",
    "              'center','public','person','state','else','group','john','usa','subjects','effects','bill','posting','cause',\n",
    "              'evidence','services','research','thing','harvard','school','david','things','different','course','related',\n",
    "              'must','rather','often','says','enough','info','given','question','book','type','page','actually','university',\n",
    "              'subject','seem','effect','pages','example','part','side','high','real','bih','aisun3','athens','ai','uga',\n",
    "              'geb','steve','soll','carl','krillean','sol1','true','come','jb','roth','teacher','michael','stephan','gi',\n",
    "              'jim','safety','wheather','every','several','jon','booklet','maybe','general','known','reason','spdcc',\n",
    "              'anti','especially','kind','problems','25','15','lydick','berkeley','ll','using','object','weeks',\n",
    "               'always','less']\n",
    "stopset.update(set(additionals))"
   ]
  },
  {
   "cell_type": "code",
   "execution_count": 447,
   "metadata": {
    "collapsed": true
   },
   "outputs": [],
   "source": [
    "vectorizer = TfidfVectorizer(stop_words=stopset,\n",
    "                                 use_idf=True, ngram_range=(1, 3))\n",
    "X = vectorizer.fit_transform(corpus)"
   ]
  },
  {
   "cell_type": "code",
   "execution_count": 448,
   "metadata": {
    "collapsed": false
   },
   "outputs": [
    {
     "data": {
      "text/plain": [
       "<1x219428 sparse matrix of type '<type 'numpy.float64'>'\n",
       "\twith 233 stored elements in Compressed Sparse Row format>"
      ]
     },
     "execution_count": 448,
     "metadata": {},
     "output_type": "execute_result"
    }
   ],
   "source": [
    "X[0]"
   ]
  },
  {
   "cell_type": "code",
   "execution_count": 449,
   "metadata": {
    "collapsed": false
   },
   "outputs": [
    {
     "name": "stdout",
     "output_type": "stream",
     "text": [
      "  (0, 31643)\t0.070783673173\n",
      "  (0, 169751)\t0.070783673173\n",
      "  (0, 160019)\t0.070783673173\n",
      "  (0, 209988)\t0.070783673173\n",
      "  (0, 74747)\t0.070783673173\n",
      "  (0, 113652)\t0.070783673173\n",
      "  (0, 48501)\t0.070783673173\n",
      "  (0, 105279)\t0.070783673173\n",
      "  (0, 99667)\t0.070783673173\n",
      "  (0, 149740)\t0.070783673173\n",
      "  (0, 88499)\t0.070783673173\n",
      "  (0, 160281)\t0.070783673173\n",
      "  (0, 93976)\t0.070783673173\n",
      "  (0, 93735)\t0.070783673173\n",
      "  (0, 16915)\t0.070783673173\n",
      "  (0, 161231)\t0.070783673173\n",
      "  (0, 21469)\t0.070783673173\n",
      "  (0, 41298)\t0.070783673173\n",
      "  (0, 73992)\t0.070783673173\n",
      "  (0, 112796)\t0.070783673173\n",
      "  (0, 150279)\t0.070783673173\n",
      "  (0, 126994)\t0.070783673173\n",
      "  (0, 13741)\t0.070783673173\n",
      "  (0, 86901)\t0.070783673173\n",
      "  (0, 193363)\t0.070783673173\n",
      "  :\t:\n",
      "  (0, 41704)\t0.0516680836223\n",
      "  (0, 41268)\t0.116954388012\n",
      "  (0, 211974)\t0.0617825188555\n",
      "  (0, 81178)\t0.127949125578\n",
      "  (0, 210604)\t0.0639745627892\n",
      "  (0, 5974)\t0.0418590658317\n",
      "  (0, 151106)\t0.0472280214166\n",
      "  (0, 210009)\t0.0399822404864\n",
      "  (0, 200056)\t0.0408758990007\n",
      "  (0, 135637)\t0.0385907409122\n",
      "  (0, 175613)\t0.070783673173\n",
      "  (0, 161162)\t0.070783673173\n",
      "  (0, 184192)\t0.0497607978811\n",
      "  (0, 119575)\t0.058477194006\n",
      "  (0, 144071)\t0.0639745627892\n",
      "  (0, 94608)\t0.0639745627892\n",
      "  (0, 141533)\t0.0101050214547\n",
      "  (0, 97737)\t0.070783673173\n",
      "  (0, 96865)\t0.0193175522093\n",
      "  (0, 149688)\t0.0775557205598\n",
      "  (0, 187730)\t0.070783673173\n",
      "  (0, 97640)\t0.0935827017402\n",
      "  (0, 185817)\t0.141567346346\n",
      "  (0, 97734)\t0.070783673173\n",
      "  (0, 68601)\t0.070783673173\n"
     ]
    }
   ],
   "source": [
    "print X[0]"
   ]
  },
  {
   "cell_type": "code",
   "execution_count": 450,
   "metadata": {
    "collapsed": false
   },
   "outputs": [
    {
     "data": {
      "text/plain": [
       "(990, 219428)"
      ]
     },
     "execution_count": 450,
     "metadata": {},
     "output_type": "execute_result"
    }
   ],
   "source": [
    "X.shape"
   ]
  },
  {
   "cell_type": "code",
   "execution_count": 451,
   "metadata": {
    "collapsed": false
   },
   "outputs": [
    {
     "data": {
      "text/plain": [
       "TruncatedSVD(algorithm='randomized', n_components=30, n_iter=100,\n",
       "       random_state=None, tol=0.0)"
      ]
     },
     "execution_count": 451,
     "metadata": {},
     "output_type": "execute_result"
    }
   ],
   "source": [
    "lsa = TruncatedSVD(n_components=30, n_iter=100)\n",
    "lsa.fit(X)"
   ]
  },
  {
   "cell_type": "code",
   "execution_count": 452,
   "metadata": {
    "collapsed": false
   },
   "outputs": [
    {
     "data": {
      "text/plain": [
       "array([ 0.01515986,  0.00111014,  0.00034057, ...,  0.00023266,\n",
       "        0.00023266,  0.00023266])"
      ]
     },
     "execution_count": 452,
     "metadata": {},
     "output_type": "execute_result"
    }
   ],
   "source": [
    "lsa.components_[0]"
   ]
  },
  {
   "cell_type": "code",
   "execution_count": 453,
   "metadata": {
    "collapsed": false,
    "scrolled": false
   },
   "outputs": [
    {
     "name": "stdout",
     "output_type": "stream",
     "text": [
      "Concept 0:\n",
      "candida\n",
      "yeast\n",
      "dyer\n",
      "medical\n",
      "organization\n",
      "patients\n",
      "food\n",
      "noring\n",
      "disease\n",
      "rind\n",
      " \n",
      "Concept 1:\n",
      "photography\n",
      "caltech\n",
      "gps caltech\n",
      "gps\n",
      "pictures\n",
      "org\n",
      "kirlian\n",
      "vax vms hold\n",
      "vms hold\n",
      "mitre\n",
      " \n",
      "Concept 2:\n",
      "candida\n",
      "yeast\n",
      "noring\n",
      "rind\n",
      "dyer\n",
      "netcom\n",
      "quack\n",
      "enterprise\n",
      "noring netcom\n",
      "infj\n",
      " \n",
      "Concept 3:\n",
      "noring\n",
      "yeast\n",
      "netcom\n",
      "stephen\n",
      "infj\n",
      "pregnency\n",
      "pregnency sex\n",
      "noring netcom\n",
      "albicans\n",
      "candida albicans\n",
      " \n",
      "Concept 4:\n",
      "dyer\n",
      "dyer dyer\n",
      "hiv\n",
      "health\n",
      "netcom\n",
      "study\n",
      "medical newsletter\n",
      "1993\n",
      "volume april\n",
      "volume april 1993\n",
      " \n",
      "Concept 5:\n",
      "cancer\n",
      "hiv\n",
      "health\n",
      "aids\n",
      "april 1993\n",
      "april\n",
      "medical newsletter\n",
      "hicnet\n",
      "hicnet medical\n",
      "hicnet medical newsletter\n",
      " \n",
      "Concept 6:\n",
      "dyer\n",
      "medical\n",
      "candida\n",
      "disease\n",
      "vms\n",
      "stephen\n",
      "bacteria\n",
      "ocom\n",
      "ocom okstate\n",
      "okstate\n",
      " \n",
      "Concept 7:\n",
      "patients\n",
      "nystatin\n",
      "symptoms\n",
      "medical\n",
      "systemic\n",
      "colonization\n",
      "studies\n",
      "hiv\n",
      "excessive\n",
      "pain\n",
      " \n",
      "Concept 8:\n",
      "food\n",
      "dyer\n",
      "photography\n",
      "conventional wisdom\n",
      "calcium\n",
      "conventional\n",
      "risk\n",
      "fat\n",
      "wisdom\n",
      "clinical\n",
      " \n",
      "Concept 9:\n",
      "information\n",
      "netcom\n",
      "disease\n",
      "gps caltech\n",
      "cancer\n",
      "patients\n",
      "nasa\n",
      "gps\n",
      "skepticism\n",
      "understand\n",
      " \n",
      "Concept 10:\n",
      "fat\n",
      "vms\n",
      "vitamin\n",
      "diet\n",
      "candida\n",
      "pregnancy\n",
      "mucus membrane\n",
      "bloom\n",
      "host\n",
      "infection\n",
      " \n",
      "Concept 11:\n",
      "food\n",
      "chinese\n",
      "dyer\n",
      "cancer\n",
      "patients\n",
      "treatment\n",
      "yogurt\n",
      "org\n",
      "body\n",
      "yeast\n",
      " \n",
      "Concept 12:\n",
      "host\n",
      "kidney\n",
      "pittsburgh\n",
      "enterprise\n",
      "stones\n",
      "fat\n",
      "diseases\n",
      "sensitivity\n",
      "study\n",
      "kidney stones\n",
      " \n",
      "Concept 13:\n",
      "host\n",
      "infection\n",
      "pittsburgh\n",
      "vitamin\n",
      "food\n",
      "post\n",
      "ca\n",
      "mucus\n",
      "patients\n",
      "mind\n",
      " \n",
      "Concept 14:\n",
      "cancer\n",
      "treatment\n",
      "doctor\n",
      "symptoms\n",
      "med\n",
      "studies\n",
      "vms\n",
      "nutrition\n",
      "chromium\n",
      "physician\n",
      " \n",
      "Concept 15:\n",
      "ca\n",
      "pittsburgh\n",
      "food\n",
      "medical\n",
      "news\n",
      "keyboard\n",
      "18\n",
      "quack\n",
      "paulson\n",
      "patient\n",
      " \n",
      "Concept 16:\n",
      "candida\n",
      "health\n",
      "keyboard\n",
      "lyme\n",
      "mail\n",
      "body\n",
      "sinus\n",
      "effective\n",
      "sas\n",
      "symptoms\n",
      " \n",
      "Concept 17:\n",
      "keyboard\n",
      "netcom\n",
      "doctor\n",
      "disease\n",
      "food\n",
      "mail\n",
      "days\n",
      "doctors\n",
      "patients\n",
      "vitamin\n",
      " \n",
      "Concept 18:\n",
      "vitamin\n",
      "study\n",
      "treatment\n",
      "studies\n",
      "body\n",
      "dyer\n",
      "retinol\n",
      "host\n",
      "times\n",
      "medicine\n",
      " \n",
      "Concept 19:\n",
      "hiv\n",
      "doctor\n",
      "medical\n",
      "kidney\n",
      "17\n",
      "aids\n",
      "organization pittsburgh\n",
      "skepticism\n",
      "yeast\n",
      "calcium\n",
      " \n",
      "Concept 20:\n",
      "hiv\n",
      "dyer\n",
      "candida\n",
      "netcom\n",
      "weight\n",
      "org\n",
      "care\n",
      "licensed\n",
      "doctor\n",
      "ocom\n",
      " \n",
      "Concept 21:\n",
      "cancer\n",
      "food\n",
      "medical\n",
      "body\n",
      "candida\n",
      "organization pittsburgh\n",
      "pittsburgh\n",
      "diet\n",
      "albicans\n",
      "candida albicans\n",
      " \n",
      "Concept 22:\n",
      "cancer\n",
      "medical\n",
      "post\n",
      "symptoms\n",
      "patients\n",
      "dyer\n",
      "pain\n",
      "life\n",
      "standard\n",
      "vms\n",
      " \n",
      "Concept 23:\n",
      "tobacco\n",
      "smokeless\n",
      "smokeless tobacco\n",
      "coli\n",
      "treatment\n",
      "advice\n",
      "coli o157\n",
      "coli o157 h7\n",
      "h7\n",
      "o157\n",
      " \n",
      "Concept 24:\n",
      "host\n",
      "medical\n",
      "hiv\n",
      "keyboard\n",
      "information\n",
      "health\n",
      "organization\n",
      "mail\n",
      "symptoms\n",
      "perhaps\n",
      " \n",
      "Concept 25:\n",
      "medicine\n",
      "medical\n",
      "food\n",
      "doctor\n",
      "cesarean\n",
      "host\n",
      "malaria\n",
      "oct\n",
      "whether\n",
      "pain\n",
      " \n",
      "Concept 26:\n",
      "medicine\n",
      "food\n",
      "weight\n",
      "yeast\n",
      "body\n",
      "dyer\n",
      "system\n",
      "banschbach\n",
      "depression\n",
      "understand\n",
      " \n",
      "Concept 27:\n",
      "host\n",
      "pain\n",
      "food\n",
      "med\n",
      "yeast\n",
      "health\n",
      "distribution\n",
      "didn\n",
      "sensitivity superstition\n",
      "candida\n",
      " \n",
      "Concept 28:\n",
      "health\n",
      "hiv\n",
      "information\n",
      "netcom\n",
      "cesarean\n",
      "brain\n",
      "infection\n",
      "treatment\n",
      "care\n",
      "malaria\n",
      " \n",
      "Concept 29:\n",
      "vms\n",
      "candida\n",
      "infections\n",
      "diet\n",
      "symptoms\n",
      "kirlian\n",
      "put\n",
      "photography\n",
      "chronic\n",
      "aids\n",
      " \n"
     ]
    }
   ],
   "source": [
    "terms = vectorizer.get_feature_names()\n",
    "for i, comp in enumerate(lsa.components_): \n",
    "    termsInComp = zip (terms,comp)\n",
    "    sortedTerms =  sorted(termsInComp, key=lambda x: x[1], reverse=True) [:10]\n",
    "    print \"Concept %d:\" % i\n",
    "    for term in sortedTerms:\n",
    "        print term[0]\n",
    "    print \" \""
   ]
  },
  {
   "cell_type": "code",
   "execution_count": 454,
   "metadata": {
    "collapsed": false
   },
   "outputs": [
    {
     "data": {
      "text/plain": [
       "(30, 219428)"
      ]
     },
     "execution_count": 454,
     "metadata": {},
     "output_type": "execute_result"
    }
   ],
   "source": [
    "lsa.components_.shape"
   ]
  },
  {
   "cell_type": "code",
   "execution_count": null,
   "metadata": {
    "collapsed": true
   },
   "outputs": [],
   "source": []
  }
 ],
 "metadata": {
  "kernelspec": {
   "display_name": "Python 2",
   "language": "python",
   "name": "python2"
  },
  "language_info": {
   "codemirror_mode": {
    "name": "ipython",
    "version": 2
   },
   "file_extension": ".py",
   "mimetype": "text/x-python",
   "name": "python",
   "nbconvert_exporter": "python",
   "pygments_lexer": "ipython2",
   "version": "2.7.11"
  }
 },
 "nbformat": 4,
 "nbformat_minor": 0
}
